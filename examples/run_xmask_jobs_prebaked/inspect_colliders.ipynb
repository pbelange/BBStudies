{
 "cells": [
  {
   "cell_type": "code",
   "execution_count": 1,
   "metadata": {},
   "outputs": [],
   "source": [
    "import numpy as np\n",
    "import matplotlib.pyplot as plt\n",
    "import pandas as pd\n",
    "import scipy.stats as sciStat\n",
    "import nafflib\n",
    "import time\n",
    "import matplotlib.gridspec as gridspec\n",
    "\n",
    "# xsuite\n",
    "import xtrack as xt\n",
    "import xmask as xm\n",
    "import xfields as xf\n",
    "import xpart as xp\n",
    "\n",
    "\n",
    "# BBStudies\n",
    "import BBStudies.Tracking.XsuitePlus as xPlus\n",
    "import BBStudies.Tracking.Utils as xutils\n",
    "import BBStudies.Physics.Constants as cst\n",
    "import BBStudies.Physics.Base as phys\n",
    "import BBStudies.Plotting.BBPlots as bbplt\n",
    "\n",
    "from IPython.display import clear_output\n",
    "\n",
    "\n",
    "\n",
    "\n",
    "# Importing Collider and Twiss\n",
    "#-------------------------------------\n",
    "collider = xt.Multiline.from_json('colliders/collider_NO_OCTU.json')\n",
    "twiss = {}\n",
    "twiss['lhcb1'] = collider['lhcb1'].twiss().to_pandas()\n",
    "twiss['lhcb2'] = collider['lhcb2'].twiss().reverse().to_pandas()\n",
    "#-------------------------------------\n",
    "\n",
    "\n",
    "# Filtering twiss to get rid of slices, entries and exits\n",
    "#-------------------------------------\n",
    "light_twiss = {}\n",
    "for sequence in ['lhcb1','lhcb2']:\n",
    "    light_twiss[sequence] = xPlus.filter_twiss(twiss[sequence].set_index('name'),entries=['drift','..','_entry','_exit']).reset_index()\n",
    "#-------------------------------------\n",
    "\n",
    "clear_output()"
   ]
  }
 ],
 "metadata": {
  "kernelspec": {
   "display_name": "py-BB",
   "language": "python",
   "name": "py-bb"
  },
  "language_info": {
   "codemirror_mode": {
    "name": "ipython",
    "version": 3
   },
   "file_extension": ".py",
   "mimetype": "text/x-python",
   "name": "python",
   "nbconvert_exporter": "python",
   "pygments_lexer": "ipython3",
   "version": "3.10.13"
  }
 },
 "nbformat": 4,
 "nbformat_minor": 2
}
