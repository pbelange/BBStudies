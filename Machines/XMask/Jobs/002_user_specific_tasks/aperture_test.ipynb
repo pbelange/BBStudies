{
 "cells": [
  {
   "cell_type": "markdown",
   "metadata": {},
   "source": [
    "# Importing Line"
   ]
  },
  {
   "cell_type": "code",
   "execution_count": 1,
   "metadata": {},
   "outputs": [
    {
     "name": "stdout",
     "output_type": "stream",
     "text": [
      "Loading collider...\n",
      "Done loading line from dict.           \n",
      "Done loading line from dict.           \n",
      "Done loading line from dict.           \n",
      "Done loading line from dict.           \n",
      "Installing collimators...\n",
      "Installing tcp.d6l7.b1 in lhcb1...\n",
      "Installing tcp.c6l7.b1 in lhcb1...\n",
      "Installing tcp.b6l7.b1 in lhcb1...\n",
      "Installing tcp.d6r7.b2 in lhcb2...\n",
      "Installing tcp.c6r7.b2 in lhcb2...\n",
      "Installing tcp.b6r7.b2 in lhcb2...\n",
      "Compiling ContextCpu kernels...\n"
     ]
    },
    {
     "name": "stderr",
     "output_type": "stream",
     "text": [
      "caaf5272b2604556bdd3119505a41ca9.c:5035:11: warning: '_GNU_SOURCE' macro redefined [-Wmacro-redefined]\n",
      "#  define _GNU_SOURCE // enable GNU libc NAN extension if possible\n",
      "          ^\n",
      "/Users/pbelanger/ABPLocal/BBStudies/Executables/miniforge3/envs/py-BB/include/python3.11/pyconfig.h:1690:10: note: previous definition is here\n",
      "# define _GNU_SOURCE 1\n",
      "         ^\n",
      "caaf5272b2604556bdd3119505a41ca9.c:18266:12: warning: variable 'gamma' set but not used [-Wunused-but-set-variable]\n",
      "    double gamma          = energy / m0;     // [1]\n",
      "           ^\n",
      "caaf5272b2604556bdd3119505a41ca9.c:18532:9: warning: variable 'i' set but not used [-Wunused-but-set-variable]\n",
      "    int i=0;\n",
      "        ^\n",
      "caaf5272b2604556bdd3119505a41ca9.c:18620:62: warning: variable 'ps_e_prime' set but not used [-Wunused-but-set-variable]\n",
      "    double e_e_prime, px_e_prime, py_e_prime, pzeta_e_prime, ps_e_prime, pt_e_prime;  // [GeV, 1, 1, 1, 1, 1] scattered primary\n",
      "                                                             ^\n",
      "caaf5272b2604556bdd3119505a41ca9.c:18623:12: warning: unused variable 'e_loss_primary_tot' [-Wunused-variable]\n",
      "    double e_loss_primary_tot = 0.0;  // [GeV] total energy lost by the macroparticle\n",
      "           ^\n",
      "caaf5272b2604556bdd3119505a41ca9.c:18871:21: warning: variable 'lumi_table_index' set but not used [-Wunused-but-set-variable]\n",
      "        RecordIndex lumi_table_index               = NULL;\n",
      "                    ^\n",
      "caaf5272b2604556bdd3119505a41ca9.c:18782:18: warning: unused variable 'pzeta_slice_star' [-Wunused-variable]\n",
      "    const double pzeta_slice_star = BeamBeamBiGaussian3DData_get_slices_other_beam_pzeta_center_star(el, i_slice);\n",
      "                 ^\n",
      "7 warnings generated.\n",
      "ld: warning: -pie being ignored. It is only used when linking a main executable\n"
     ]
    },
    {
     "name": "stdout",
     "output_type": "stream",
     "text": [
      "Done compiling ContextCpu kernels.\n",
      "Compiling ContextCpu kernels...\n"
     ]
    },
    {
     "name": "stderr",
     "output_type": "stream",
     "text": [
      "92631357c6514561971657f0b0ba9749.c:5035:11: warning: '_GNU_SOURCE' macro redefined [-Wmacro-redefined]\n",
      "#  define _GNU_SOURCE // enable GNU libc NAN extension if possible\n",
      "          ^\n",
      "/Users/pbelanger/ABPLocal/BBStudies/Executables/miniforge3/envs/py-BB/include/python3.11/pyconfig.h:1690:10: note: previous definition is here\n",
      "# define _GNU_SOURCE 1\n",
      "         ^\n",
      "92631357c6514561971657f0b0ba9749.c:18266:12: warning: variable 'gamma' set but not used [-Wunused-but-set-variable]\n",
      "    double gamma          = energy / m0;     // [1]\n",
      "           ^\n",
      "92631357c6514561971657f0b0ba9749.c:18532:9: warning: variable 'i' set but not used [-Wunused-but-set-variable]\n",
      "    int i=0;\n",
      "        ^\n",
      "92631357c6514561971657f0b0ba9749.c:18620:62: warning: variable 'ps_e_prime' set but not used [-Wunused-but-set-variable]\n",
      "    double e_e_prime, px_e_prime, py_e_prime, pzeta_e_prime, ps_e_prime, pt_e_prime;  // [GeV, 1, 1, 1, 1, 1] scattered primary\n",
      "                                                             ^\n",
      "92631357c6514561971657f0b0ba9749.c:18623:12: warning: unused variable 'e_loss_primary_tot' [-Wunused-variable]\n",
      "    double e_loss_primary_tot = 0.0;  // [GeV] total energy lost by the macroparticle\n",
      "           ^\n",
      "92631357c6514561971657f0b0ba9749.c:18871:21: warning: variable 'lumi_table_index' set but not used [-Wunused-but-set-variable]\n",
      "        RecordIndex lumi_table_index               = NULL;\n",
      "                    ^\n",
      "92631357c6514561971657f0b0ba9749.c:18782:18: warning: unused variable 'pzeta_slice_star' [-Wunused-variable]\n",
      "    const double pzeta_slice_star = BeamBeamBiGaussian3DData_get_slices_other_beam_pzeta_center_star(el, i_slice);\n",
      "                 ^\n",
      "7 warnings generated.\n",
      "ld: warning: -pie being ignored. It is only used when linking a main executable\n"
     ]
    },
    {
     "name": "stdout",
     "output_type": "stream",
     "text": [
      "Done compiling ContextCpu kernels.\n"
     ]
    }
   ],
   "source": [
    "\n",
    "import numpy as np\n",
    "import pandas as pd\n",
    "from pathlib import Path\n",
    "import gc\n",
    "\n",
    "\n",
    "# xsuite\n",
    "import xtrack as xt\n",
    "import xmask as xm\n",
    "import xfields as xf\n",
    "import xpart as xp\n",
    "\n",
    "# BBStudies\n",
    "import sys\n",
    "sys.path.append('/Users/pbelanger/ABPLocal/BBStudies')\n",
    "import BBStudies.Tracking.XsuitePlus as xPlus\n",
    "import BBStudies.Tracking.InteractionPoint as inp\n",
    "import BBStudies.Physics.Detuning as tune\n",
    "import BBStudies.Plotting.BBPlots as bbplt\n",
    "import BBStudies.Physics.Base as phys\n",
    "import BBStudies.Physics.Constants as cst\n",
    "\n",
    "# JOB imports\n",
    "from main import user_specific_tasks\n",
    "\n",
    "\n",
    "# Load collider and install collimators\n",
    "collider = user_specific_tasks( config_path       = \"config.yaml\",\n",
    "                                collider_path     = \"../001_configure_collider/zfruits/collider_001.json\",\n",
    "                                collider_out_path = None,\n",
    "                                collider          = None)\n",
    "twiss_full = {}\n",
    "twiss_full['lhcb1'] = collider['lhcb1'].twiss().to_pandas()\n",
    "twiss_full['lhcb2'] = collider['lhcb2'].twiss().reverse().to_pandas()\n",
    "\n",
    "# Filtering twiss to get rid of slices\n",
    "twiss = {}\n",
    "for sequence in ['lhcb1','lhcb2']:\n",
    "    twiss[sequence] = xPlus.filter_twiss(twiss_full[sequence].set_index('name'),entries=['drift','..','_entry','_exit']).reset_index()\n",
    "\n"
   ]
  },
  {
   "cell_type": "code",
   "execution_count": 4,
   "metadata": {},
   "outputs": [
    {
     "data": {
      "text/plain": [
       "['tcp.d6l7.b1_aper', 'tcp.c6l7.b1_aper', 'tcp.b6l7.b1_aper']"
      ]
     },
     "execution_count": 4,
     "metadata": {},
     "output_type": "execute_result"
    }
   ],
   "source": [
    "[name for name in twiss['lhcb1'].name if '_aper' in name]"
   ]
  },
  {
   "cell_type": "code",
   "execution_count": 12,
   "metadata": {},
   "outputs": [
    {
     "data": {
      "text/plain": [
       "LimitPolygon(x_vertices=[ 0.001301  0.001301 -0.001301 -0.001301], y_vertices=[-1.  1.  1. -1.], x_normal=[-1. -0.  1. -0.], y_normal=[ 0. -1.  0.  1.], resc_fac=2.0)"
      ]
     },
     "execution_count": 12,
     "metadata": {},
     "output_type": "execute_result"
    }
   ],
   "source": [
    "collider['lhcb1'].element_dict['tcp.c6l7.b1_aper']"
   ]
  },
  {
   "cell_type": "markdown",
   "metadata": {},
   "source": [
    "---\n",
    "# Plotting Collimator settings\n",
    "---"
   ]
  },
  {
   "cell_type": "code",
   "execution_count": 2,
   "metadata": {},
   "outputs": [
    {
     "data": {
      "text/plain": [
       "Text(0.5, 0, 'x [m]')"
      ]
     },
     "execution_count": 2,
     "metadata": {},
     "output_type": "execute_result"
    },
    {
     "data": {
      "image/png": "[encoded data removed]",
      "text/plain": [
       "<Figure size 640x480 with 1 Axes>"
      ]
     },
     "metadata": {},
     "output_type": "display_data"
    }
   ],
   "source": [
    "import matplotlib.pyplot as plt\n",
    "\n",
    "from main import read_configuration, collimator\n",
    "\n",
    "# Loading config\n",
    "config_collimators = read_configuration(config_path='config.yaml')\n",
    "\n",
    "\n",
    "# Creating collimator objects\n",
    "apertures = {}\n",
    "for name,info in config_collimators['collimators'].items():\n",
    "    apertures[name] = collimator(gap = info['gap'],tilt=info['tilt'],center=[0,0])\n",
    "\n",
    "\n",
    "\n",
    "plt.figure()\n",
    "ee = apertures['tcp.d6l7.b1'].element\n",
    "plt.plot(ee.x_vertices,ee.y_vertices,'-o',label='tcp.d6l7.b1')\n",
    "\n",
    "ee = apertures['tcp.c6l7.b1'].element\n",
    "plt.plot(ee.x_vertices,ee.y_vertices,'-o',label='tcp.c6l7.b1')\n",
    "\n",
    "ee = apertures['tcp.b6l7.b1'].element\n",
    "plt.plot(ee.x_vertices,ee.y_vertices,'-o',label='tcp.b6l7.b1')\n",
    "\n",
    "plt.legend()\n",
    "plt.axis('equal')\n",
    "plt.xlim([-5e-3,5e-3])\n",
    "plt.ylim([-5e-3,5e-3])\n",
    "\n",
    "plt.ylabel('y [m]')\n",
    "plt.xlabel('x [m]')\n",
    "\n"
   ]
  }
 ],
 "metadata": {
  "kernelspec": {
   "display_name": "py-BB",
   "language": "python",
   "name": "py-bb"
  },
  "language_info": {
   "codemirror_mode": {
    "name": "ipython",
    "version": 3
   },
   "file_extension": ".py",
   "mimetype": "text/x-python",
   "name": "python",
   "nbconvert_exporter": "python",
   "pygments_lexer": "ipython3",
   "version": "3.11.5"
  },
  "orig_nbformat": 4
 },
 "nbformat": 4,
 "nbformat_minor": 2
}
