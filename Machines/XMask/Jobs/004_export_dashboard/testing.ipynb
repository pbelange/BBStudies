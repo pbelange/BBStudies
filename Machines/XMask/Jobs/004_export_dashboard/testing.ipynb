{
 "cells": [
  {
   "cell_type": "code",
   "execution_count": null,
   "metadata": {},
   "outputs": [],
   "source": [
    "\n",
    "import numpy as np\n",
    "import pandas as pd\n",
    "from pathlib import Path\n",
    "import gc\n",
    "\n",
    "# BOKEH\n",
    "import bokeh.plotting as bk\n",
    "import bokeh.models as bkmod\n",
    "import bokeh.layouts as bklay\n",
    "import bokeh.palettes as bkpalettes\n",
    "\n",
    "bk.output_notebook()\n",
    "\n",
    "# xsuite\n",
    "import xtrack as xt\n",
    "import xmask as xm\n",
    "import xfields as xf\n",
    "import xpart as xp\n",
    "\n",
    "# Custom imports\n",
    "import bokeh_tools as bktools\n",
    "import Presets as bkpresets\n",
    "\n",
    "# BBStudies\n",
    "import sys\n",
    "sys.path.append('/Users/pbelanger/ABPLocal/BBStudies')\n",
    "import BBStudies.Tracking.XsuitePlus as xPlus\n",
    "import BBStudies.Tracking.InteractionPoint as inp\n",
    "import BBStudies.Physics.Detuning as tune\n",
    "import BBStudies.Plotting.BBPlots as bbplt\n",
    "import BBStudies.Physics.Base as phys\n",
    "import BBStudies.Physics.Constants as cst\n",
    "\n",
    "\n",
    "\n",
    "# Setting default values\n",
    "#------------------------------------------------\n",
    "# _default_fig_width  = 2000\n",
    "_default_fig_width  = 1500\n",
    "_default_fig_height = 400\n",
    "_default_fig_pad    = 100\n",
    "\n"
   ]
  },
  {
   "cell_type": "markdown",
   "metadata": {},
   "source": []
  },
  {
   "cell_type": "code",
   "execution_count": null,
   "metadata": {},
   "outputs": [],
   "source": [
    "collider = xt.Multiline.from_json('../001_configure_collider/zfruits/collider_001.json')\n",
    "twiss = {}\n",
    "twiss['lhcb1'] = collider['lhcb1'].twiss().to_pandas()\n",
    "twiss['lhcb2'] = collider['lhcb2'].twiss().reverse().to_pandas()\n",
    "\n",
    "light_twiss = {}\n",
    "# Filtering twiss to get rid of slices\n",
    "for sequence in ['lhcb1','lhcb2']:\n",
    "    light_twiss[sequence] = xPlus.filter_twiss(twiss[sequence].set_index('name'),entries=['drift','..']).reset_index()"
   ]
  },
  {
   "cell_type": "code",
   "execution_count": null,
   "metadata": {},
   "outputs": [],
   "source": [
    "sequence = 'lhcb1'\n",
    "lattice_df = bktools.extract_lattice_info(collider[sequence],twiss[sequence])\n",
    "bblr_info  = bktools.extract_bblr_info(collider[sequence],twiss[sequence])\n",
    "collimator_info = bktools.extract_collimation_info(collider[sequence],twiss[sequence])"
   ]
  },
  {
   "cell_type": "code",
   "execution_count": null,
   "metadata": {},
   "outputs": [],
   "source": []
  },
  {
   "cell_type": "code",
   "execution_count": null,
   "metadata": {},
   "outputs": [],
   "source": []
  },
  {
   "cell_type": "code",
   "execution_count": null,
   "metadata": {},
   "outputs": [],
   "source": [
    "sequence = 'lhcb1'\n",
    "bblr_info  = bktools.extract_bblr_info(collider[sequence],twiss[sequence])\n",
    "display(bblr_info[bblr_info.name.apply(lambda name: float(name.split('_')[-1])<3)])\n",
    "\n",
    "sequence = 'lhcb2'\n",
    "bblr_info  = bktools.extract_bblr_info(collider[sequence],twiss[sequence])\n",
    "display(bblr_info[bblr_info.name.apply(lambda name: float(name.split('_')[-1])<3)])\n",
    "\n",
    "\n",
    "\n",
    "considered_strength = []\n",
    "for sequence in ['lhcb1','lhcb2']:\n",
    "    bblr_info   = bktools.extract_bblr_info(collider[sequence],twiss[sequence])\n",
    "    considered_strength.append(bblr_info.strength.abs().max())\n",
    "ref_bblr = np.max(considered_strength)\n",
    "ref_bblr"
   ]
  },
  {
   "cell_type": "code",
   "execution_count": null,
   "metadata": {},
   "outputs": [],
   "source": [
    "bblr_info.groupby(bblr_info.name.apply(lambda name:name[7])).count()"
   ]
  },
  {
   "cell_type": "code",
   "execution_count": null,
   "metadata": {},
   "outputs": [],
   "source": [
    "for IP,sub_bblr in bblr_info.groupby(bblr_info.name.apply(lambda name:name[7])):\n",
    "    print(f\"For IP{IP} :\\n\" + 40*'=')\n",
    "    for _bblr in sub_bblr.name:\n",
    "        print(collider[sequence].element_dict[_bblr].scale_strength)"
   ]
  },
  {
   "cell_type": "code",
   "execution_count": null,
   "metadata": {},
   "outputs": [],
   "source": [
    "multipoles.groupby('type').get_group('dipole')"
   ]
  },
  {
   "cell_type": "code",
   "execution_count": null,
   "metadata": {},
   "outputs": [],
   "source": [
    "[name for name in twiss['lhcb1'].name if '_den' in name]"
   ]
  },
  {
   "cell_type": "code",
   "execution_count": null,
   "metadata": {},
   "outputs": [],
   "source": [
    "rich.inspect(collider['lhcb1'].element_dict['mbw.c6r3.b1_den'])"
   ]
  },
  {
   "cell_type": "code",
   "execution_count": null,
   "metadata": {},
   "outputs": [],
   "source": [
    "light_twiss = {}\n",
    "# Filtering twiss to get rid of slices\n",
    "for sequence in ['lhcb1','lhcb2']:\n",
    "    light_twiss[sequence] = xPlus.filter_twiss(twiss[sequence].set_index('name'),entries=['drift','..','_entry','_exit']).reset_index()"
   ]
  },
  {
   "cell_type": "code",
   "execution_count": null,
   "metadata": {},
   "outputs": [],
   "source": [
    "import importlib\n",
    "bkpresets = importlib.reload(bkpresets)\n",
    "bktools = importlib.reload(bktools)\n",
    "\n",
    "BOKEH_FIGS = {}\n",
    "\n",
    "BOKEH_FIGS['twiss']   =  bkpresets.make_Twiss_Fig(collider,light_twiss,width=_default_fig_width,height=_default_fig_height)\n",
    "BOKEH_FIGS['lattice'] =  bkpresets.make_LHC_Layout_Fig(collider,twiss,width=_default_fig_width,height=_default_fig_height)\n",
    "\n",
    "\n"
   ]
  },
  {
   "cell_type": "code",
   "execution_count": null,
   "metadata": {},
   "outputs": [],
   "source": [
    "BOKEH_FIGS['lattice'].xaxis[1].visible = False\n",
    "BOKEH_FIGS['twiss'].x_range = BOKEH_FIGS['lattice'].x_range\n",
    "\n",
    "# BOKEH_FIGS['twiss'].frame_height = _default_fig_height\n",
    "BOKEH_FIGS['twiss'].height = 3*_default_fig_height\n",
    "BOKEH_FIGS['twiss'].min_border_bottom = 2*_default_fig_height\n",
    "bk.show(bklay.column(BOKEH_FIGS['lattice'],BOKEH_FIGS['twiss']))"
   ]
  },
  {
   "cell_type": "code",
   "execution_count": null,
   "metadata": {},
   "outputs": [],
   "source": [
    "sequence = 'lhcb1'\n",
    "collimator_info = bktools.extract_collimation_info(collider[sequence],twiss[sequence])"
   ]
  },
  {
   "cell_type": "code",
   "execution_count": null,
   "metadata": {},
   "outputs": [],
   "source": [
    "bbcw_group = collimator_info.groupby('type').get_group('BBCW')\n",
    "\n",
    "ee_type = 'BBCW Down'\n",
    "if ee_type == 'BBCW UP':\n",
    "    group   = bbcw_group.loc[bbcw_group.name.apply(lambda name:name[4] in ['t','e'])]\n",
    "else:\n",
    "    group  = bbcw_group.loc[bbcw_group.name.apply(lambda name:name[4] in ['b','i'])]\n",
    "group"
   ]
  },
  {
   "cell_type": "code",
   "execution_count": null,
   "metadata": {},
   "outputs": [],
   "source": [
    "bbcw_group"
   ]
  },
  {
   "cell_type": "code",
   "execution_count": null,
   "metadata": {},
   "outputs": [],
   "source": [
    "[name for name in twiss['lhcb1'].name if 'bbcw' in name]"
   ]
  },
  {
   "cell_type": "code",
   "execution_count": null,
   "metadata": {},
   "outputs": [],
   "source": [
    "tw_data.groupby(tw_data.name.apply(lambda name:name.split('_')[0])).count()"
   ]
  },
  {
   "cell_type": "code",
   "execution_count": null,
   "metadata": {},
   "outputs": [],
   "source": [
    "b_slots = np.ones\n",
    "{  'ATLAS' : int(0/8 * (len(b_slots) * 2)),\n",
    "'ALICE' : int(1/8 * (len(b_slots) * 2)),\n",
    "'CMS'   : int(4/8 * (len(b_slots) * 2)),\n",
    "'LHCB'  : int(7/8 * (len(b_slots) * 2)) - 3 }"
   ]
  },
  {
   "cell_type": "code",
   "execution_count": null,
   "metadata": {},
   "outputs": [],
   "source": [
    "for (name,tw_group) in tw_data.groupby(tw_data.name.apply(lambda name:name.split('_')[0])):\n",
    "    print(tw_group)"
   ]
  },
  {
   "cell_type": "code",
   "execution_count": null,
   "metadata": {},
   "outputs": [],
   "source": [
    "tw_group.s.mean()"
   ]
  },
  {
   "cell_type": "code",
   "execution_count": null,
   "metadata": {},
   "outputs": [],
   "source": [
    "tw_data.groupby(tw_data.name.apply(lambda name:name.split('_')[0])).s.max()"
   ]
  },
  {
   "cell_type": "code",
   "execution_count": null,
   "metadata": {},
   "outputs": [],
   "source": [
    "test = 'tctpv.4l5.b1'\n",
    "\n",
    "[_type_dict[key] for key in _type_dict.keys() if key in test][0]"
   ]
  },
  {
   "cell_type": "code",
   "execution_count": null,
   "metadata": {},
   "outputs": [],
   "source": [
    "# def extract_lattice_info(line,twiss):\n",
    "\n",
    "# Finding magnets by _order component of Mulitpole\n",
    "_type_dict     = {'tcp.':'Primary','tcsg.':'Secondary','tcla.':'Absorber','tctp':'Tertiary','bbcw':'Wire'}\n",
    "_length_dict   = {'Primary': 0.6, 'Secondary': 1.0, 'Absorber':1.0,'Tertiary': 1.0,'Wire':1.0} \n",
    "_strength_dict = {'Primary': 0.5, 'Secondary': 0.35, 'Absorber':0.2,'Tertiary': 0.2,'Wire':0.1}\n",
    "\n",
    "tw = twiss['lhcb1']\n",
    "# Creating lattice dictionary\n",
    "lattice =  {}\n",
    "lattice['name']    = []    \n",
    "lattice['type']    = []\n",
    "lattice['length']  = []\n",
    "lattice['s']       = []\n",
    "lattice['s_entry'] = []\n",
    "lattice['s_exit']  = []\n",
    "lattice['strength']= []\n",
    "\n",
    "# Iterating through the elements\n",
    "all_colls = []\n",
    "for _type in _type_dict.keys():\n",
    "    all_colls += [name for name in twiss['lhcb1'].name if _type in name]\n",
    "\n",
    "# s_values       = pd.DataFrame({'s':line.get_s_elements(mode='upstream')},index=line.element_names).loc[all_multipoles[1],'s'].values\n",
    "tw_data        = tw.set_index('name').loc[all_colls,['s']].reset_index()\n",
    "\n",
    "# for ee,name,s in zip(*all_multipoles,s_values):\n",
    "for (name,tw_group) in tw_data.groupby(tw_data.name.apply(lambda name:name.split('_')[0])):\n",
    "    \n",
    "    _type   = [_type_dict[key] for key in _type_dict.keys() if key in name][0]\n",
    "    _length = _length_dict[_type]\n",
    "\n",
    "    lattice['name'].append(name)\n",
    "    lattice['type'].append(_type)\n",
    "    lattice['length'].append(_length)\n",
    "    lattice['s'].append(tw_group.s.min()+_length/2)\n",
    "    lattice['s_entry'].append(tw_group.s.min())\n",
    "    lattice['s_exit'].append(tw_group.s.min()+_length)\n",
    "    lattice['strength'].append(_strength_dict[_type])\n",
    "\n",
    "test = pd.DataFrame(lattice).sort_values(by='s').reset_index(drop=True)\n"
   ]
  },
  {
   "cell_type": "code",
   "execution_count": null,
   "metadata": {},
   "outputs": [],
   "source": [
    "group = test.groupby('type').get_group('Wire')"
   ]
  },
  {
   "cell_type": "code",
   "execution_count": null,
   "metadata": {},
   "outputs": [],
   "source": [
    "group"
   ]
  },
  {
   "cell_type": "code",
   "execution_count": null,
   "metadata": {},
   "outputs": [],
   "source": [
    "group.groupby(group.name.apply(lambda name:'up' if name.split('bbcw')[1][0] in ['t','e'] else 'down')).count()"
   ]
  },
  {
   "cell_type": "code",
   "execution_count": null,
   "metadata": {},
   "outputs": [],
   "source": [
    "[name for name in twiss['lhcb1'].name if 'bbcw' in name]"
   ]
  },
  {
   "cell_type": "code",
   "execution_count": null,
   "metadata": {},
   "outputs": [],
   "source": [
    "[name for name in twiss['lhcb1'].name if 'tct' in name]"
   ]
  },
  {
   "cell_type": "code",
   "execution_count": null,
   "metadata": {},
   "outputs": [],
   "source": [
    "collider['lhcb1'].element_dict['tctph.4l2.b1']"
   ]
  },
  {
   "cell_type": "code",
   "execution_count": null,
   "metadata": {},
   "outputs": [],
   "source": [
    "bkpalettes.Category20c[20] + bkpalettes.Category20b[20]"
   ]
  },
  {
   "cell_type": "code",
   "execution_count": null,
   "metadata": {},
   "outputs": [],
   "source": [
    "BOKEH_FIGS['twiss'].frame_height\n",
    "\n",
    "# New axis function\n",
    "#=====================================\n",
    "def new_y_axis(fig,axis_name,side='none'):\n",
    "    fig.extra_y_ranges[axis_name] = bkmod.Range1d(0,1)\n",
    "    _ax = bkmod.LinearAxis(y_range_name=axis_name)\n",
    "    if side == 'none':\n",
    "        pass\n",
    "    else:\n",
    "        fig.add_layout(_ax,side)\n",
    "\n",
    "    return _ax,axis_name\n",
    "\n",
    "def new_x_axis(fig,axis_name,side='none'):\n",
    "    fig.extra_x_ranges[axis_name] = bkmod.Range1d(0,1)\n",
    "    _ax = bkmod.LinearAxis(x_range_name=axis_name)\n",
    "    if side == 'none':\n",
    "        pass\n",
    "    else:\n",
    "        fig.add_layout(_ax,side)\n",
    "\n",
    "    return _ax,axis_name\n",
    "#=====================================\n",
    "\n",
    "\n",
    "# Creating Figure\n",
    "#=====================================\n",
    "fig = bk.figure(output_backend  = \"webgl\",\n",
    "                height          = _default_fig_height, \n",
    "                width           = 2*_default_fig_width,\n",
    "                title           = \"Twiss parameters\", \n",
    "                tools           = \"box_zoom,pan,reset,save,hover,wheel_zoom\",\n",
    "                active_drag     = \"box_zoom\",\n",
    "                active_scroll   = \"wheel_zoom\",\n",
    "                toolbar_location= \"right\")\n",
    "\n",
    "# No grid\n",
    "# fig.grid.visible = False\n",
    "\n",
    "# Saving tools to tags\n",
    "fig.tags    = [ {str(type(t)).split('.')[-1].split('\\'')[0]:t for t in fig.tools},\n",
    "                {'palette':bkpalettes.Spectral11 + bkpalettes.PiYG11 + bkpalettes.RdPu9 + bkpalettes.RdGy11}]\n",
    "# fig.tags[0]['BoxZoomTool'].update(dimensions = 'width')\n",
    "fig.tags[0]['WheelZoomTool'].update(dimensions = 'height')\n",
    "fig.tags[0]['HoverTool'].update(tooltips = [('Variable', '$name'),('s [m]','$x{0}'),(f'Value', '$y'),('Element','@name')])\n",
    "#=====================================\n",
    "\n",
    "\n",
    "# ii = 0\n",
    "legends = {}\n",
    "for beam,tw,ls,legend_colour in zip(['b1','b2'],[twiss['lhcb1'],twiss['lhcb2']],['solid',[3,1]],['blue','red']):\n",
    "    source = bkmod.ColumnDataSource(tw.drop(columns=['W_matrix']))\n",
    "    _line_list = []\n",
    "    for key,color in zip(tw.columns.drop(['W_matrix','name','s']),fig.tags[1]['palette']):#tw.columns.drop(['W_matrix','name','s'])\n",
    "        # fig.line(tw_b1['s'],tw_b1[key], line_width=2, color=color, alpha=0.8, legend_label=key)\n",
    "        if (key in ['betx','bety'])&(beam=='b1'):\n",
    "            _visible = True\n",
    "        else:\n",
    "            _visible = False\n",
    "        _line = fig.line(x='s',y=key, line_width=2, color=color, alpha=0.8, line_dash=ls,name=key,legend_label=key,source=source,visible=_visible)\n",
    "        _line_list.append((key,[_line]))\n",
    "\n",
    "    # fig.legend.location = \"top_left\"\n",
    "    legends[beam] = bkmod.Legend(items=_line_list,click_policy=\"hide\",title=f'Beam {beam[-1]}')\n",
    "    \n",
    "    legends[beam].border_line_width = 2\n",
    "    legends[beam].border_line_color = legend_colour\n",
    "    legends[beam].border_line_alpha = 0.8\n",
    "\n",
    "    # legends[beam].orientation = \"horizontal\"\n",
    "\n",
    "\n",
    "\n",
    "\n",
    "fig.add_layout(legends['b1'], 'right')\n",
    "fig.add_layout(legends['b2'], 'right')\n",
    "# Removing original legend\n",
    "fig.legend[-1].visible=False\n",
    "# placing legend2 at the top\n",
    "\n",
    "fig.xaxis.axis_label = \"Position, s [m]\"\n",
    "fig.yaxis.axis_label = \"Value\"\n",
    "fig.y_range.only_visible = True\n",
    "bk.show(fig)"
   ]
  },
  {
   "cell_type": "code",
   "execution_count": null,
   "metadata": {},
   "outputs": [],
   "source": [
    "fig.y_range.only_visible"
   ]
  },
  {
   "cell_type": "code",
   "execution_count": null,
   "metadata": {},
   "outputs": [],
   "source": [
    "tw.drop(columns=['W_matrix'])"
   ]
  },
  {
   "cell_type": "code",
   "execution_count": null,
   "metadata": {},
   "outputs": [],
   "source": [
    "tw"
   ]
  },
  {
   "cell_type": "code",
   "execution_count": null,
   "metadata": {},
   "outputs": [],
   "source": [
    "\n",
    "\n",
    "\n",
    "\n",
    "\n",
    "# Creating Figure\n",
    "#=====================================\n",
    "fig = bk.figure(output_backend  = \"webgl\",\n",
    "                height          = _default_fig_height, \n",
    "                width           = _default_fig_width,\n",
    "                title           = \"Lattice\", \n",
    "                tools           = \"box_zoom,pan,reset,save,hover,wheel_zoom\",\n",
    "                active_drag     = \"box_zoom\",\n",
    "                active_scroll   = \"wheel_zoom\",\n",
    "                toolbar_location= \"right\")\n",
    "\n",
    "# No grid and y axis but adding 0 line\n",
    "fig.grid.visible = False\n",
    "\n",
    "\n",
    "\n",
    "# Saving tools to tags\n",
    "fig.tags    = [ {str(type(t)).split('.')[-1].split('\\'')[0]:t for t in fig.tools},\n",
    "                {'palette':bkpalettes.Spectral11 + bkpalettes.PiYG11 + bkpalettes.RdPu9 + bkpalettes.RdGy11}]\n",
    "fig.tags[0]['BoxZoomTool'].update(dimensions = 'width')\n",
    "fig.tags[0]['WheelZoomTool'].update(dimensions = 'height')\n",
    "fig.tags[0]['HoverTool'].update(tooltips = [('Element','@name'),('s [m]','$x{0}'),('Magnet','@type')])\n",
    "#=====================================\n",
    "\n",
    "\n",
    "for sequence,baseline,beam_color in zip(['lhcb1','lhcb2'],[1.5,-1.5],['blue','red']):\n",
    "    beam       = sequence[-2:]\n",
    "    lattice_df = bktools.extract_lattice_info(collider[sequence],twiss[sequence])\n",
    "    bblr_info  = bktools.extract_bblr_info(collider[sequence],twiss[sequence])\n",
    "    tw         = twiss[sequence]\n",
    "\n",
    "    # Adding 0 line\n",
    "    fig.hspan(y=[baseline],line_width=[1], line_color=\"black\")\n",
    "    fig.hspan(y=[-1.05+baseline,1.05+baseline],line_width=[2,2], line_color=beam_color)\n",
    "    fig.varea(x=[tw.s.min(),tw.s.max()],y1=[-1.05+baseline,-1.05+baseline], y2=[1.05+baseline,1.05+baseline], alpha=0.05,fill_color=beam_color)   \n",
    "\n",
    "    # Making step function for each element\n",
    "    for ee_type,color in zip(['dipole','quadrupole','sextupole','octupole','bblr'],['royalblue','firebrick','forestgreen','darkmagenta','black']):\n",
    "        \n",
    "        if ee_type != 'bblr':\n",
    "            group   = lattice_df.groupby('type').get_group(ee_type)\n",
    "            legend_label = ee_type.capitalize()\n",
    "        else:\n",
    "            # Adding BBLR contribution\n",
    "            group = bblr_info.rename(columns={'strength':'knl'})\n",
    "            legend_label = ee_type.upper()\n",
    "\n",
    "        element_line_x = [[_entry,_entry,_exit,_exit] for _entry,_exit in zip(group.s_entry,group.s_exit)] \n",
    "        element_line_y = [[0,_knl,_knl,0] for _knl in group.knl] \n",
    "\n",
    "        element_df = pd.DataFrame({'x':np.array(element_line_x).flatten(),'y':np.array(element_line_y).flatten()})    \n",
    "        element_line_x = np.array(element_line_x).flatten()\n",
    "        element_line_y = np.array(element_line_y).flatten()\n",
    "        element_baseline = np.zeros(len(element_line_x))\n",
    "\n",
    "        if ee_type == 'dipole':\n",
    "            element_line_y   = 0.2*np.divide(element_line_y,element_line_y,out=np.zeros(len(element_line_y)),where=element_line_y!=0)\n",
    "            element_baseline = -element_line_y \n",
    "        else:\n",
    "        # if ee_type == 'quadrupole':\n",
    "            element_line_y   = element_line_y/np.max(np.abs(element_line_y))\n",
    "\n",
    "        source = bkmod.ColumnDataSource(pd.DataFrame({'name':np.repeat(group.name,4),'type':np.repeat(group.type,4),'x':element_line_x,'y':element_line_y+baseline,'baseline':element_baseline+baseline}))\n",
    "        _varea = fig.varea(x='x',y1='baseline', y2='y', alpha=0.6,fill_color=color,source=source,legend_label=legend_label)\n",
    "        \n",
    "        if ee_type in ['sextupole','octupole','bblr']:\n",
    "            fig.circle(group.s,group.knl/np.max(np.abs(group.knl)) + baseline, size=3, color=color, alpha=0.5,legend_label=legend_label)\n",
    "\n",
    "\n",
    "\n",
    "\n",
    "    if sequence == 'lhcb1':\n",
    "\n",
    "        fig.legend.location    = \"top_left\"\n",
    "        fig.legend.click_policy= \"hide\"\n",
    "\n",
    "\n",
    "        # Adding  IP locations\n",
    "\n",
    "\n",
    "        sequence = 'lhcb1'\n",
    "        IPs    = tw.loc[tw.name.isin([f'ip{i}' for i in range(1,8+1)]),['name','s']]\n",
    "        arcs_s = tw.loc[tw.name.isin([f's.arc.{arc}.{beam}' for arc in [f'{np.roll(range(1,9),-i)[0]}{np.roll(range(1,9),-i)[1]}' for i in range(0,8)]]),['name','s']]\n",
    "        arcs_e = tw.loc[tw.name.isin([f'e.arc.{arc}.{beam}' for arc in [f'{np.roll(range(1,9),-i)[0]}{np.roll(range(1,9),-i)[1]}' for i in range(0,8)]]),['name','s']]\n",
    "        arc_mids = pd.DataFrame({'name':[f'ARC {arc}' for arc in arcs_s.sort_values('name').name.apply(lambda arc: arc.split('.')[2])],\n",
    "                                's':(arcs_s.sort_values('name').s.values + arcs_e.sort_values('name').s.values)/2})\n",
    "\n",
    "        IPs.loc[:,'name'] = IPs.name.str.upper()\n",
    "        _label_overrides = IPs.set_index('s')['name'].to_dict()\n",
    "        _label_overrides.update(arc_mids.set_index('s')['name'].to_dict())\n",
    "\n",
    "\n",
    "ax,axis_name = bktools.new_x_axis(fig,axis_name='IPs',side='above')\n",
    "fig.extra_x_ranges[axis_name] = fig.x_range\n",
    "fig.xaxis[0].ticker = sorted(list(_label_overrides.keys()))\n",
    "fig.xaxis[0].major_label_overrides = _label_overrides\n",
    "fig.xaxis[0].major_tick_line_width = 3\n",
    "fig.xaxis[0].major_tick_in = 5\n",
    "\n",
    "# fig.yaxis.visible = False\n",
    "fig.yaxis[0].ticker = [1.5,-1.5]\n",
    "fig.yaxis[0].major_label_overrides = {1.5:'Beam 1',-1.5:'Beam 2'}\n",
    "\n",
    "\n",
    "\n",
    "# all_mb = [s for s,name in zip(lattice_df.s,lattice_df.name) if 'mb' in name]\n",
    "\n",
    "# fig.line(element_df.x,element_df.y, alpha=0.6)\n",
    "# fig.line(element_line_x,element_line_y, alpha=0.6)\n",
    "\n",
    "bk.show(fig)"
   ]
  },
  {
   "cell_type": "code",
   "execution_count": null,
   "metadata": {},
   "outputs": [],
   "source": []
  },
  {
   "cell_type": "code",
   "execution_count": null,
   "metadata": {},
   "outputs": [],
   "source": []
  },
  {
   "cell_type": "code",
   "execution_count": null,
   "metadata": {},
   "outputs": [],
   "source": []
  },
  {
   "cell_type": "code",
   "execution_count": null,
   "metadata": {},
   "outputs": [],
   "source": [
    "_label_overrides = IPs.set_index('s')['name'].to_dict()\n",
    "_label_overrides.update(arcs_s.set_index('s')['name'].to_dict())\n",
    "_label_overrides.update(arcs_e.set_index('s')['name'].to_dict())"
   ]
  },
  {
   "cell_type": "code",
   "execution_count": null,
   "metadata": {},
   "outputs": [],
   "source": [
    "IPs.name.str.upper()"
   ]
  },
  {
   "cell_type": "code",
   "execution_count": null,
   "metadata": {},
   "outputs": [],
   "source": [
    "\n",
    "\n"
   ]
  },
  {
   "cell_type": "code",
   "execution_count": null,
   "metadata": {},
   "outputs": [],
   "source": [
    "arc_mids"
   ]
  },
  {
   "cell_type": "code",
   "execution_count": null,
   "metadata": {},
   "outputs": [],
   "source": [
    "arcs_s"
   ]
  },
  {
   "cell_type": "code",
   "execution_count": null,
   "metadata": {},
   "outputs": [],
   "source": [
    "arcs_s"
   ]
  },
  {
   "cell_type": "code",
   "execution_count": null,
   "metadata": {},
   "outputs": [],
   "source": [
    "_label_overrides"
   ]
  },
  {
   "cell_type": "code",
   "execution_count": null,
   "metadata": {},
   "outputs": [],
   "source": [
    "beam='b1'\n"
   ]
  },
  {
   "cell_type": "code",
   "execution_count": null,
   "metadata": {},
   "outputs": [],
   "source": [
    "for i in range(0,8):\n",
    "    arc = f'{np.roll(range(1,9),-i)[0]}{np.roll(range(1,9),-i)[1]}'\n",
    "    \n",
    "    thisArc = twiss.set_index('name').loc[f's.arc.{arc}.b1':f'e.arc.{arc}.b1']"
   ]
  },
  {
   "cell_type": "code",
   "execution_count": null,
   "metadata": {},
   "outputs": [],
   "source": [
    "thisArc"
   ]
  },
  {
   "cell_type": "code",
   "execution_count": null,
   "metadata": {},
   "outputs": [],
   "source": [
    "rich.inspect(ee)"
   ]
  },
  {
   "cell_type": "code",
   "execution_count": null,
   "metadata": {},
   "outputs": [],
   "source": [
    "line.particle_ref.p0c"
   ]
  },
  {
   "cell_type": "code",
   "execution_count": null,
   "metadata": {},
   "outputs": [],
   "source": [
    "math.factorial(np.arange(12+1))"
   ]
  },
  {
   "cell_type": "code",
   "execution_count": null,
   "metadata": {},
   "outputs": [],
   "source": [
    "gamma0 = 1/np.sqrt(1-ee.beta0**2)\n",
    "gamma0"
   ]
  },
  {
   "cell_type": "code",
   "execution_count": null,
   "metadata": {},
   "outputs": [],
   "source": [
    "6.8e12/line.particle_ref.mass0"
   ]
  },
  {
   "cell_type": "code",
   "execution_count": null,
   "metadata": {},
   "outputs": [],
   "source": [
    "gamma0 = 1/np.sqrt(1-ee.beta0**2) \n",
    "E      = gamma0*xp.PROTON_MASS_EV\n",
    "p0c    = ee.beta0*E\n"
   ]
  },
  {
   "cell_type": "code",
   "execution_count": null,
   "metadata": {},
   "outputs": [],
   "source": [
    "gamma0 = 1/np.sqrt(1-ee.beta0**2) \n",
    "E      = gamma0*xp.PROTON_MASS_EV\n",
    "p0c    = ee.beta0*E\n",
    "p0c"
   ]
  },
  {
   "cell_type": "code",
   "execution_count": null,
   "metadata": {},
   "outputs": [],
   "source": [
    "line.particle_ref.p0c[0]"
   ]
  },
  {
   "cell_type": "code",
   "execution_count": null,
   "metadata": {},
   "outputs": [],
   "source": [
    "float(line.particle_ref.p0c)"
   ]
  },
  {
   "cell_type": "code",
   "execution_count": null,
   "metadata": {},
   "outputs": [],
   "source": [
    "xp.PROTON_MASS_EV"
   ]
  },
  {
   "cell_type": "code",
   "execution_count": null,
   "metadata": {},
   "outputs": [],
   "source": [
    "line.particle_ref.mass0"
   ]
  },
  {
   "cell_type": "code",
   "execution_count": null,
   "metadata": {},
   "outputs": [],
   "source": [
    "np.sqrt((6.8e12)**2-line.particle_ref.mass0**2)"
   ]
  },
  {
   "cell_type": "code",
   "execution_count": null,
   "metadata": {},
   "outputs": [],
   "source": [
    "np.sqrt((6.8e12)**2-line.particle_ref.mass0**2)"
   ]
  },
  {
   "cell_type": "code",
   "execution_count": null,
   "metadata": {},
   "outputs": [],
   "source": [
    "np.sqrt(1/(1-ee.beta0**2) - 1)*line.particle_ref.mass0"
   ]
  },
  {
   "cell_type": "code",
   "execution_count": null,
   "metadata": {},
   "outputs": [],
   "source": [
    "ee.ref_shift_x - ee.other_beam_shift_x"
   ]
  },
  {
   "cell_type": "code",
   "execution_count": null,
   "metadata": {},
   "outputs": [],
   "source": [
    "\n",
    "import scipy.special as sciSpec\n",
    "\n",
    "def bblr_knl(ee_bb,dx,dy):\n",
    "    Nb    = ee_bb.n_particles\n",
    "    IL_eq = Nb*cst.elec*cst.c\n",
    "\n",
    "    gamma0 = 1/np.sqrt(1-ee_bb.beta0**2) \n",
    "    E      = gamma0*xp.PROTON_MASS_EV\n",
    "    p0     = ee.beta0*E/cst.c\n",
    "\n",
    "    \n",
    "    n = np.arange(12+1)\n",
    "    integratedComp = -cst.mu0*(IL_eq)*sciSpec.factorial(n)/(2*np.pi)/(dx+1j*dy)**(n+1)\n",
    "    _kn,_sn = np.real(integratedComp),np.imag(integratedComp)\n",
    "    \n",
    "    knl,snl = _kn/p0,_sn/p0\n",
    "    return  knl,snl\n",
    "\n",
    "\n",
    "def compute_bblr_strength(ee_bb,x,y,betx,bety):\n",
    "    # Fixing exmittance since strength should be normalized at the end\n",
    "    emittxy = [1,1]\n",
    "\n",
    "    # Computing beam separation\n",
    "    dx = x - ee_bb.ref_shift_x - ee_bb.other_beam_shift_x\n",
    "    dy = y - ee_bb.ref_shift_y - ee_bb.other_beam_shift_y\n",
    "\n",
    "    # Computing knl of interaction\n",
    "    knl,snl = bblr_knl(ee_bb,dx,dy)\n",
    "    \n",
    "    # Computing tune shift\n",
    "    vec_J = {}\n",
    "    for plane,amplitudes in zip(['x','y'],[[1,0],[0,1]]):\n",
    "        ax,ay = amplitudes\n",
    "        DQx,DQy = tune.DQx_DQy_octupole(ax,ay,  betxy   = [betx,bety],\n",
    "                                                emittxy = emittxy,\n",
    "                                                k1l     = 0,\n",
    "                                                k3l     = knl[3])\n",
    "    \n",
    "        vec_J[plane] = np.array([DQx,DQy])\n",
    "\n",
    "\n",
    "    # Strength\n",
    "    #---------------------------------------\n",
    "    area   = np.abs(np.cross(list(vec_J['x']), list(vec_J['y']))/2)\n",
    "    strength = area\n",
    "    #---------------------------------------\n",
    "\n",
    "    return strength\n",
    "\n",
    "\n",
    "\n",
    "# def extract_bblr_info(line):\n",
    "\n",
    "\n",
    "sequence   = 'lhcb2'\n",
    "beam       = sequence[-2:]\n",
    "# lattice_df = bktools.extract_lattice_info(collider[sequence])\n",
    "# bblr_info  = bktools.extract_bblr_info(collider[sequence],twiss[sequence])\n",
    "line = collider[sequence]\n",
    "tw   = twiss[sequence]\n",
    "\n",
    "# Creating lattice dictionary\n",
    "lattice =  {}\n",
    "lattice['name']    = []    \n",
    "lattice['type']    = []\n",
    "lattice['length']  = []\n",
    "lattice['s']       = []\n",
    "lattice['s_entry'] = []\n",
    "lattice['s_exit']  = []\n",
    "lattice['strength']= []\n",
    "\n",
    "# Iterating through the elements\n",
    "all_bblr = line.get_elements_of_type(xf.beam_elements.beambeam2d.BeamBeamBiGaussian2D)\n",
    "tw_data  = tw.set_index('name').loc[all_bblr[1],['s','x','y','betx','bety']]\n",
    "beam     = all_bblr[1][0].split('_')[1][-2:]\n",
    "if beam.lower() == 'b2':\n",
    "    tw_data.loc[:,'x'] = -tw_data['x']\n",
    "\n",
    "for ee,(name,tw_row) in zip(all_bblr[0],tw_data.iterrows()):\n",
    "    # print(name,ee.scale_strength,tw_row.s)\n",
    "\n",
    "    strength = compute_bblr_strength(ee,tw_row.x,tw_row.y,tw_row.betx,tw_row.bety)\n",
    "    length   = 7.5/10\n",
    "    lattice['name'].append(name)\n",
    "    lattice['type'].append('bblr')\n",
    "    lattice['length'].append(length)\n",
    "    lattice['s'].append(tw_row.s + length/2)\n",
    "    lattice['s_entry'].append(tw_row.s)\n",
    "    lattice['s_exit'].append(tw_row.s + length)\n",
    "    lattice['strength'].append(strength)\n",
    "\n",
    "\n",
    "bblr_info =  pd.DataFrame(lattice).sort_values(by='s').reset_index(drop=True)\n",
    "\n",
    "\n"
   ]
  },
  {
   "cell_type": "code",
   "execution_count": null,
   "metadata": {},
   "outputs": [],
   "source": [
    "all_bblr[1][0].split('_')[1][-2:]"
   ]
  },
  {
   "cell_type": "code",
   "execution_count": null,
   "metadata": {},
   "outputs": [],
   "source": [
    "bblr_info.groupby(bblr_info.name.apply(lambda name: name.split('.')[1][:2]))['strength'].mean()"
   ]
  },
  {
   "cell_type": "code",
   "execution_count": null,
   "metadata": {},
   "outputs": [],
   "source": [
    "import matplotlib.pyplot as plt\n",
    "plt.figure()\n",
    "plt.plot(bblr_info.s,bblr_info.strength,'-o')\n",
    "plt.xlim([6500,6800])\n",
    "plt.axhline(0)"
   ]
  },
  {
   "cell_type": "code",
   "execution_count": null,
   "metadata": {},
   "outputs": [],
   "source": [
    "bblr_info"
   ]
  },
  {
   "cell_type": "code",
   "execution_count": null,
   "metadata": {},
   "outputs": [],
   "source": [
    "collider['lhcb1'].element_dict['bb_lr.l5b1_25']"
   ]
  },
  {
   "cell_type": "code",
   "execution_count": null,
   "metadata": {},
   "outputs": [],
   "source": [
    "type(collider['lhcb1'].element_dict['bb_lr.l5b1_01']) == "
   ]
  },
  {
   "cell_type": "code",
   "execution_count": null,
   "metadata": {},
   "outputs": [],
   "source": [
    "xf.beam_elements.beambeam2d.BeamBeamBiGaussian2D"
   ]
  },
  {
   "cell_type": "code",
   "execution_count": null,
   "metadata": {},
   "outputs": [],
   "source": [
    "xt.beam_elements.beambeam2d"
   ]
  },
  {
   "cell_type": "code",
   "execution_count": null,
   "metadata": {},
   "outputs": [],
   "source": [
    "[name for name in tw_b1.name if 'bb_lr' in name]"
   ]
  },
  {
   "cell_type": "code",
   "execution_count": null,
   "metadata": {},
   "outputs": [],
   "source": [
    "group.set_index('s').loc[11749:11755]"
   ]
  },
  {
   "cell_type": "code",
   "execution_count": null,
   "metadata": {},
   "outputs": [],
   "source": [
    "group.knl"
   ]
  },
  {
   "cell_type": "code",
   "execution_count": null,
   "metadata": {},
   "outputs": [],
   "source": [
    "pd.DataFrame({'name':np.repeat(group.name,4),'type':np.repeat(group.type,4),'x':element_line_x,'y':element_line_y,'baseline':element_baseline})"
   ]
  },
  {
   "cell_type": "code",
   "execution_count": null,
   "metadata": {},
   "outputs": [],
   "source": [
    "group  = lattice_df.groupby('type').get_group('dipole')\n",
    "group.groupby(group.name.apply(lambda name: name.split('.')[0]))['length'].mean()"
   ]
  },
  {
   "cell_type": "code",
   "execution_count": null,
   "metadata": {},
   "outputs": [],
   "source": [
    "group.set_index('s').loc[260:285]"
   ]
  },
  {
   "cell_type": "code",
   "execution_count": null,
   "metadata": {},
   "outputs": [],
   "source": []
  },
  {
   "cell_type": "code",
   "execution_count": null,
   "metadata": {},
   "outputs": [],
   "source": [
    "element_df"
   ]
  },
  {
   "cell_type": "code",
   "execution_count": null,
   "metadata": {},
   "outputs": [],
   "source": [
    "list(element_line_y)"
   ]
  },
  {
   "cell_type": "code",
   "execution_count": null,
   "metadata": {},
   "outputs": [],
   "source": [
    "list(element_line_x)"
   ]
  },
  {
   "cell_type": "code",
   "execution_count": null,
   "metadata": {},
   "outputs": [],
   "source": [
    "group.loc[group.name.str.contains('mb.')]"
   ]
  },
  {
   "cell_type": "code",
   "execution_count": null,
   "metadata": {},
   "outputs": [],
   "source": [
    "# Making step function for each element\n",
    "group  = lattice_df.groupby('type').get_group('dipole')\n",
    "element_line_x = [[_entry,_entry,_exit,_exit] for _entry,_exit in zip(group.s_entry,group.s_exit)] \n",
    "element_line_y = [[0,_knl,_knl,0] for _knl in group.knl] \n",
    "\n",
    "element_line_x = np.array(element_line_x).flatten()\n",
    "element_line_y = np.array(element_line_y).flatten()"
   ]
  },
  {
   "cell_type": "code",
   "execution_count": null,
   "metadata": {},
   "outputs": [],
   "source": [
    "np.divide(element_line_y,element_line_y,out=np.zeros(len(element_line_y)),where=element_line_y!=0)"
   ]
  },
  {
   "cell_type": "code",
   "execution_count": null,
   "metadata": {},
   "outputs": [],
   "source": [
    "\n",
    "dipole_line_x = [[_entry,_entry,_exit,_exit] for _entry,_exit in zip(lattice_df.s_entry,lattice_df.s_exit)] \n",
    "dipole_line_x = [x for row in dipole_line_x for x in row]\n",
    "dipole_line_x"
   ]
  },
  {
   "cell_type": "code",
   "execution_count": null,
   "metadata": {},
   "outputs": [],
   "source": [
    "group  = lattice_df.groupby('type').get_group('dipole')\n",
    "element_line_x = [[_entry,_entry,_exit,_exit] for _entry,_exit in zip(group.s_entry,group.s_exit)] \n",
    "element_line_y = [[0,_knl,_knl,0] for _knl in group.knl] "
   ]
  },
  {
   "cell_type": "code",
   "execution_count": null,
   "metadata": {},
   "outputs": [],
   "source": [
    "np.array(element_line_x).flatten()"
   ]
  },
  {
   "cell_type": "code",
   "execution_count": null,
   "metadata": {},
   "outputs": [],
   "source": [
    "np.array([x for row in element_line_x for x in row]) == "
   ]
  },
  {
   "cell_type": "code",
   "execution_count": null,
   "metadata": {},
   "outputs": [],
   "source": [
    "[**dipole_line_x for ee in dipole_line_x]"
   ]
  },
  {
   "cell_type": "code",
   "execution_count": null,
   "metadata": {},
   "outputs": [],
   "source": [
    "np.repeat(lattice_df.s_entry,2)"
   ]
  },
  {
   "cell_type": "code",
   "execution_count": null,
   "metadata": {},
   "outputs": [],
   "source": [
    "np.repeat(lattice_df.s_entry,2)\n",
    "np.tile([0,1,1,0],len(lattice_df))"
   ]
  },
  {
   "cell_type": "code",
   "execution_count": null,
   "metadata": {},
   "outputs": [],
   "source": [
    "\n",
    "dipole_line_x = [[_entry,_entry,_exit,_exit] for _entry,_exit in zip(lattice_df.s_entry,lattice_df.s_exit)] \n",
    "dipole_line_x = [x for row in dipole_line_x for x in row]\n",
    "dipole_line_x"
   ]
  },
  {
   "cell_type": "code",
   "execution_count": null,
   "metadata": {},
   "outputs": [],
   "source": [
    "\n"
   ]
  },
  {
   "cell_type": "code",
   "execution_count": null,
   "metadata": {},
   "outputs": [],
   "source": [
    "len(dipole_line_y)"
   ]
  },
  {
   "cell_type": "code",
   "execution_count": null,
   "metadata": {},
   "outputs": [],
   "source": [
    "_line.element_dict['mqwa.a4r3.b1..4']"
   ]
  },
  {
   "cell_type": "code",
   "execution_count": null,
   "metadata": {},
   "outputs": [],
   "source": [
    "tw.groupby(tw.name.apply(lambda ee: ee.split('..')[0])).get_group('mqwa.a4r3.b1')"
   ]
  },
  {
   "cell_type": "code",
   "execution_count": null,
   "metadata": {},
   "outputs": [],
   "source": [
    "\n",
    "\n",
    "\n",
    "beam = 'b1'\n",
    "_line   = collider[f'lhc{beam}']\n",
    "lattice_df= extract_lattice_info(_line)\n",
    "   "
   ]
  },
  {
   "cell_type": "code",
   "execution_count": null,
   "metadata": {},
   "outputs": [],
   "source": [
    "full_lattice.groupby(full_lattice.name.apply(lambda name: name.split('..')[0])).get_group('mqwa.a4r3.b1')"
   ]
  },
  {
   "cell_type": "code",
   "execution_count": null,
   "metadata": {},
   "outputs": [],
   "source": [
    "full_lattice"
   ]
  },
  {
   "cell_type": "code",
   "execution_count": null,
   "metadata": {},
   "outputs": [],
   "source": [
    "lattice_df"
   ]
  },
  {
   "cell_type": "code",
   "execution_count": null,
   "metadata": {},
   "outputs": [],
   "source": [
    "group = lattice_df.groupby(lattice_df.name.apply(lambda name: name.split('..')[0])).get_group('mqwa.a4r3.b1')"
   ]
  },
  {
   "cell_type": "code",
   "execution_count": null,
   "metadata": {},
   "outputs": [],
   "source": [
    "pd.DataFrame({'s':_line.get_s_elements()},index=_line.element_names).loc[all_multipoles[1],'s'].values"
   ]
  },
  {
   "cell_type": "code",
   "execution_count": null,
   "metadata": {},
   "outputs": [],
   "source": [
    "tw.set_index('name').loc[all_multipoles,'s']"
   ]
  },
  {
   "cell_type": "code",
   "execution_count": null,
   "metadata": {},
   "outputs": [],
   "source": [
    "all_multipoles = _line.get_elements_of_type(xt.elements.Multipole)[1]"
   ]
  },
  {
   "cell_type": "code",
   "execution_count": null,
   "metadata": {},
   "outputs": [],
   "source": [
    "[ name for s,name in zip(_line.get_s_elements(),_line.element_names) if name in all_multipoles]"
   ]
  },
  {
   "cell_type": "code",
   "execution_count": null,
   "metadata": {},
   "outputs": [],
   "source": [
    "_line.element_names"
   ]
  },
  {
   "cell_type": "code",
   "execution_count": null,
   "metadata": {},
   "outputs": [],
   "source": [
    "\n",
    "lattice_df"
   ]
  },
  {
   "cell_type": "code",
   "execution_count": null,
   "metadata": {},
   "outputs": [],
   "source": [
    "_line.get_s_elements()"
   ]
  },
  {
   "cell_type": "code",
   "execution_count": null,
   "metadata": {},
   "outputs": [],
   "source": [
    "_line.get_elements_of_type(xt.elements.Multipole)[1]"
   ]
  },
  {
   "cell_type": "code",
   "execution_count": null,
   "metadata": {},
   "outputs": [],
   "source": [
    "_line.get_s_elements()"
   ]
  },
  {
   "cell_type": "code",
   "execution_count": null,
   "metadata": {},
   "outputs": [],
   "source": [
    "collider['lhcb1'].element_dict['mb.b8r3.b1..1_entry']"
   ]
  },
  {
   "cell_type": "code",
   "execution_count": null,
   "metadata": {},
   "outputs": [],
   "source": [
    "beam = 'b1'\n",
    "tw   = tw_b1\n",
    "# Extracting magnet strengths:\n",
    "_line   = collider[f'lhc{beam}']\n",
    "lattice =  {}\n",
    "lattice['s']   = []\n",
    "lattice['name']   = []\n",
    "lattice['dipole']     = []\n",
    "lattice['quadrupole'] = []\n",
    "lattice['sextupole']  = []\n",
    "lattice['octupole']   = []\n",
    "for name,s in zip(tw.name,tw.s):\n",
    "    if name in _line.element_dict.keys():\n",
    "        ee = _line.element_dict[name]\n",
    "\n",
    "    if type(ee) is xt.elements.Multipole:\n",
    "        _knl = ee.knl[:4]\n",
    "        _knl = np.pad(_knl, (0, 4-len(_knl)), 'constant', constant_values=np.nan)\n",
    "        lattice['s']      +=  [s]\n",
    "        lattice['name']   +=  [name] \n",
    "        # lattice['knl'] = _knl\n",
    "        lattice['dipole']     += [_knl[0]]\n",
    "        lattice['quadrupole'] += [_knl[1]]\n",
    "        lattice['sextupole']  += [_knl[2]]\n",
    "        lattice['octupole']   += [_knl[3]]\n",
    "\n",
    "lattice_df = pd.DataFrame(lattice)\n",
    "lattice_df.sort_values(by='s',inplace=True)\n",
    "lattice_df.loc[lattice_df['dipole']==0,'dipole'] = np.nan"
   ]
  },
  {
   "cell_type": "code",
   "execution_count": null,
   "metadata": {},
   "outputs": [],
   "source": [
    "collider[f'lhc{beam}']"
   ]
  },
  {
   "cell_type": "code",
   "execution_count": null,
   "metadata": {},
   "outputs": [],
   "source": [
    "lattice_df.loc[lattice_df['dipole']==0,'dipole'] = np.nan"
   ]
  },
  {
   "cell_type": "code",
   "execution_count": null,
   "metadata": {},
   "outputs": [],
   "source": [
    "lattice_df"
   ]
  },
  {
   "cell_type": "code",
   "execution_count": null,
   "metadata": {},
   "outputs": [],
   "source": [
    "collider['lhcb1'].element_dict['mb.b8r3.b1..2']."
   ]
  },
  {
   "cell_type": "code",
   "execution_count": null,
   "metadata": {},
   "outputs": [],
   "source": [
    "len(all_mb)"
   ]
  },
  {
   "cell_type": "code",
   "execution_count": null,
   "metadata": {},
   "outputs": [],
   "source": [
    "lattice_df"
   ]
  },
  {
   "cell_type": "code",
   "execution_count": null,
   "metadata": {},
   "outputs": [],
   "source": [
    "collider['lhcb1'].element_dict['mbxw.d4l5']"
   ]
  },
  {
   "cell_type": "code",
   "execution_count": null,
   "metadata": {},
   "outputs": [],
   "source": [
    "[name for ee,name in zip(collider['lhcb1'].elements,collider['lhcb1'].element_names) if type(ee) is xt.elements.Multipole]"
   ]
  },
  {
   "cell_type": "code",
   "execution_count": null,
   "metadata": {},
   "outputs": [],
   "source": [
    "lattice_df"
   ]
  },
  {
   "cell_type": "code",
   "execution_count": null,
   "metadata": {},
   "outputs": [],
   "source": [
    "len(tw)"
   ]
  },
  {
   "cell_type": "code",
   "execution_count": null,
   "metadata": {},
   "outputs": [],
   "source": [
    "[name for ee,name in zip(collider['lhcb1'].elements,collider['lhcb1'].element_names) if 'mb.' in name]"
   ]
  },
  {
   "cell_type": "code",
   "execution_count": null,
   "metadata": {},
   "outputs": [],
   "source": [
    "\n",
    "  "
   ]
  },
  {
   "cell_type": "code",
   "execution_count": null,
   "metadata": {},
   "outputs": [],
   "source": [
    "lattice_df.dipole/lattice_df.dipole"
   ]
  },
  {
   "cell_type": "code",
   "execution_count": null,
   "metadata": {},
   "outputs": [],
   "source": [
    "_knl"
   ]
  },
  {
   "cell_type": "code",
   "execution_count": null,
   "metadata": {},
   "outputs": [],
   "source": [
    "lattice_df.dipole"
   ]
  },
  {
   "cell_type": "code",
   "execution_count": null,
   "metadata": {},
   "outputs": [],
   "source": [
    "np.isnan(lattice_df.dipole)"
   ]
  },
  {
   "cell_type": "code",
   "execution_count": null,
   "metadata": {},
   "outputs": [],
   "source": [
    "import matplotlib.pyplot as plt\n",
    "\n",
    "\n",
    "plt.figure()\n",
    "plt.plot(lattice_df.s,lattice_df.dipole/lattice_df.dipole,'-')\n",
    "plt.fill_between(lattice_df.s,y1=-np.ones(len(lattice_df.s)),y2=lattice_df.dipole/lattice_df.dipole)\n",
    "# plt.xlim([19600,19800])"
   ]
  },
  {
   "cell_type": "code",
   "execution_count": null,
   "metadata": {},
   "outputs": [],
   "source": [
    "lattice"
   ]
  },
  {
   "cell_type": "code",
   "execution_count": null,
   "metadata": {},
   "outputs": [],
   "source": [
    "np.pad(a.astype(float), (0, 3-len(a)), 'constant', constant_values=np.nan)"
   ]
  },
  {
   "cell_type": "code",
   "execution_count": null,
   "metadata": {},
   "outputs": [],
   "source": [
    "collider['lhcb1'].element_dict['mqwa.b4r3.b1..1']"
   ]
  },
  {
   "cell_type": "code",
   "execution_count": null,
   "metadata": {},
   "outputs": [],
   "source": []
  },
  {
   "cell_type": "code",
   "execution_count": null,
   "metadata": {},
   "outputs": [],
   "source": [
    "a = np.array([1])[:3]\n",
    "np.pad(a, (0, 3-len(a)), 'constant', constant_values=0)"
   ]
  },
  {
   "cell_type": "code",
   "execution_count": null,
   "metadata": {},
   "outputs": [],
   "source": [
    "collider['lhcb1'].element_dict['mb.c33l4.b1..2'].knl"
   ]
  },
  {
   "cell_type": "code",
   "execution_count": null,
   "metadata": {},
   "outputs": [],
   "source": [
    "collider['lhcb1'].element_dict['mcs.c33l4.b1']"
   ]
  },
  {
   "cell_type": "code",
   "execution_count": null,
   "metadata": {},
   "outputs": [],
   "source": [
    "collider['lhcb1'].elements[3] is xt.elements.Multipole"
   ]
  },
  {
   "cell_type": "code",
   "execution_count": null,
   "metadata": {},
   "outputs": [],
   "source": [
    "collider['lhcb1'].element_names\n",
    "\n",
    "\n"
   ]
  },
  {
   "cell_type": "code",
   "execution_count": null,
   "metadata": {},
   "outputs": [],
   "source": [
    "\n",
    "# importing show from\n",
    "# bokeh.io to show the plot\n",
    "from bokeh.io import show\n",
    " \n",
    "# importing legend from bokeh.models\n",
    "from bokeh.models import Legend\n",
    " \n",
    "# importing figure from bokeh.plotting\n",
    "from bokeh.plotting import figure\n",
    " \n",
    "# importing numpy package from python\n",
    "import numpy as np\n",
    " \n",
    "# Creating an empty figure of plot height=600\n",
    "# and plot width=600\n",
    "fig = figure()\n",
    " \n",
    "# Creating point1 which is a yellow color line with\n",
    "# line width as 3 for a set of points\n",
    "point1 = fig.line(x=[0, 1.43, 2.76, 3.24, 4.45, 5.65,\n",
    "                     6.98, 7, 8, 9.76, 10.67, 11.54, 12.567,\n",
    "                     13.21, 14.65, 15, 16.45, 17, 18.32, 19.57, 20],\n",
    "                  y=np.linspace(0, 2, 21),\n",
    "                  line_width=3, color=\"yellow\")\n",
    " \n",
    "# Creating point2 which is a purple color line with\n",
    "# line width as 2 for a set of points\n",
    "point2 = fig.line(x=np.linspace(0, 20, 20), y=np.linspace(0, 3, 20),\n",
    "                  line_width=2, color=\"purple\")\n",
    " \n",
    "# Creating point3 which is a pink color line with\n",
    "# line width as 4 for a set of points\n",
    "point3 = fig.line(x=[0, 1, 2, 3, 4, 5, 6, 7, 8, 9, 10, 11,\n",
    "                     12, 13, 14, 15, 16, 17, 18, 19, 20],\n",
    "                  y=[3, 3, 3, 3, 3, 3, 3, 3, 3, 3, 2, 2.5, 2.34,\n",
    "                     2.48, 2.67, 2.12, 2.01, 1.67, 1.98, 1.07, 1],\n",
    "                  line_width=4, color=\"pink\")\n",
    " \n",
    "# Creating point4 which is a green color line with\n",
    "# line width as 2 for a set of points\n",
    "point4 = fig.line(x=[0, 20], y=5,\n",
    "                  line_width=2,\n",
    "                  color=\"green\")\n",
    " \n",
    "# Using legend we are placing two point descriptions\n",
    "# beside each other horizontally\n",
    "legend1 = Legend(items=[(\"point1\", [point1]),\n",
    "                        (\"point2\", [point2])],\n",
    "                 location=(7, 2), orientation=\"horizontal\")\n",
    " \n",
    "# Using legend we are placing the other two point\n",
    "# descriptions beside each other horizontally\n",
    "legend2 = Legend(items=[(\"point3\", [point3]),\n",
    "                        (\"point4\", [point4])],\n",
    "                 location=(7, 2), orientation=\"horizontal\")\n",
    " \n",
    "# placing legend1 at the top\n",
    "fig.add_layout(legend1, 'above')\n",
    " \n",
    "# placing legend2 at the top\n",
    "fig.add_layout(legend2, 'above')\n",
    " \n",
    "# showing the figure\n",
    "show(fig)"
   ]
  }
 ],
 "metadata": {
  "kernelspec": {
   "display_name": "py-BB",
   "language": "python",
   "name": "py-bb"
  },
  "language_info": {
   "codemirror_mode": {
    "name": "ipython",
    "version": 3
   },
   "file_extension": ".py",
   "mimetype": "text/x-python",
   "name": "python",
   "nbconvert_exporter": "python",
   "pygments_lexer": "ipython3",
   "version": "3.11.5"
  },
  "orig_nbformat": 4
 },
 "nbformat": 4,
 "nbformat_minor": 2
}
