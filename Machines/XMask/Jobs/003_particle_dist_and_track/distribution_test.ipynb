{
 "cells": [
  {
   "cell_type": "code",
   "execution_count": null,
   "metadata": {},
   "outputs": [],
   "source": [
    "# BBStudies\n",
    "import sys\n",
    "sys.path.append('/Users/pbelanger/ABPLocal/BBStudies')\n",
    "sys.path.append('/home/phbelang/abp/BBStudies')\n",
    "import BBStudies.Tracking.XsuitePlus as xPlus\n",
    "import BBStudies.Tracking.InteractionPoint as inp\n",
    "import BBStudies.Physics.Detuning as tune\n",
    "import BBStudies.Plotting.BBPlots as bbplt\n",
    "import BBStudies.Physics.Base as phys\n",
    "import BBStudies.Physics.Constants as cst\n",
    "\n",
    "# JOB imports\n",
    "\n",
    "import json\n",
    "import pandas as pd\n",
    "import numpy as np\n",
    "\n",
    "import xtrack as xt\n",
    "import xpart as xp\n",
    "import xobjects as xo\n",
    "\n",
    "# JOB imports\n",
    "import importlib\n",
    "sys.path.append('../../')\n",
    "main_002 = importlib.import_module('Jobs.002_user_specific_tasks.main')\n",
    "main = importlib.import_module('Jobs.003_particle_dist_and_track.main')\n",
    "\n",
    "\n",
    "context = xo.ContextCpu()\n",
    "\n",
    "\n",
    "line_path = '/Users/pbelanger/ABPLocal/BBStudies/Executables/py-BB/xtrack/test_data/lhc_with_bb/line_and_particle.json'\n",
    "# line_path = '../xtrack/test_data/lhc_with_bb/line_and_particle.json'\n",
    "\n",
    "with open(line_path) as f:\n",
    "    dct = json.load(f)\n",
    "line = xt.Line.from_dict(dct['line'])\n",
    "line.particle_ref = xp.Particles.from_dict(dct['particle'])\n",
    "\n",
    "\n",
    "\n",
    "\n",
    "line.build_tracker()\n",
    "twiss = line.twiss().to_pandas()"
   ]
  },
  {
   "cell_type": "code",
   "execution_count": null,
   "metadata": {},
   "outputs": [],
   "source": [
    "\n",
    "# BOKEH\n",
    "import bokeh.plotting as bk\n",
    "import bokeh.models as bkmod\n",
    "import bokeh.layouts as bklay\n",
    "import bokeh.palettes as bkpalettes\n",
    "\n",
    "\n",
    "# xsuite\n",
    "import xtrack as xt\n",
    "import xmask as xm\n",
    "import xfields as xf\n",
    "import xpart as xp\n",
    "\n",
    "# Custom imports\n",
    "sys.path.append('../004_export_dashboard')\n",
    "import bokeh_tools as bktools\n",
    "import Presets as bkpresets\n",
    "\n",
    "# BBStudies\n",
    "import sys\n",
    "sys.path.append('/Users/pbelanger/ABPLocal/BBStudies')\n",
    "sys.path.append('../../../../')\n",
    "import BBStudies.Tracking.XsuitePlus as xPlus\n",
    "import BBStudies.Tracking.InteractionPoint as inp\n",
    "import BBStudies.Physics.Detuning as tune\n",
    "import BBStudies.Plotting.BBPlots as bbplt\n",
    "import BBStudies.Physics.Base as phys\n",
    "import BBStudies.Physics.Constants as cst\n",
    "\n",
    "\n",
    "\n",
    "# Setting default values\n",
    "#------------------------------------------------\n",
    "_default_fig_width  = 1500\n",
    "_default_fig_height = 400\n",
    "_default_fig_pad    = 100\n",
    "\n",
    "\n",
    "\n",
    "# Importing Collider and Twiss\n",
    "#-------------------------------------\n",
    "# collider = xt.Multiline.from_json('../001_configure_collider/zfruits/collider_001.json')\n",
    "collider = xt.Multiline.from_json('../001_configure_collider/zfruits/collider_BUNCH_0224.json')\n",
    "twiss = {}\n",
    "twiss['lhcb1'] = collider['lhcb1'].twiss().to_pandas()\n",
    "twiss['lhcb2'] = collider['lhcb2'].twiss().reverse().to_pandas()\n",
    "#-------------------------------------\n",
    "\n",
    "\n",
    "# Importing Collider and Twiss\n",
    "#-------------------------------------\n",
    "collider2 = xt.Multiline.from_json('../001_configure_collider/zfruits/collider_001.json')\n",
    "twiss2 = {}\n",
    "twiss2['lhcb1'] = collider2['lhcb1'].twiss().to_pandas()\n",
    "twiss2['lhcb2'] = collider2['lhcb2'].twiss().reverse().to_pandas()\n",
    "#-------------------------------------"
   ]
  },
  {
   "cell_type": "code",
   "execution_count": null,
   "metadata": {},
   "outputs": [],
   "source": [
    "%matplotlib widget"
   ]
  },
  {
   "cell_type": "code",
   "execution_count": null,
   "metadata": {},
   "outputs": [],
   "source": [
    "import matplotlib.pyplot as plt\n",
    "seq = 'lhcb1'\n",
    "plt.figure(figsize=(20,10))\n",
    "plt.plot(twiss[seq].s,twiss[seq].y)\n",
    "plt.plot(twiss2[seq].s,twiss2[seq].y)\n",
    "\n",
    "# plt.xlim([4500,6500])\n"
   ]
  },
  {
   "cell_type": "code",
   "execution_count": null,
   "metadata": {},
   "outputs": [],
   "source": [
    "sequence = 'lhcb1'\n",
    "bblr_info   = bktools.extract_bblr_info(collider[sequence],twiss[sequence])\n",
    "bblr_info2   = bktools.extract_bblr_info(collider2[sequence],twiss2[sequence])"
   ]
  },
  {
   "cell_type": "code",
   "execution_count": null,
   "metadata": {},
   "outputs": [],
   "source": [
    "bblr_info"
   ]
  },
  {
   "cell_type": "code",
   "execution_count": null,
   "metadata": {},
   "outputs": [],
   "source": [
    "collider2[sequence].elements"
   ]
  },
  {
   "cell_type": "code",
   "execution_count": null,
   "metadata": {},
   "outputs": [],
   "source": [
    "collider[sequence].elements"
   ]
  },
  {
   "cell_type": "code",
   "execution_count": null,
   "metadata": {},
   "outputs": [],
   "source": [
    "plt.figure()\n",
    "plt.plot(bblr_info.s,bblr_info.strength_x)\n",
    "plt.plot(bblr_info2.s,bblr_info2.strength_x)\n",
    "plt.xlim([6000,7000])"
   ]
  },
  {
   "cell_type": "code",
   "execution_count": null,
   "metadata": {},
   "outputs": [],
   "source": [
    "#-------------------------------------\n",
    "light_twiss = {}\n",
    "for sequence in ['lhcb1','lhcb2']:\n",
    "    light_twiss[sequence] = xPlus.filter_twiss(twiss[sequence].set_index('name'),entries=['drift','..','_entry','_exit']).reset_index()\n",
    "#-------------------------------------\n",
    "\n",
    "#-------------------------------------\n",
    "light_twiss2 = {}\n",
    "for sequence in ['lhcb1','lhcb2']:\n",
    "    light_twiss2[sequence] = xPlus.filter_twiss(twiss2[sequence].set_index('name'),entries=['drift','..','_entry','_exit']).reset_index()\n",
    "#-------------------------------------"
   ]
  },
  {
   "cell_type": "code",
   "execution_count": null,
   "metadata": {},
   "outputs": [],
   "source": [
    "sum(light_twiss2['lhcb1'].name == light_twiss['lhcb1'].name)"
   ]
  },
  {
   "cell_type": "code",
   "execution_count": null,
   "metadata": {},
   "outputs": [],
   "source": [
    "light_twiss['lhcb1']"
   ]
  },
  {
   "cell_type": "code",
   "execution_count": null,
   "metadata": {},
   "outputs": [],
   "source": [
    "\n",
    "n_parts = int(20e2)\n",
    "nemitt_x = 1.8e-6\n",
    "nemitt_y = 1.8e-6\n",
    "sigma_z = 0.09\n",
    "monitor_at = 'tcp.c6l7.b1'\n",
    "\n",
    "particles,nemitt_zeta = main.generate_realistic_particles(   n_part      = n_parts,\n",
    "                                                            r_sig_max   = 3,\n",
    "                                                            nemitt_x    = nemitt_x,\n",
    "                                                            nemitt_y    = nemitt_y,\n",
    "                                                            sigma_z     = sigma_z,\n",
    "                                                            line        = line,\n",
    "                                                            at_element  = monitor_at,\n",
    "                                                            _context    = context)\n",
    "\n",
    "\n"
   ]
  },
  {
   "cell_type": "code",
   "execution_count": null,
   "metadata": {},
   "outputs": [],
   "source": [
    "coord = particles.to_pandas()\n",
    "\n",
    "\n",
    "import matplotlib.pyplot as plt\n",
    "\n",
    "fig,ax = plt.subplots(1,4,figsize=(15,5))\n",
    "\n",
    "for _ax,xy in zip(ax,[('x','px'),('y','py'),('x','y'),('zeta','delta')]):\n",
    "    plt.sca(_ax)\n",
    "    #group = data.data.groupby('BUNCH').get_group(bunch)\n",
    "    _x,_y = xy\n",
    "    # _surv = survived[bunch]\n",
    "    plt.plot(coord.loc[:,_x],coord.loc[:,_y],'.',color='C2',alpha=0.1)\n",
    "    # plt.legend()\n",
    "    plt.xlabel(_x)\n",
    "    plt.ylabel(_y)\n",
    "    # plt.axis('equal')"
   ]
  },
  {
   "cell_type": "code",
   "execution_count": null,
   "metadata": {},
   "outputs": [],
   "source": [
    "bunch_intensity = 1.4e10\n",
    "n_part   = int(20e5)\n",
    "nemitt_x = 1.8e-6\n",
    "nemitt_y = 1.8e-6\n",
    "sigma_z  = 0.09\n",
    "\n",
    "np.random.seed(0)\n",
    "particles = xp.generate_matched_gaussian_bunch(\n",
    "         num_particles=n_part, total_intensity_particles=bunch_intensity,\n",
    "         nemitt_x=nemitt_x, nemitt_y=nemitt_y, sigma_z=sigma_z,\n",
    "         line=line)\n",
    "\n",
    "\n",
    "df    = particles.to_pandas()\n",
    "sig_x = np.sqrt(twiss.loc[0,'betx']*nemitt_x/particles.gamma0.max())\n",
    "sig_y = np.sqrt(twiss.loc[0,'bety']*nemitt_y/particles.gamma0.max())\n",
    "\n",
    "\n",
    "\n",
    "df = df[(df.x/sig_x)**2 + (df.y/sig_y)**2 > 2**2]"
   ]
  },
  {
   "cell_type": "code",
   "execution_count": null,
   "metadata": {},
   "outputs": [],
   "source": [
    "df = particles.to_pandas()\n",
    "import matplotlib.pyplot as plt\n",
    "\n",
    "plt.figure()\n",
    "plt.plot(df.x, df.y, '.',alpha=0.3)\n",
    "plt.axis('equal')\n",
    "\n",
    "plt.figure()\n",
    "plt.plot(df.x, df.px, '.',alpha=0.3)\n",
    "\n",
    "plt.figure()\n",
    "plt.plot(df.y, df.py, '.',alpha=0.3)\n",
    "\n",
    "plt.figure()\n",
    "plt.plot(df.zeta, df.delta, '.',alpha=0.3)\n",
    "\n",
    "\n",
    "# plt.figure()\n",
    "# plt.plot(particles.zeta, particles.ptau/particles.beta0, '.',alpha=0.3)\n",
    "# \n",
    "# self._df['ptau']/self._df['beta0']"
   ]
  },
  {
   "cell_type": "code",
   "execution_count": null,
   "metadata": {},
   "outputs": [],
   "source": []
  },
  {
   "cell_type": "code",
   "execution_count": null,
   "metadata": {},
   "outputs": [],
   "source": [
    "n_part=20000\n",
    "r_sig_max = 4\n",
    "np.random.seed(0)\n",
    "x_in_sigmas, px_in_sigmas = xp.generate_2D_gaussian(n_part*10000)\n",
    "y_in_sigmas, py_in_sigmas = xp.generate_2D_gaussian(n_part*10000)\n",
    "\n",
    "filtered_x = ((x_in_sigmas**2 + px_in_sigmas**2) > r_sig_max**2)\n",
    "filtered_y = ((y_in_sigmas**2 + py_in_sigmas**2) > r_sig_max**2)\n",
    "\n",
    "filtered = filtered_x | filtered_y\n",
    "\n",
    "\n",
    "# filtered_x_out = ((x_in_sigmas**2 + px_in_sigmas**2) < r_sig_max**2)\n",
    "# filtered_y_out = ((y_in_sigmas**2 + py_in_sigmas**2) < r_sig_max**2)\n",
    "\n",
    "# filtered = np.invert(filtered_x_out | filtered_y_out)\n",
    "\n",
    "# x_in_sigmas, px_in_sigmas = xp.generate_2D_gaussian(n_part*100)\n",
    "# y_in_sigmas, py_in_sigmas = xp.generate_2D_gaussian(n_part*100)\n",
    "# filtered = ((x_in_sigmas**2 + y_in_sigmas**2) > r_sig_max**2)\n",
    "\n",
    "plt.figure()\n",
    "plt.plot(x_in_sigmas[filtered], px_in_sigmas[filtered], '.',alpha=0.1)\n",
    "plt.axis('equal')\n",
    "plt.xlabel('x')\n",
    "plt.ylabel('px')\n",
    "\n",
    "\n",
    "\n",
    "plt.figure()\n",
    "plt.plot(y_in_sigmas[filtered], py_in_sigmas[filtered], '.',alpha=0.1)\n",
    "plt.axis('equal')\n",
    "plt.xlabel('y')\n",
    "plt.ylabel('py')\n",
    "\n",
    "plt.figure()\n",
    "plt.plot(x_in_sigmas[filtered], y_in_sigmas[filtered], '.',alpha=0.1)\n",
    "plt.axis('equal')\n",
    "plt.xlabel('x')\n",
    "plt.ylabel('y')\n"
   ]
  },
  {
   "cell_type": "markdown",
   "metadata": {},
   "source": [
    "---\n",
    "# Option2\n",
    "---"
   ]
  },
  {
   "cell_type": "code",
   "execution_count": null,
   "metadata": {},
   "outputs": [],
   "source": [
    "bunch_intensity = 1.4e10\n",
    "n_part   = int(20e5)\n",
    "nemitt_x = 1.8e-6\n",
    "nemitt_y = 1.8e-6\n",
    "sigma_z  = 0.09\n",
    "\n",
    "\n",
    "# Horizontal plane: generate gaussian distribution in normalized coordinates\n",
    "np.random.seed(0)\n",
    "x_in_sigmas, px_in_sigmas = xp.generate_2D_gaussian(n_part)\n",
    "y_in_sigmas, py_in_sigmas = xp.generate_2D_gaussian(n_part)\n",
    "\n",
    "filtered = x_in_sigmas**2 + y_in_sigmas**2 > 3**2\n",
    "x_in_sigmas  = x_in_sigmas[filtered]\n",
    "px_in_sigmas = px_in_sigmas[filtered]\n",
    "y_in_sigmas  = y_in_sigmas[filtered]\n",
    "py_in_sigmas = py_in_sigmas[filtered]\n",
    "\n",
    "# Longitudinal plane: generate gaussian distribution matched to bucket \n",
    "zeta, delta,matcher = xp.generate_longitudinal_coordinates(num_particles=sum(filtered), distribution='gaussian',sigma_z=sigma_z, line=line,return_matcher=True)\n",
    "\n",
    "# Build particles:\n",
    "#    - scale with given emittances\n",
    "#    - transform to physical coordinates (using 1-turn matrix)\n",
    "#    - handle dispersion\n",
    "#    - center around the closed orbit\n",
    "particles = xp.build_particles(line=line,\n",
    "            zeta=zeta, delta=delta,\n",
    "            x_norm=x_in_sigmas, px_norm=px_in_sigmas,\n",
    "            y_norm=y_in_sigmas, py_norm=py_in_sigmas,\n",
    "            nemitt_x=nemitt_x, nemitt_y=nemitt_y,at_element='tcp.c6l7.b1')"
   ]
  },
  {
   "cell_type": "code",
   "execution_count": null,
   "metadata": {},
   "outputs": [],
   "source": [
    "matcher._compute_emittance(matcher.rfbucket,matcher.psi)"
   ]
  },
  {
   "cell_type": "code",
   "execution_count": null,
   "metadata": {},
   "outputs": [],
   "source": []
  },
  {
   "cell_type": "code",
   "execution_count": null,
   "metadata": {},
   "outputs": [],
   "source": [
    "import matplotlib.pyplot as plt\n",
    "\n",
    "plt.figure()\n",
    "plt.plot(particles.x, particles.y, '.',alpha=0.3)\n",
    "# plt.plot(df.x, df.y, '.',alpha=0.3)\n",
    "plt.axis('equal')\n",
    "\n",
    "plt.figure()\n",
    "plt.plot(particles.x, particles.px, '.',alpha=0.3)\n",
    "# plt.plot(df.x, df.px, '.',alpha=0.3)\n",
    "\n",
    "plt.figure()\n",
    "plt.plot(particles.y, particles.py, '.',alpha=0.3)\n",
    "# plt.plot(df.y, df.py, '.',alpha=0.3)\n",
    "\n",
    "plt.figure()\n",
    "plt.plot(particles.zeta, particles.delta, '.',alpha=0.3)\n",
    "# plt.plot(df.zeta, df.delta, '.',alpha=0.3)\n",
    "\n",
    "\n",
    "# plt.figure()\n",
    "# plt.plot(particles.zeta, particles.ptau/particles.beta0, '.',alpha=0.3)\n",
    "# \n",
    "# self._df['ptau']/self._df['beta0']"
   ]
  },
  {
   "cell_type": "code",
   "execution_count": null,
   "metadata": {},
   "outputs": [],
   "source": [
    "x,y = df.zeta, df.delta\n",
    "\n",
    "x_collx = np.linspace(-0.5,0.5,100)\n",
    "skew_angle = 127.5 #+ 90\n",
    "coll_s = 0.1\n",
    "y_fun_skew = lambda _x: np.tan(np.deg2rad(skew_angle))*_x + coll_s/np.cos(np.deg2rad(180-skew_angle))\n",
    "\n",
    "\n",
    "\n",
    "theta = np.deg2rad(skew_angle-90)\n",
    "x_rot = x*np.cos(theta) - y*np.sin(theta)\n",
    "y_rot = x*np.sin(theta) + y*np.cos(theta)\n",
    "\n",
    "\n",
    "theta_unskew = -theta\n",
    "x_unskew = x_rot*np.cos(theta_unskew) - y_rot*np.sin(theta_unskew)\n",
    "y_unskew = x_rot*np.sin(theta_unskew) + y_rot*np.cos(theta_unskew)\n",
    "\n",
    "\n",
    "\n",
    "\n",
    "plt.figure()\n",
    "# plt.plot(x,y,'.',alpha=0.3)\n",
    "plt.plot(x_rot,y_rot,'.',alpha=0.3)\n",
    "\n",
    "plt.plot(x_unskew,y_unskew,'.',alpha=0.3,color='C2')\n",
    "plt.plot(x_collx,y_fun_skew(x_collx),'-',color='k')\n",
    "plt.axhline(0,color='k')\n",
    "plt.axis('equal')\n",
    "plt.xlim(-0.3,0.3)\n",
    "plt.ylim(-0.3,0.3)"
   ]
  },
  {
   "cell_type": "code",
   "execution_count": null,
   "metadata": {},
   "outputs": [],
   "source": [
    "import matplotlib.pyplot as plt"
   ]
  },
  {
   "cell_type": "code",
   "execution_count": null,
   "metadata": {},
   "outputs": [],
   "source": [
    "emitt = 1.8e-6/float(line.particle_ref.gamma0)\n",
    "# sig = np.sqrt(emitt*twiss.betx[0])\n",
    "np.sqrt(emitt*twiss.betx[0])\n",
    "np.sqrt(emitt*twiss.bety[0])"
   ]
  },
  {
   "cell_type": "code",
   "execution_count": null,
   "metadata": {},
   "outputs": [],
   "source": [
    "np.matmul(twiss.W_matrix[0],np.array([1*np.sqrt(emitt),0,0,0,0,0]))[0]"
   ]
  },
  {
   "cell_type": "code",
   "execution_count": null,
   "metadata": {},
   "outputs": [],
   "source": [
    "np.matmul(twiss.W_matrix[0],np.array([0,0,1*np.sqrt(emitt),0,0,0]))[2]"
   ]
  },
  {
   "cell_type": "code",
   "execution_count": null,
   "metadata": {},
   "outputs": [],
   "source": []
  },
  {
   "cell_type": "code",
   "execution_count": null,
   "metadata": {},
   "outputs": [],
   "source": [
    "twiss.W_matrix[0][0,0]*np.sqrt(emitt)"
   ]
  },
  {
   "cell_type": "code",
   "execution_count": null,
   "metadata": {},
   "outputs": [],
   "source": [
    "\n",
    "x = np.array([0,1])\n",
    "y = np.array([0,0])\n",
    "\n",
    "x_coll = np.array([1,1])\n",
    "y_coll = np.array([-10,10])\n",
    "\n",
    "theta = np.deg2rad(127.5)\n",
    "x_rot = x*np.cos(theta) - y*np.sin(theta)\n",
    "y_rot = x*np.sin(theta) + y*np.cos(theta)\n",
    "\n",
    "x_unskew = x_rot*np.cos(-theta) - y_rot*np.sin(-theta)\n",
    "y_unskew = x_rot*np.sin(-theta) + y_rot*np.cos(-theta)\n",
    "\n",
    "\n",
    "x_coll_rot = x_coll*np.cos(theta) - y_coll*np.sin(theta)\n",
    "y_coll_rot = x_coll*np.sin(theta) + y_coll*np.cos(theta)\n",
    "\n",
    "plt.figure()\n",
    "\n",
    "plt.axhline(0,color='k',alpha=0.3)\n",
    "plt.axvline(0,color='k',alpha=0.3)\n",
    "# plt.plot(x,y,'-o')\n",
    "plt.plot(x_rot,y_rot,'-o')\n",
    "plt.plot(x_coll_rot,y_coll_rot,'-o',color='red')\n",
    "plt.plot(x_unskew,y_unskew,'-o',color='C2')\n",
    "plt.axis('equal')\n",
    "plt.xlim(-2,2)\n",
    "plt.ylim(-2,2)\n",
    "\n"
   ]
  }
 ],
 "metadata": {
  "kernelspec": {
   "display_name": "py-BB",
   "language": "python",
   "name": "py-bb"
  },
  "language_info": {
   "codemirror_mode": {
    "name": "ipython",
    "version": 3
   },
   "file_extension": ".py",
   "mimetype": "text/x-python",
   "name": "python",
   "nbconvert_exporter": "python",
   "pygments_lexer": "ipython3",
   "version": "3.11.5"
  }
 },
 "nbformat": 4,
 "nbformat_minor": 2
}
