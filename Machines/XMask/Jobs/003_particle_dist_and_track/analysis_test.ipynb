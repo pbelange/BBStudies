{
 "cells": [
  {
   "cell_type": "code",
   "execution_count": null,
   "metadata": {},
   "outputs": [],
   "source": [
    "import matplotlib.pyplot as plt\n",
    "import numpy as np\n",
    "import pandas as pd\n",
    "from pathlib import Path\n",
    "import gc\n",
    "import traceback\n",
    "\n",
    "# xsuite\n",
    "import xtrack as xt\n",
    "import xmask as xm\n",
    "import xfields as xf\n",
    "import xpart as xp\n",
    "import xobjects as xo\n",
    "\n",
    "\n",
    "# BBStudies\n",
    "import sys\n",
    "sys.path.append('/Users/pbelanger/ABPLocal/BBStudies')\n",
    "sys.path.append('/home/phbelang/abp/BBStudies')\n",
    "import BBStudies.Tracking.XsuitePlus as xPlus\n",
    "import BBStudies.Tracking.Progress as pbar\n",
    "import BBStudies.Tracking.InteractionPoint as inp\n",
    "import BBStudies.Physics.Detuning as tune\n",
    "import BBStudies.Plotting.BBPlots as bbplt\n",
    "import BBStudies.Physics.Base as phys\n",
    "import BBStudies.Physics.Constants as cst\n",
    "\n",
    "# JOB imports\n",
    "import importlib\n",
    "sys.path.append('../../')\n",
    "main_002 = importlib.import_module('Jobs.002_user_specific_tasks.main')\n",
    "main = importlib.import_module('Jobs.003_particle_dist_and_track.main')\n",
    "\n",
    "\n",
    "\n",
    "\n",
    "\n",
    "# tracked   = xPlus.Tracking_Interface.from_parquet('zfruits/BUNCH_0224_for_2s' ,partition_name='CHUNK',\n",
    "#                     start_at_turn = 0,\n",
    "#                     stop_at_turn  = 2000)\n",
    "# tracked2   = xPlus.Tracking_Interface.from_parquet('zfruits/BUNCH_0224_for_2s' ,partition_name='CHUNK',\n",
    "#                     start_at_turn = 20000,\n",
    "#                     stop_at_turn  = 22000)\n",
    "\n",
    "\n",
    "\n",
    "\n",
    "\n",
    "\n",
    "\n",
    "\n",
    "tracking_path = 'zfruits/BBB_Signature/FULL/'\n",
    "tracked   = xPlus.Tracking_Interface.from_parquet(tracking_path ,partition_name='CHUNK')\n",
    "\n",
    "data_path = 'zfruits/BBB_Signature/DATA/'\n",
    "data      = xPlus.Tracking_Interface.from_parquet(data_path,partition_name='BUNCH')\n",
    "_cpt      = xPlus.Tracking_Interface.from_parquet(data_path.replace('DATA','CHECKPOINTS'),partition_name='BUNCH')\n",
    "data._checkpoint = _cpt._checkpoint\n"
   ]
  },
  {
   "cell_type": "code",
   "execution_count": null,
   "metadata": {},
   "outputs": [],
   "source": [
    "data.data"
   ]
  },
  {
   "cell_type": "code",
   "execution_count": null,
   "metadata": {},
   "outputs": [],
   "source": [
    "tracked.df.groupby('turn').count()"
   ]
  },
  {
   "cell_type": "code",
   "execution_count": null,
   "metadata": {},
   "outputs": [],
   "source": [
    "data.coord"
   ]
  },
  {
   "cell_type": "code",
   "execution_count": null,
   "metadata": {},
   "outputs": [],
   "source": [
    "plt.figure()\n",
    "plt.plot(tracked.df.groupby('turn').count().particle)\n",
    "\n"
   ]
  },
  {
   "cell_type": "code",
   "execution_count": null,
   "metadata": {},
   "outputs": [],
   "source": [
    "tracked.df\n"
   ]
  },
  {
   "cell_type": "code",
   "execution_count": null,
   "metadata": {},
   "outputs": [],
   "source": [
    "tracked.df\n"
   ]
  },
  {
   "cell_type": "markdown",
   "metadata": {},
   "source": [
    "---\n",
    "# Collimator half-opening \n",
    "---"
   ]
  },
  {
   "cell_type": "code",
   "execution_count": null,
   "metadata": {},
   "outputs": [],
   "source": [
    "sig_x = []\n",
    "sig_y = []\n",
    "for bunch_ID in [p.name.split('=')[1] for p in list(Path(data_path).rglob('BUNCH*/'))]:\n",
    "    _data = xPlus.Tracking_Interface.from_parquet(data_path,partition_name='BUNCH',partition_ID=bunch_ID)\n",
    "    sig_x.append(_data.sig_x)\n",
    "    sig_y.append(_data.sig_y)\n",
    "\n"
   ]
  },
  {
   "cell_type": "code",
   "execution_count": null,
   "metadata": {},
   "outputs": [],
   "source": [
    "plt.figure()\n",
    "plt.plot(sig_x)"
   ]
  },
  {
   "cell_type": "code",
   "execution_count": null,
   "metadata": {},
   "outputs": [],
   "source": [
    "plt.figure()\n",
    "plt.plot(sig_y)"
   ]
  },
  {
   "cell_type": "code",
   "execution_count": null,
   "metadata": {},
   "outputs": [],
   "source": [
    "coll_opening = 5\n",
    "coll_x = 100*np.mean(sig_x/np.sqrt(_data.nemitt_x)*np.sqrt(3.5e-6))\n",
    "coll_y = 100*np.mean(sig_y/np.sqrt(_data.nemitt_y)*np.sqrt(3.5e-6))\n",
    "coll_s = 1e-3#100*np.mean([coll_x,coll_y])"
   ]
  },
  {
   "cell_type": "code",
   "execution_count": null,
   "metadata": {},
   "outputs": [],
   "source": [
    "coll_opening = 5\n",
    "coll_x = 2.602e-3/2\n",
    "coll_y = 1.86e-3/2\n",
    "coll_s = 2.189e-3/2"
   ]
  },
  {
   "cell_type": "markdown",
   "metadata": {},
   "source": [
    "---\n",
    "# Computing Intensity\n",
    "---"
   ]
  },
  {
   "cell_type": "code",
   "execution_count": null,
   "metadata": {},
   "outputs": [],
   "source": [
    "\n",
    "\n",
    "def lost_condition(x_min,y_min,skew_min,x_max,y_max,skew_max):\n",
    "    # y_fun_skew = lambda _x: np.tan(np.deg2rad(skew_angle))*_x + coll_s/np.cos(np.deg2rad(180-skew_angle))\n",
    "    # np.abs(y)>y_fun_skew(np.abs(x)))\n",
    "    return (np.abs(x_min)>coll_x)|(np.abs(y_min)>coll_y)|(np.abs(x_max)>coll_x)|(np.abs(y_max)>coll_y) |(np.abs(skew_max)>coll_s) |(np.abs(skew_min)>coll_s)\n",
    "\n",
    "Intensity = {}\n",
    "survived  = {}\n",
    "for name,group in data.data.groupby('BUNCH'):\n",
    "\n",
    "\n",
    "    _lost  = lost_condition(group.x_min,group.y_min,group.skew_min,group.x_max,group.y_max,group.skew_max)\n",
    "    idx_lost     = group.index[_lost]\n",
    "    idx_survived = group.index[~_lost]\n",
    "\n",
    "\n",
    "    # New columns\n",
    "    try:\n",
    "        group.insert(0,'beyond_coll',False)\n",
    "        group.insert(0,'lost',False)\n",
    "    except:\n",
    "        group.loc[:,'beyond_coll'] = False\n",
    "        group.loc[:,'lost'] = False\n",
    "\n",
    "\n",
    "\n",
    "    group.loc[idx_lost,'beyond_coll'] = True\n",
    "    group.loc[:,'lost'] = group.groupby('particle').beyond_coll.cumsum().astype(bool)\n",
    "\n",
    "    Intensity[name] = group[~group.lost].groupby('start_at_turn').count().lost\n",
    "    survived[name]  = group[~group.lost].groupby('start_at_turn').get_group(group.start_at_turn.max()).particle\n"
   ]
  },
  {
   "cell_type": "code",
   "execution_count": null,
   "metadata": {},
   "outputs": [],
   "source": [
    "data.data"
   ]
  },
  {
   "cell_type": "code",
   "execution_count": null,
   "metadata": {},
   "outputs": [],
   "source": [
    "\n",
    "# Plotting Intensity\n",
    "plt.figure()\n",
    "plt.suptitle(f'coll @ {coll_opening:0.0f} sigma')\n",
    "for key,_intensity in Intensity.items():\n",
    "    plt.step(_intensity.index,_intensity.values,where='post',label=f'Bunch {key}')\n",
    "plt.xlabel('turn')\n",
    "plt.ylabel('Intensity')\n",
    "# plt.legend()\n",
    "\n",
    "# Plotting Intensity\n",
    "plt.figure(figsize=(10,5))\n",
    "plt.suptitle(f'coll @ {coll_opening:0.0f} sigma')\n",
    "for key,_intensity in Intensity.items():\n",
    "    # plt.step(_intensity.index,_intensity.values,where='post',label=f'Bunch {key}')\n",
    "    plt.plot([key],[100*np.abs(20000-np.min(_intensity.values))/20000],'o',color='C0')\n",
    "plt.xlabel('Bunch')\n",
    "plt.ylabel('% of particles lost')\n",
    "plt.xticks(list(Intensity.keys())[::4])\n",
    "plt.xlim(200-10,248+10)\n",
    "plt.legend()\n",
    "\n",
    "\n",
    "\n",
    "\n",
    "\n"
   ]
  },
  {
   "cell_type": "markdown",
   "metadata": {},
   "source": [
    "---\n",
    "# Survival plot\n",
    "---"
   ]
  },
  {
   "cell_type": "code",
   "execution_count": null,
   "metadata": {},
   "outputs": [],
   "source": [
    "tracked.df[tracked.df.state !=0].groupby('turn').count()\n",
    "\n"
   ]
  },
  {
   "cell_type": "code",
   "execution_count": null,
   "metadata": {},
   "outputs": [],
   "source": [
    "coord = tracked.coord_sig.set_index('particle')\n",
    "\n",
    "for bunch in [200,212,220]:\n",
    "    # 3 subplots\n",
    "    fig,ax = plt.subplots(1,4,figsize=(15,5))\n",
    "    fig.suptitle(f'Bunch {bunch}')\n",
    "    for _ax,xy in zip(ax,[('x_sig','px_sig'),('y_sig','py_sig'),('x_sig','y_sig'),('zeta_sig','pzeta_sig')]):\n",
    "        plt.sca(_ax)\n",
    "        #group = data.data.groupby('BUNCH').get_group(bunch)\n",
    "        _x,_y = xy\n",
    "\n",
    "        plt.plot(coord.loc[:,_x],coord.loc[:,_y],'.',color='C2',alpha=0.1,label = 'survived')\n",
    "        plt.xlabel(_x)\n",
    "        plt.ylabel(_y)\n",
    "        plt.axis('equal')"
   ]
  },
  {
   "cell_type": "code",
   "execution_count": null,
   "metadata": {},
   "outputs": [],
   "source": [
    "coord = tracked.coord_sig.set_index('particle')\n",
    "\n",
    "for bunch in [200,212,220]:\n",
    "    # 3 subplots\n",
    "    fig,ax = plt.subplots(1,4,figsize=(15,5))\n",
    "    fig.suptitle(f'Bunch {bunch}')\n",
    "    for _ax,xy in zip(ax,[('x_sig','px_sig'),('y_sig','py_sig'),('x_sig','y_sig'),('zeta_sig','pzeta_sig')]):\n",
    "        plt.sca(_ax)\n",
    "        #group = data.data.groupby('BUNCH').get_group(bunch)\n",
    "        _x,_y = xy\n",
    "\n",
    "        plt.plot(coord.loc[:,_x],coord.loc[:,_y],'.',color='C2',alpha=0.1,label = 'survived')\n",
    "        plt.xlabel(_x)\n",
    "        plt.ylabel(_y)\n",
    "        plt.axis('equal')"
   ]
  },
  {
   "cell_type": "code",
   "execution_count": null,
   "metadata": {},
   "outputs": [],
   "source": [
    "cst.LHC_F_REV"
   ]
  },
  {
   "cell_type": "code",
   "execution_count": null,
   "metadata": {},
   "outputs": [],
   "source": [
    "tracked.df.groupby('turn').count()"
   ]
  },
  {
   "cell_type": "code",
   "execution_count": null,
   "metadata": {},
   "outputs": [],
   "source": [
    "coord = tracked.coord_sig.set_index('particle')\n",
    "\n",
    "for bunch in [200,212,220]:\n",
    "    # 3 subplots\n",
    "    fig,ax = plt.subplots(1,4,figsize=(15,5))\n",
    "    fig.suptitle(f'Bunch {bunch}')\n",
    "    for _ax,xy in zip(ax,[('x_sig','px_sig'),('y_sig','py_sig'),('x_sig','y_sig'),('zeta_sig','pzeta_sig')]):\n",
    "        plt.sca(_ax)\n",
    "        #group = data.data.groupby('BUNCH').get_group(bunch)\n",
    "        _x,_y = xy\n",
    "        _surv = survived[bunch]\n",
    "        plt.plot(coord.loc[coord.index.isin(_surv),_x],coord.loc[coord.index.isin(_surv),_y],'.',color='C2',alpha=0.1,label = 'survived')\n",
    "        plt.plot(coord.loc[~coord.index.isin(_surv),_x],coord.loc[~coord.index.isin(_surv),_y],'.',color='C3',alpha=0.1,label = 'lost')\n",
    "        plt.legend()\n",
    "        plt.xlabel(_x)\n",
    "        plt.ylabel(_y)\n",
    "        plt.axis('equal')"
   ]
  },
  {
   "cell_type": "code",
   "execution_count": null,
   "metadata": {},
   "outputs": [],
   "source": [
    "tracked.df"
   ]
  },
  {
   "cell_type": "code",
   "execution_count": null,
   "metadata": {},
   "outputs": [],
   "source": [
    "coord = tracked.coord.set_index('particle')\n",
    "\n",
    "for bunch in [200,212,220]:\n",
    "    # 3 subplots\n",
    "    fig,ax = plt.subplots(1,4,figsize=(15,5))\n",
    "    fig.suptitle(f'Bunch {bunch}')\n",
    "    for _ax,xy in zip(ax,[('x','px'),('y','py'),('x','y'),('zeta','pzeta')]):\n",
    "        plt.sca(_ax)\n",
    "        #group = data.data.groupby('BUNCH').get_group(bunch)\n",
    "        _x,_y = xy\n",
    "        _surv = survived[bunch]\n",
    "        plt.plot(coord.loc[coord.index.isin(_surv),_x],coord.loc[coord.index.isin(_surv),_y],'.',color='C2',alpha=0.5,label = 'survived')\n",
    "        plt.plot(coord.loc[~coord.index.isin(_surv),_x],coord.loc[~coord.index.isin(_surv),_y],'.',color='C3',alpha=0.5,label = 'lost')\n",
    "        plt.legend()\n",
    "        plt.xlabel(_x)\n",
    "        plt.ylabel(_y)\n",
    "        # plt.axis('equal')"
   ]
  },
  {
   "cell_type": "code",
   "execution_count": null,
   "metadata": {},
   "outputs": [],
   "source": [
    "tracked.coord_sig"
   ]
  },
  {
   "cell_type": "code",
   "execution_count": null,
   "metadata": {},
   "outputs": [],
   "source": []
  },
  {
   "cell_type": "code",
   "execution_count": null,
   "metadata": {},
   "outputs": [],
   "source": []
  },
  {
   "cell_type": "code",
   "execution_count": null,
   "metadata": {},
   "outputs": [],
   "source": []
  },
  {
   "cell_type": "code",
   "execution_count": null,
   "metadata": {},
   "outputs": [],
   "source": []
  },
  {
   "cell_type": "code",
   "execution_count": null,
   "metadata": {},
   "outputs": [],
   "source": [
    "\n",
    "# for (name,df),(name2,calc) in zip(tracked.df.groupby('particle'),calculations.calculations.groupby('particle')):\n",
    "    # assert name==name2, \"Problem with the particle ID\"\n",
    "    # if name in [10,20,30]:\n",
    "\n",
    "worst_particles = calculations.data.groupby('particle').apply(lambda part: np.max(part.x_max)-np.min(part.x_max)).sort_values(ascending=False).index\n",
    "# for part_ID in worst_particles[1:20]:#np.arange(10,20):\n",
    "for part_ID in np.arange(10,20):\n",
    "    df = tracked.df_sig.groupby('particle').get_group(part_ID)\n",
    "    calc = calculations.calculations_sig.groupby('particle').get_group(part_ID)\n",
    "\n",
    "    plt.figure()\n",
    "    plt.plot(df.turn,df.x_sig,'-')\n",
    "    plt.step(list(calc.start_at_turn) + [list(calc.stop_at_turn)[-1]],list(calc.x_sig_min) + [np.nan],'-',where='post')\n",
    "    plt.step(list(calc.start_at_turn) + [list(calc.stop_at_turn)[-1]],list(calc.x_sig_max) + [np.nan],'-',where='post',color='C1')\n",
    "    # plt.axhline(0.005,color='k')\n",
    "    # plt.axhline(-0.005,color='k')\n",
    "    # else:\n",
    "    #     continue\n",
    "    # plt.ylim([-0.007,0.007])"
   ]
  },
  {
   "cell_type": "code",
   "execution_count": null,
   "metadata": {},
   "outputs": [],
   "source": [
    "\n",
    "# for (name,df),(name2,calc) in zip(tracked.df.groupby('particle'),calculations.calculations.groupby('particle')):\n",
    "    # assert name==name2, \"Problem with the particle ID\"\n",
    "    # if name in [10,20,30]:\n",
    "\n",
    "worst_particles = calculations.data.groupby('particle').apply(lambda part: np.max(part.x_max)-np.min(part.x_max)).sort_values(ascending=False).index\n",
    "for part_ID in worst_particles[1:20]:#np.arange(10,20):\n",
    "    df = tracked.df.groupby('particle').get_group(part_ID)\n",
    "    calc = calculations.data.groupby('particle').get_group(part_ID)\n",
    "\n",
    "    plt.figure()\n",
    "    plt.plot(df.turn,df.x,'-')\n",
    "    plt.step(list(calc.start_at_turn) + [list(calc.stop_at_turn)[-1]],list(calc.x_min) + [np.nan],'-',where='post')\n",
    "    plt.step(list(calc.start_at_turn) + [list(calc.stop_at_turn)[-1]],list(calc.x_max) + [np.nan],'-',where='post',color='C1')\n",
    "    plt.axhline(0.005,color='k')\n",
    "    plt.axhline(-0.005,color='k')\n",
    "    # else:\n",
    "    #     continue\n",
    "    plt.ylim([-0.007,0.007])"
   ]
  },
  {
   "cell_type": "code",
   "execution_count": null,
   "metadata": {},
   "outputs": [],
   "source": [
    "\n",
    "# for (name,df),(name2,calc) in zip(tracked.df.groupby('particle'),calculations.calculations.groupby('particle')):\n",
    "    # assert name==name2, \"Problem with the particle ID\"\n",
    "    # if name in [10,20,30]:\n",
    "\n",
    "# worst_particles = calculations.calculations.groupby('particle').apply(lambda part: np.max(part.x_max)-np.min(part.x_max)).sort_values(ascending=True).index\n",
    "for part_ID in np.arange(10,20):\n",
    "    df = tracked.df.groupby('particle').get_group(part_ID)\n",
    "    calc = calculations.data.groupby('particle').get_group(part_ID)\n",
    "\n",
    "    plt.figure()\n",
    "    plt.plot(df.turn,df.x,'-')\n",
    "    plt.step(list(calc.start_at_turn) + [list(calc.stop_at_turn)[-1]],list(calc.x_min) + [np.nan],'-',where='post')\n",
    "    plt.step(list(calc.start_at_turn) + [list(calc.stop_at_turn)[-1]],list(calc.x_max) + [np.nan],'-',where='post',color='C1')\n",
    "    plt.axhline(0.005,color='k')\n",
    "    plt.axhline(-0.005,color='k')\n",
    "    # else:\n",
    "    #     continue\n",
    "    plt.ylim([-0.007,0.007])"
   ]
  },
  {
   "cell_type": "code",
   "execution_count": null,
   "metadata": {},
   "outputs": [],
   "source": [
    "cst.LHC_F_REV*30*60"
   ]
  },
  {
   "cell_type": "code",
   "execution_count": null,
   "metadata": {},
   "outputs": [],
   "source": [
    "calculations.data"
   ]
  },
  {
   "cell_type": "code",
   "execution_count": null,
   "metadata": {},
   "outputs": [],
   "source": [
    "tracked.df"
   ]
  },
  {
   "cell_type": "code",
   "execution_count": null,
   "metadata": {},
   "outputs": [],
   "source": [
    "plt.figure(figsize=(10,10))\n",
    "plt.plot(tracked.coord_sig.x_sig,tracked.coord_sig.px_sig,'.',alpha=0.1)\n",
    "plt.axis('square')"
   ]
  },
  {
   "cell_type": "code",
   "execution_count": null,
   "metadata": {},
   "outputs": [],
   "source": [
    "plt.figure(figsize=(10,10))\n",
    "plt.plot(tracked.coord_sig.x_sig,tracked.coord_sig.y_sig,'.',alpha=0.1)\n",
    "plt.axis('square')"
   ]
  },
  {
   "cell_type": "code",
   "execution_count": null,
   "metadata": {},
   "outputs": [],
   "source": [
    "calculations"
   ]
  },
  {
   "cell_type": "code",
   "execution_count": null,
   "metadata": {},
   "outputs": [],
   "source": [
    "\n",
    "# for (name,df),(name2,calc) in zip(tracked.df.groupby('particle'),calculations.calculations.groupby('particle')):\n",
    "    # assert name==name2, \"Problem with the particle ID\"\n",
    "    # if name in [10,20,30]:\n",
    "\n",
    "# worst_particles = calculations.calculations.groupby('particle').apply(lambda part: np.max(part.x_max)-np.min(part.x_max)).sort_values(ascending=True).index\n",
    "for part_ID in np.arange(10,20):\n",
    "    df = tracked.df_n.groupby('particle').get_group(part_ID)\n",
    "    calc = calculations.calculations.groupby('particle').get_group(part_ID)\n",
    "\n",
    "    plt.figure()\n",
    "    plt.plot(df.x_n,df.px_n,'-')\n",
    "    # plt.step(list(calc.start_at_turn) + [list(calc.stop_at_turn)[-1]],list(calc.x_min) + [np.nan],'-',where='post')\n",
    "    # plt.step(list(calc.start_at_turn) + [list(calc.stop_at_turn)[-1]],list(calc.x_max) + [np.nan],'-',where='post',color='C1')\n",
    "    # plt.axhline(0.005,color='k')\n",
    "    # plt.axhline(-0.005,color='k')\n",
    "    # else:\n",
    "    #     continue\n",
    "    # plt.ylim([-0.007,0.007])\n",
    "    plt.axis('equal')"
   ]
  },
  {
   "cell_type": "code",
   "execution_count": null,
   "metadata": {},
   "outputs": [],
   "source": [
    "tracked.df[tracked.df['turn']>=901]"
   ]
  },
  {
   "cell_type": "code",
   "execution_count": null,
   "metadata": {},
   "outputs": [],
   "source": [
    "import matplotlib.pyplot as plt\n",
    "test = calculations._calculations\n",
    "for part in [0,10,20]:\n",
    "    plt.figure()\n",
    "    plt.plot(tracked.df.groupby('particle').get_group(part).turn,tracked.df.groupby('particle').get_group(part).x,'-')\n",
    "    plt.axhline(test.groupby('start_at_turn').get_group(901).iloc[part].x_min,color='k')\n",
    "    plt.axhline(test.groupby('start_at_turn').get_group(901).iloc[part].x_max,color='k')\n",
    "    plt.xlim(900,1000)"
   ]
  }
 ],
 "metadata": {
  "kernelspec": {
   "display_name": "py-BB",
   "language": "python",
   "name": "py-bb"
  },
  "language_info": {
   "codemirror_mode": {
    "name": "ipython",
    "version": 3
   },
   "file_extension": ".py",
   "mimetype": "text/x-python",
   "name": "python",
   "nbconvert_exporter": "python",
   "pygments_lexer": "ipython3",
   "version": "3.11.5"
  }
 },
 "nbformat": 4,
 "nbformat_minor": 2
}
