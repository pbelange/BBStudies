{
 "cells": [
  {
   "cell_type": "code",
   "execution_count": 1,
   "metadata": {},
   "outputs": [],
   "source": [
    "import matplotlib.pyplot as plt\n",
    "import numpy as np\n",
    "import pandas as pd\n",
    "from pathlib import Path\n",
    "import gc\n",
    "\n",
    "\n",
    "# xsuite\n",
    "import xtrack as xt\n",
    "import xmask as xm\n",
    "import xfields as xf\n",
    "import xpart as xp\n",
    "import xobjects as xo\n",
    "\n",
    "\n",
    "# BBStudies\n",
    "import sys\n",
    "sys.path.append('/Users/pbelanger/ABPLocal/BBStudies')\n",
    "sys.path.append('/home/phbelang/abp/BBStudies')\n",
    "import BBStudies.Tracking.XsuitePlus as xPlus\n",
    "import BBStudies.Tracking.InteractionPoint as inp\n",
    "import BBStudies.Physics.Detuning as tune\n",
    "import BBStudies.Plotting.BBPlots as bbplt\n",
    "import BBStudies.Physics.Base as phys\n",
    "import BBStudies.Physics.Constants as cst\n",
    "\n",
    "\n",
    "\n",
    "\n",
    "\n",
    "\n",
    "\n",
    "tracked      = xPlus.Tracking_Interface.from_parquet('zfruits/tracking',partition_name='BUNCH',partition_ID='0224')\n",
    "# tracked2     = xPlus.Tracking_Interface.from_parquet('zfruits/tracking',partition_name='BUNCH',partition_ID='0001')\n",
    "calculations = xPlus.Tracking_Interface.from_parquet('zfruits/calculations',partition_name='BUNCH',partition_ID='0224')\n",
    "\n",
    "\n",
    "\n",
    "\n",
    "\n",
    "\n",
    "# Adding Caclulations in sig coordinates\n",
    "_self_sig = []\n",
    "_self     = calculations\n",
    "_df       = _self.calculations\n",
    "_phase_space = ['x','px','y','py','zeta','pzeta']\n",
    "for ii in ['min','max']:\n",
    "    renaming = {f'{key}_{ii}':key for key in _phase_space}\n",
    "    _n   = xPlus.W_phys2norm(**_df.rename(columns=renaming)[_phase_space],W_matrix=_self.W_matrix,particle_on_co=_self.particle_on_co,to_pd=True)\n",
    "    _sig = xPlus.norm2sigma(**_n[['x_n','px_n','y_n','py_n','zeta_n','pzeta_n']],nemitt_x= _self.nemitt_x, nemitt_y= _self.nemitt_y, nemitt_zeta= _self.nemitt_zeta, particle_on_co=_self.particle_on_co,to_pd=True)\n",
    "\n",
    "    renaming = {f'{key}_sig':f'{key}_sig_{ii}' for key in _phase_space}\n",
    "    _self_sig.append(_sig.rename(columns=renaming))\n",
    "\n",
    "\n",
    "calculations.calculations_sig = None\n",
    "calculations.calculations_sig = pd.concat([_df[['start_at_turn','stop_at_turn','particle']]] + _self_sig,axis=1)\n",
    "\n",
    "\n"
   ]
  },
  {
   "cell_type": "code",
   "execution_count": 39,
   "metadata": {},
   "outputs": [
    {
     "data": {
      "text/plain": [
       "1.23695"
      ]
     },
     "execution_count": 39,
     "metadata": {},
     "output_type": "execute_result"
    }
   ],
   "source": [
    "10*int(cst.LHC_F_REV)/2000 * 2.2 / 100"
   ]
  },
  {
   "cell_type": "markdown",
   "metadata": {},
   "source": [
    "---\n",
    "# Computing particles lost on collimator\n",
    "---"
   ]
  },
  {
   "cell_type": "code",
   "execution_count": 40,
   "metadata": {},
   "outputs": [
    {
     "ename": "NameError",
     "evalue": "name 'self' is not defined",
     "output_type": "error",
     "traceback": [
      "\u001b[0;31m---------------------------------------------------------------------------\u001b[0m",
      "\u001b[0;31mNameError\u001b[0m                                 Traceback (most recent call last)",
      "\u001b[1;32m/home/phbelang/abp/BBStudies/Machines/XMask/Jobs/003_particle_dist_and_track/analysis_test.ipynb Cell 4\u001b[0m line \u001b[0;36m1\n\u001b[0;32m----> <a href='vscode-notebook-cell://ssh-remote%2B7b22686f73744e616d65223a22475055303031227d/home/phbelang/abp/BBStudies/Machines/XMask/Jobs/003_particle_dist_and_track/analysis_test.ipynb#Y100sdnNjb2RlLXJlbW90ZQ%3D%3D?line=0'>1</a>\u001b[0m xt\u001b[39m.\u001b[39mParticlesMonitor( _context         \u001b[39m=\u001b[39m \u001b[39mself\u001b[39;49m\u001b[39m.\u001b[39mcontext,\n\u001b[1;32m      <a href='vscode-notebook-cell://ssh-remote%2B7b22686f73744e616d65223a22475055303031227d/home/phbelang/abp/BBStudies/Machines/XMask/Jobs/003_particle_dist_and_track/analysis_test.ipynb#Y100sdnNjb2RlLXJlbW90ZQ%3D%3D?line=1'>2</a>\u001b[0m                                                         start_at_turn    \u001b[39m=\u001b[39m last_turn, \n\u001b[1;32m      <a href='vscode-notebook-cell://ssh-remote%2B7b22686f73744e616d65223a22475055303031227d/home/phbelang/abp/BBStudies/Machines/XMask/Jobs/003_particle_dist_and_track/analysis_test.ipynb#Y100sdnNjb2RlLXJlbW90ZQ%3D%3D?line=2'>3</a>\u001b[0m                                                         stop_at_turn     \u001b[39m=\u001b[39m last_turn \u001b[39m+\u001b[39m chunk,\n\u001b[1;32m      <a href='vscode-notebook-cell://ssh-remote%2B7b22686f73744e616d65223a22475055303031227d/home/phbelang/abp/BBStudies/Machines/XMask/Jobs/003_particle_dist_and_track/analysis_test.ipynb#Y100sdnNjb2RlLXJlbW90ZQ%3D%3D?line=3'>4</a>\u001b[0m                                                         n_repetitions    \u001b[39m=\u001b[39m \u001b[39m1\u001b[39m,\n\u001b[1;32m      <a href='vscode-notebook-cell://ssh-remote%2B7b22686f73744e616d65223a22475055303031227d/home/phbelang/abp/BBStudies/Machines/XMask/Jobs/003_particle_dist_and_track/analysis_test.ipynb#Y100sdnNjb2RlLXJlbW90ZQ%3D%3D?line=4'>5</a>\u001b[0m                                                         repetition_period\u001b[39m=\u001b[39m \u001b[39m1\u001b[39m,\n\u001b[1;32m      <a href='vscode-notebook-cell://ssh-remote%2B7b22686f73744e616d65223a22475055303031227d/home/phbelang/abp/BBStudies/Machines/XMask/Jobs/003_particle_dist_and_track/analysis_test.ipynb#Y100sdnNjb2RlLXJlbW90ZQ%3D%3D?line=5'>6</a>\u001b[0m                                                     num_particles    \u001b[39m=\u001b[39m \u001b[39mself\u001b[39m\u001b[39m.\u001b[39mn_parts)\n",
      "\u001b[0;31mNameError\u001b[0m: name 'self' is not defined"
     ]
    }
   ],
   "source": [
    "xt.ParticlesMonitor( _context         = self.context,\n",
    "                                                        start_at_turn    = last_turn, \n",
    "                                                        stop_at_turn     = last_turn + chunk,\n",
    "                                                        n_repetitions    = 1,\n",
    "                                                        repetition_period= 1,\n",
    "                                                    num_particles    = self.n_parts)"
   ]
  },
  {
   "cell_type": "code",
   "execution_count": 20,
   "metadata": {},
   "outputs": [],
   "source": [
    "\n",
    "col_setting = 4 #sigma\n",
    "\n",
    "real_x = tracked.coord[tracked.coord_sig.x_sig<col_setting].x.max()\n",
    "real_y = tracked.coord[tracked.coord_sig.y_sig<col_setting].y.max()\n",
    "\n",
    "\n",
    "# For regular tracking\n",
    "#----------------------------------\n",
    "df = tracked.df.copy()\n",
    "\n",
    "collimator_lost     = df.groupby('particle').apply(lambda part: (np.cumsum(\n",
    "                                                    # Condition: exceed col either in x or y\n",
    "                                                    (part.x.abs()>real_x)|(part.y.abs()>real_y)\n",
    "                                                    ).astype(bool)))\n",
    "idx_collimator_lost = collimator_lost.index.get_level_values(1)\n",
    "\n",
    "df.insert(0,'collimator_lost',False)\n",
    "df.loc[idx_collimator_lost,'collimator_lost'] = collimator_lost.values\n",
    "tracked.df_collimator = None\n",
    "tracked.df_collimator = df\n",
    "#----------------------------------\n",
    "\n",
    "\n",
    "# For calculations\n",
    "#----------------------------------\n",
    "df = calculations.calculations.copy()\n",
    "\n",
    "collimator_lost     = df.groupby('particle').apply(lambda part: (np.cumsum(\n",
    "                                                    # Condition: exceed col either in x or y\n",
    "                                                    (part.x_min.abs()>real_x)|(part.x_max.abs()>real_x)|(part.y_min.abs()>real_y)|(part.y_max.abs()>real_y)\n",
    "                                                    ).astype(bool)))\n",
    "idx_collimator_lost = collimator_lost.index.get_level_values(1)\n",
    "\n",
    "df.insert(0,'collimator_lost',False)\n",
    "df.loc[idx_collimator_lost,'collimator_lost'] = collimator_lost.values\n",
    "calculations.calculations_collimator = None\n",
    "calculations.calculations_collimator = df\n",
    "#----------------------------------"
   ]
  },
  {
   "cell_type": "code",
   "execution_count": 18,
   "metadata": {},
   "outputs": [],
   "source": [
    "%matplotlib widget"
   ]
  },
  {
   "cell_type": "code",
   "execution_count": 28,
   "metadata": {},
   "outputs": [
    {
     "data": {
      "text/plain": [
       "[<matplotlib.lines.Line2D at 0x7f07281ec040>]"
      ]
     },
     "execution_count": 28,
     "metadata": {},
     "output_type": "execute_result"
    },
    {
     "data": {
      "application/vnd.jupyter.widget-view+json": {
       "model_id": "f15a0127bb214ba8925b6b14c72a17b6",
       "version_major": 2,
       "version_minor": 0
      },
      "image/png": "[encoded data removed]",
      "text/html": [
       "\n",
       "            <div style=\"display: inline-block;\">\n",
       "                <div class=\"jupyter-widgets widget-label\" style=\"text-align: center;\">\n",
       "                    Figure\n",
       "                </div>\n",
       "                <img src='data:image/png;base64,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' width=640.0/>\n",
       "            </div>\n",
       "        "
      ],
      "text/plain": [
       "Canvas(toolbar=Toolbar(toolitems=[('Home', 'Reset original view', 'home', 'home'), ('Back', 'Back to previous …"
      ]
     },
     "metadata": {},
     "output_type": "display_data"
    },
    {
     "data": {
      "application/vnd.jupyter.widget-view+json": {
       "model_id": "b94caeb1bc0141ebaed93f26a8b26716",
       "version_major": 2,
       "version_minor": 0
      },
      "image/png": "[encoded data removed]",
      "text/html": [
       "\n",
       "            <div style=\"display: inline-block;\">\n",
       "                <div class=\"jupyter-widgets widget-label\" style=\"text-align: center;\">\n",
       "                    Figure\n",
       "                </div>\n",
       "                <img src='data:image/png;base64,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' width=640.0/>\n",
       "            </div>\n",
       "        "
      ],
      "text/plain": [
       "Canvas(toolbar=Toolbar(toolitems=[('Home', 'Reset original view', 'home', 'home'), ('Back', 'Back to previous …"
      ]
     },
     "metadata": {},
     "output_type": "display_data"
    }
   ],
   "source": [
    "Intensity_trk = tracked.df_collimator[~tracked.df_collimator.collimator_lost].groupby('turn').count().particle\n",
    "Intensity_clc = calculations.calculations_collimator[~calculations.calculations_collimator.collimator_lost].groupby('stop_at_turn').count().particle\n",
    "\n",
    "\n",
    "plt.figure()\n",
    "plt.plot(Intensity_trk.index,Intensity_trk.values)\n",
    "# plt.plot(Intensity_clc.index,Intensity_clc.values)\n",
    "plt.step(Intensity_clc.index,Intensity_clc.values,'-',where='post')\n",
    "# plt.ylim([7e3,9e3])\n",
    "\n",
    "\n",
    "\n",
    "plt.figure()\n",
    "plt.plot(Intensity_trk.index[:-1],-np.diff(Intensity_trk.values))\n",
    "# plt.plot(Intensity_clc.index[:-1],-np.diff(Intensity_clc.values))\n",
    "plt.step(Intensity_clc.index[:-1],-np.diff(Intensity_clc.values)/np.diff(Intensity_clc.index),'-',where='post')\n",
    "# plt.ylim([-5,10])\n"
   ]
  },
  {
   "cell_type": "code",
   "execution_count": null,
   "metadata": {},
   "outputs": [],
   "source": [
    "Intensity = df[~df.collimator_lost].groupby('turn').count().particle\n",
    "\n",
    "plt.figure()\n",
    "plt.plot(Intensity.index,Intensity.values)\n",
    "plt.ylim([7e3,9e3])\n",
    "\n",
    "\n",
    "\n",
    "plt.figure()\n",
    "plt.plot(Intensity.index[:-1],-np.diff(Intensity.values))\n",
    "plt.ylim([-10,25])\n"
   ]
  },
  {
   "cell_type": "code",
   "execution_count": null,
   "metadata": {},
   "outputs": [],
   "source": [
    "Intensity.values[-20:]"
   ]
  },
  {
   "cell_type": "code",
   "execution_count": null,
   "metadata": {},
   "outputs": [],
   "source": [
    "np.argmin(traj.x_sig>col_setting)"
   ]
  },
  {
   "cell_type": "code",
   "execution_count": null,
   "metadata": {},
   "outputs": [],
   "source": [
    "collimator_lost = np.zeros()"
   ]
  },
  {
   "cell_type": "code",
   "execution_count": null,
   "metadata": {},
   "outputs": [],
   "source": [
    "_calc_n = []\n",
    "for ii in ['min','max']:\n",
    " dummy = \n",
    " _calc_n.append(xPlus.W_phys2norm(**calculations.calculations[[f'x_{key}',f'px_{key}',f'y_{key}',f'py_{key}',f'zeta_{key}',f'pzeta_{key}']],W_matrix=calculations.W_matrix,particle_on_co=calculations.particle_on_co,to_pd=True))"
   ]
  },
  {
   "cell_type": "code",
   "execution_count": null,
   "metadata": {},
   "outputs": [],
   "source": []
  },
  {
   "cell_type": "code",
   "execution_count": null,
   "metadata": {},
   "outputs": [],
   "source": [
    "calculations.calculations_sig"
   ]
  },
  {
   "cell_type": "code",
   "execution_count": null,
   "metadata": {},
   "outputs": [],
   "source": [
    "calculations.calculations"
   ]
  },
  {
   "cell_type": "code",
   "execution_count": null,
   "metadata": {},
   "outputs": [],
   "source": [
    "_sig.rename(columns=renaming)"
   ]
  },
  {
   "cell_type": "code",
   "execution_count": null,
   "metadata": {},
   "outputs": [],
   "source": [
    "_n"
   ]
  },
  {
   "cell_type": "code",
   "execution_count": null,
   "metadata": {},
   "outputs": [],
   "source": [
    "calculations.calculations"
   ]
  },
  {
   "cell_type": "code",
   "execution_count": null,
   "metadata": {},
   "outputs": [],
   "source": [
    "calculations.calculations.rename(columns={'x_min':'x'})"
   ]
  },
  {
   "cell_type": "code",
   "execution_count": null,
   "metadata": {},
   "outputs": [],
   "source": [
    "calculations.calculations"
   ]
  },
  {
   "cell_type": "code",
   "execution_count": null,
   "metadata": {},
   "outputs": [],
   "source": [
    "~df.collimator_lost"
   ]
  },
  {
   "cell_type": "code",
   "execution_count": null,
   "metadata": {},
   "outputs": [],
   "source": [
    "traj = df.groupby('particle').get_group(139)\n",
    "\n",
    "# condition = np.invert(np.cumsum(traj.x_sig>col_setting).astype(bool))\n",
    "\n",
    "plt.figure()\n",
    "plt.plot(traj.turn,traj.x_sig)\n",
    "plt.plot(traj[~traj.collimator_lost].turn,traj[~traj.collimator_lost].x_sig)\n",
    "\n",
    "plt.ylim([-20,20])"
   ]
  },
  {
   "cell_type": "code",
   "execution_count": null,
   "metadata": {},
   "outputs": [],
   "source": [
    "collimator_lost.index.get_level_values(1)"
   ]
  },
  {
   "cell_type": "code",
   "execution_count": null,
   "metadata": {},
   "outputs": [],
   "source": [
    "col_setting = 15\n",
    "traj = df.groupby('particle').get_group(139)\n",
    "\n",
    "condition = np.invert(np.cumsum(traj.x_sig>col_setting).astype(bool))\n",
    "\n",
    "plt.figure()\n",
    "plt.plot(traj.turn,traj.x_sig)\n",
    "plt.plot(traj[condition].turn,traj[condition].x_sig)\n",
    "\n",
    "plt.ylim([-20,20])"
   ]
  },
  {
   "cell_type": "code",
   "execution_count": null,
   "metadata": {},
   "outputs": [],
   "source": [
    "df.groupby('particle').apply(lambda part:) "
   ]
  },
  {
   "cell_type": "code",
   "execution_count": null,
   "metadata": {},
   "outputs": [],
   "source": [
    "df[df.state].groupby('turn').count()"
   ]
  },
  {
   "cell_type": "code",
   "execution_count": null,
   "metadata": {},
   "outputs": [],
   "source": [
    "calculations.calculations\n",
    "coord_n = W_phys2norm(**self.df[['x','px','y','py','zeta','pzeta']],W_matrix=self.W_matrix,particle_on_co=self.particle_on_co,to_pd=True)"
   ]
  },
  {
   "cell_type": "code",
   "execution_count": null,
   "metadata": {},
   "outputs": [],
   "source": []
  },
  {
   "cell_type": "code",
   "execution_count": null,
   "metadata": {},
   "outputs": [],
   "source": [
    "worst_particles[1:20]"
   ]
  },
  {
   "cell_type": "code",
   "execution_count": null,
   "metadata": {},
   "outputs": [],
   "source": [
    "\n",
    "# for (name,df),(name2,calc) in zip(tracked.df.groupby('particle'),calculations.calculations.groupby('particle')):\n",
    "    # assert name==name2, \"Problem with the particle ID\"\n",
    "    # if name in [10,20,30]:\n",
    "\n",
    "worst_particles = calculations.calculations.groupby('particle').apply(lambda part: np.max(part.x_max)-np.min(part.x_max)).sort_values(ascending=False).index\n",
    "# for part_ID in worst_particles[1:20]:#np.arange(10,20):\n",
    "for part_ID in np.arange(10,20):\n",
    "    df = tracked.df_sig.groupby('particle').get_group(part_ID)\n",
    "    calc = calculations.calculations_sig.groupby('particle').get_group(part_ID)\n",
    "\n",
    "    plt.figure()\n",
    "    plt.plot(df.turn,df.x_sig,'-')\n",
    "    plt.step(list(calc.start_at_turn) + [list(calc.stop_at_turn)[-1]],list(calc.x_sig_min) + [np.nan],'-',where='post')\n",
    "    plt.step(list(calc.start_at_turn) + [list(calc.stop_at_turn)[-1]],list(calc.x_sig_max) + [np.nan],'-',where='post',color='C1')\n",
    "    # plt.axhline(0.005,color='k')\n",
    "    # plt.axhline(-0.005,color='k')\n",
    "    # else:\n",
    "    #     continue\n",
    "    # plt.ylim([-0.007,0.007])"
   ]
  },
  {
   "cell_type": "code",
   "execution_count": null,
   "metadata": {},
   "outputs": [],
   "source": [
    "\n",
    "# for (name,df),(name2,calc) in zip(tracked.df.groupby('particle'),calculations.calculations.groupby('particle')):\n",
    "    # assert name==name2, \"Problem with the particle ID\"\n",
    "    # if name in [10,20,30]:\n",
    "\n",
    "worst_particles = calculations.calculations.groupby('particle').apply(lambda part: np.max(part.x_max)-np.min(part.x_max)).sort_values(ascending=False).index\n",
    "for part_ID in worst_particles[1:20]:#np.arange(10,20):\n",
    "    df = tracked.df.groupby('particle').get_group(part_ID)\n",
    "    calc = calculations.calculations.groupby('particle').get_group(part_ID)\n",
    "\n",
    "    plt.figure()\n",
    "    plt.plot(df.turn,df.x,'-')\n",
    "    plt.step(list(calc.start_at_turn) + [list(calc.stop_at_turn)[-1]],list(calc.x_min) + [np.nan],'-',where='post')\n",
    "    plt.step(list(calc.start_at_turn) + [list(calc.stop_at_turn)[-1]],list(calc.x_max) + [np.nan],'-',where='post',color='C1')\n",
    "    plt.axhline(0.005,color='k')\n",
    "    plt.axhline(-0.005,color='k')\n",
    "    # else:\n",
    "    #     continue\n",
    "    plt.ylim([-0.007,0.007])"
   ]
  },
  {
   "cell_type": "code",
   "execution_count": null,
   "metadata": {},
   "outputs": [],
   "source": [
    "\n",
    "# for (name,df),(name2,calc) in zip(tracked.df.groupby('particle'),calculations.calculations.groupby('particle')):\n",
    "    # assert name==name2, \"Problem with the particle ID\"\n",
    "    # if name in [10,20,30]:\n",
    "\n",
    "# worst_particles = calculations.calculations.groupby('particle').apply(lambda part: np.max(part.x_max)-np.min(part.x_max)).sort_values(ascending=True).index\n",
    "for part_ID in np.arange(10,20):\n",
    "    df = tracked.df.groupby('particle').get_group(part_ID)\n",
    "    calc = calculations.calculations.groupby('particle').get_group(part_ID)\n",
    "\n",
    "    plt.figure()\n",
    "    plt.plot(df.turn,df.x,'-')\n",
    "    plt.step(list(calc.start_at_turn) + [list(calc.stop_at_turn)[-1]],list(calc.x_min) + [np.nan],'-',where='post')\n",
    "    plt.step(list(calc.start_at_turn) + [list(calc.stop_at_turn)[-1]],list(calc.x_max) + [np.nan],'-',where='post',color='C1')\n",
    "    plt.axhline(0.005,color='k')\n",
    "    plt.axhline(-0.005,color='k')\n",
    "    # else:\n",
    "    #     continue\n",
    "    plt.ylim([-0.007,0.007])"
   ]
  },
  {
   "cell_type": "code",
   "execution_count": null,
   "metadata": {},
   "outputs": [],
   "source": [
    "\n",
    "# for (name,df),(name2,calc) in zip(tracked.df.groupby('particle'),calculations.calculations.groupby('particle')):\n",
    "    # assert name==name2, \"Problem with the particle ID\"\n",
    "    # if name in [10,20,30]:\n",
    "\n",
    "# worst_particles = calculations.calculations.groupby('particle').apply(lambda part: np.max(part.x_max)-np.min(part.x_max)).sort_values(ascending=True).index\n",
    "for part_ID in np.arange(10,20):\n",
    "    df = tracked.df_n.groupby('particle').get_group(part_ID)\n",
    "    calc = calculations.calculations.groupby('particle').get_group(part_ID)\n",
    "\n",
    "    plt.figure()\n",
    "    plt.plot(df.x_n,df.px_n,'-')\n",
    "    # plt.step(list(calc.start_at_turn) + [list(calc.stop_at_turn)[-1]],list(calc.x_min) + [np.nan],'-',where='post')\n",
    "    # plt.step(list(calc.start_at_turn) + [list(calc.stop_at_turn)[-1]],list(calc.x_max) + [np.nan],'-',where='post',color='C1')\n",
    "    # plt.axhline(0.005,color='k')\n",
    "    # plt.axhline(-0.005,color='k')\n",
    "    # else:\n",
    "    #     continue\n",
    "    # plt.ylim([-0.007,0.007])\n",
    "    plt.axis('equal')"
   ]
  },
  {
   "cell_type": "code",
   "execution_count": null,
   "metadata": {},
   "outputs": [],
   "source": [
    "tracked.df[tracked.df['turn']>=901]"
   ]
  },
  {
   "cell_type": "code",
   "execution_count": null,
   "metadata": {},
   "outputs": [],
   "source": [
    "import matplotlib.pyplot as plt\n",
    "test = calculations._calculations\n",
    "for part in [0,10,20]:\n",
    "    plt.figure()\n",
    "    plt.plot(tracked.df.groupby('particle').get_group(part).turn,tracked.df.groupby('particle').get_group(part).x,'-')\n",
    "    plt.axhline(test.groupby('start_at_turn').get_group(901).iloc[part].x_min,color='k')\n",
    "    plt.axhline(test.groupby('start_at_turn').get_group(901).iloc[part].x_max,color='k')\n",
    "    plt.xlim(900,1000)"
   ]
  }
 ],
 "metadata": {
  "kernelspec": {
   "display_name": "py-BB",
   "language": "python",
   "name": "py-bb"
  },
  "language_info": {
   "codemirror_mode": {
    "name": "ipython",
    "version": 3
   },
   "file_extension": ".py",
   "mimetype": "text/x-python",
   "name": "python",
   "nbconvert_exporter": "python",
   "pygments_lexer": "ipython3",
   "version": "3.10.12"
  }
 },
 "nbformat": 4,
 "nbformat_minor": 2
}
