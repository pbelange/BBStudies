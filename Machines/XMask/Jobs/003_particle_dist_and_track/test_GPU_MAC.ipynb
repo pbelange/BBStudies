{
 "cells": [
  {
   "cell_type": "code",
   "execution_count": 1,
   "metadata": {},
   "outputs": [
    {
     "name": "stdout",
     "output_type": "stream",
     "text": [
      "Compiling ContextCpu kernels...\n",
      "Done compiling ContextCpu kernels.\n"
     ]
    },
    {
     "name": "stderr",
     "output_type": "stream",
     "text": [
      "ld: warning: -pie being ignored. It is only used when linking a main executable\n"
     ]
    },
    {
     "data": {
      "text/plain": [
       "array([[-6.18290763e-06, -7.07623986e-04,  6.08123812e-06, ...,\n",
       "        -7.07649447e-04,  1.20099310e-06,  7.07649620e-04],\n",
       "       [-1.48555837e-06, -1.93371886e-04,  1.53317044e-06, ...,\n",
       "        -1.93340543e-04,  3.81838712e-06,  1.93339603e-04],\n",
       "       [ 9.03591816e-07, -3.46850025e-04, -8.25933893e-07, ...,\n",
       "        -3.46839289e-04,  2.90162337e-06,  3.46838639e-04],\n",
       "       ...,\n",
       "       [ 3.85772604e-06,  6.89766295e-04, -4.10136644e-06, ...,\n",
       "         6.89599689e-04, -1.57949438e-05, -6.89594110e-04],\n",
       "       [ 9.19633790e-06, -8.82324133e-04, -9.44426837e-06, ...,\n",
       "        -8.82118170e-04, -2.13436932e-05,  8.82112173e-04],\n",
       "       [ 6.46510257e-06, -9.72570228e-04, -6.36209992e-06, ...,\n",
       "        -9.72590265e-04, -1.41791008e-06,  9.72590415e-04]])"
      ]
     },
     "execution_count": 1,
     "metadata": {},
     "output_type": "execute_result"
    }
   ],
   "source": [
    "import numpy as np\n",
    "\n",
    "import xobjects as xo\n",
    "import xtrack as xt\n",
    "import xpart as xp\n",
    "\n",
    "## Generate a simple line\n",
    "line = xt.Line(\n",
    "    elements=[xt.Drift(length=2.),\n",
    "              xt.Multipole(knl=[0, 1.], ksl=[0,0]),\n",
    "              xt.Drift(length=1.),\n",
    "              xt.Multipole(knl=[0, -1.], ksl=[0,0])],\n",
    "    element_names=['drift_0', 'quad_0', 'drift_1', 'quad_1'])\n",
    "\n",
    "## Attach a reference particle to the line (optional)\n",
    "## (defines the reference mass, charge and energy)\n",
    "line.particle_ref = xp.Particles(p0c=6500e9, #eV\n",
    "                                 q0=1, mass0=xp.PROTON_MASS_EV)\n",
    "\n",
    "## Choose a context\n",
    "context = xo.ContextCpu()         # For CPU\n",
    "# context = xo.ContextCupy()      # For CUDA GPUs\n",
    "# context = xo.ContextPyopencl()  # For OpenCL GPUs\n",
    "\n",
    "## Transfer lattice on context and compile tracking code\n",
    "line.build_tracker(_context=context)\n",
    "\n",
    "## Build particle object on context\n",
    "n_part = 200\n",
    "particles = xp.Particles(p0c=6500e9, #eV\n",
    "                        q0=1, mass0=xp.PROTON_MASS_EV,\n",
    "                        x=np.random.uniform(-1e-3, 1e-3, n_part),\n",
    "                        px=np.random.uniform(-1e-5, 1e-5, n_part),\n",
    "                        y=np.random.uniform(-2e-3, 2e-3, n_part),\n",
    "                        py=np.random.uniform(-3e-5, 3e-5, n_part),\n",
    "                        zeta=np.random.uniform(-1e-2, 1e-2, n_part),\n",
    "                        delta=np.random.uniform(-1e-4, 1e-4, n_part),\n",
    "                        _context=context)\n",
    "\n",
    "## Track (saving turn-by-turn data)\n",
    "n_turns = 100\n",
    "line.track(particles, num_turns=n_turns,\n",
    "              turn_by_turn_monitor=True)\n",
    "\n",
    "## Turn-by-turn data is available at:\n",
    "line.record_last_track.x\n",
    "line.record_last_track.px"
   ]
  },
  {
   "cell_type": "code",
   "execution_count": 5,
   "metadata": {},
   "outputs": [
    {
     "data": {
      "text/plain": [
       "array([[ 4.97198182e-06,  9.10738057e-04, -4.74522857e-06, ...,\n",
       "         9.10731083e-04,  6.13901411e-06, -9.10729555e-04],\n",
       "       [-6.02728754e-06, -5.97928458e-04,  6.08594942e-06, ...,\n",
       "        -5.97893306e-04,  8.90164032e-06,  5.97892432e-04],\n",
       "       [ 7.73260573e-06,  1.87471106e-04, -7.79157355e-06, ...,\n",
       "         1.87332551e-04, -1.06210151e-05, -1.87329210e-04],\n",
       "       ...,\n",
       "       [-1.05234899e-06,  7.89852218e-04,  1.01945653e-06, ...,\n",
       "         7.89852711e-04, -5.59382501e-07, -7.89852688e-04],\n",
       "       [ 7.32706162e-06,  5.76169955e-04, -7.52362647e-06, ...,\n",
       "         5.75971115e-04, -1.69572881e-05, -5.75965330e-04],\n",
       "       [ 4.72218888e-06, -4.75311398e-04, -4.67677550e-06, ...,\n",
       "        -4.75327952e-04, -2.49689069e-06,  4.75328190e-04]])"
      ]
     },
     "execution_count": 5,
     "metadata": {},
     "output_type": "execute_result"
    }
   ],
   "source": [
    "\n",
    "## Build particle object on context\n",
    "n_part = 200\n",
    "particles = xp.Particles(p0c=6500e9, #eV\n",
    "                        q0=1, mass0=xp.PROTON_MASS_EV,\n",
    "                        x=np.random.uniform(-1e-3, 1e-3, n_part),\n",
    "                        px=np.random.uniform(-1e-5, 1e-5, n_part),\n",
    "                        y=np.random.uniform(-2e-3, 2e-3, n_part),\n",
    "                        py=np.random.uniform(-3e-5, 3e-5, n_part),\n",
    "                        zeta=np.random.uniform(-1e-2, 1e-2, n_part),\n",
    "                        delta=np.random.uniform(-1e-4, 1e-4, n_part),\n",
    "                        _context=context)\n",
    "\n",
    "## Track (saving turn-by-turn data)\n",
    "n_turns = 100\n",
    "line.track(particles, num_turns=n_turns,\n",
    "              turn_by_turn_monitor=True)\n",
    "\n",
    "## Turn-by-turn data is available at:\n",
    "line.record_last_track.x\n",
    "line.record_last_track.px"
   ]
  },
  {
   "cell_type": "code",
   "execution_count": 5,
   "metadata": {},
   "outputs": [
    {
     "data": {
      "text/plain": [
       "array([[ 5.10248836e-07, -6.72065985e-04, -4.33227092e-07, ...,\n",
       "        -6.72058411e-04,  3.26380467e-06,  6.72058037e-04],\n",
       "       [-7.33872208e-06,  5.13595341e-04,  7.32890623e-06, ...,\n",
       "         5.13601852e-04,  6.85774239e-06, -5.13601984e-04],\n",
       "       [-9.92977666e-06, -8.99878778e-04,  9.87756363e-06, ...,\n",
       "        -8.99902871e-04,  7.37130211e-06,  8.99903298e-04],\n",
       "       ...,\n",
       "       [ 2.88626043e-06, -1.61995474e-04, -2.91649700e-06, ...,\n",
       "        -1.61962979e-04, -4.36771326e-06,  1.61962164e-04],\n",
       "       [ 3.74517933e-06, -4.89972664e-04, -3.92951153e-06, ...,\n",
       "        -4.89823487e-04, -1.27763223e-05,  4.89818680e-04],\n",
       "       [-7.10802645e-06,  3.93841980e-04,  7.06097154e-06, ...,\n",
       "         3.93876132e-04,  4.80222950e-06, -3.93876706e-04]])"
      ]
     },
     "execution_count": 5,
     "metadata": {},
     "output_type": "execute_result"
    }
   ],
   "source": [
    "import numpy as np\n",
    "\n",
    "import xobjects as xo\n",
    "import xtrack as xt\n",
    "import xpart as xp\n",
    "\n",
    "## Generate a simple line\n",
    "line = xt.Line(\n",
    "    elements=[xt.Drift(length=2.),\n",
    "              xt.Multipole(knl=[0, 1.], ksl=[0,0]),\n",
    "              xt.Drift(length=1.),\n",
    "              xt.Multipole(knl=[0, -1.], ksl=[0,0])],\n",
    "    element_names=['drift_0', 'quad_0', 'drift_1', 'quad_1'])\n",
    "\n",
    "## Attach a reference particle to the line (optional)\n",
    "## (defines the reference mass, charge and energy)\n",
    "line.particle_ref = xp.Particles(p0c=6500e9, #eV\n",
    "                                 q0=1, mass0=xp.PROTON_MASS_EV)\n",
    "\n",
    "## Choose a context\n",
    "# context = xo.ContextCpu()         # For CPU\n",
    "# context = xo.ContextCupy()      # For CUDA GPUs\n",
    "context = xo.ContextPyopencl(device='0.0')  # For OpenCL GPUs\n",
    "\n",
    "## Transfer lattice on context and compile tracking code\n",
    "line.build_tracker(_context=context)\n",
    "\n",
    "## Build particle object on context\n",
    "n_part = 200\n",
    "particles = xp.Particles(p0c=6500e9, #eV\n",
    "                        q0=1, mass0=xp.PROTON_MASS_EV,\n",
    "                        x=np.random.uniform(-1e-3, 1e-3, n_part),\n",
    "                        px=np.random.uniform(-1e-5, 1e-5, n_part),\n",
    "                        y=np.random.uniform(-2e-3, 2e-3, n_part),\n",
    "                        py=np.random.uniform(-3e-5, 3e-5, n_part),\n",
    "                        zeta=np.random.uniform(-1e-2, 1e-2, n_part),\n",
    "                        delta=np.random.uniform(-1e-4, 1e-4, n_part),\n",
    "                        _context=context)\n",
    "\n",
    "## Track (saving turn-by-turn data)\n",
    "n_turns = 100\n",
    "line.track(particles, num_turns=n_turns,\n",
    "              turn_by_turn_monitor=True)\n",
    "\n",
    "## Turn-by-turn data is available at:\n",
    "line.record_last_track.x\n",
    "line.record_last_track.px"
   ]
  },
  {
   "cell_type": "code",
   "execution_count": 4,
   "metadata": {},
   "outputs": [],
   "source": [
    "line.discard_tracker()"
   ]
  },
  {
   "cell_type": "code",
   "execution_count": null,
   "metadata": {},
   "outputs": [],
   "source": [
    "line.bui"
   ]
  },
  {
   "cell_type": "code",
   "execution_count": 2,
   "metadata": {},
   "outputs": [
    {
     "data": {
      "text/plain": [
       "array([[-6.54367231e-06,  4.77207891e-04,  6.70056742e-06, ...,\n",
       "         4.77043967e-04,  1.42303681e-05, -4.77039288e-04],\n",
       "       [ 4.92027093e-06, -1.94232330e-04, -4.92481409e-06, ...,\n",
       "        -1.94226681e-04, -5.14288229e-06,  1.94226560e-04],\n",
       "       [-8.90861096e-06,  1.40335355e-04,  8.91882022e-06, ...,\n",
       "         1.40303374e-04,  9.40880786e-06, -1.40302689e-04],\n",
       "       ...,\n",
       "       [ 9.42147591e-06,  9.37100367e-05, -9.45116992e-06, ...,\n",
       "         9.35556783e-05, -1.08753117e-05, -9.35522322e-05],\n",
       "       [-7.96729059e-07, -4.99836132e-04,  6.33330578e-07, ...,\n",
       "        -4.99785817e-04, -7.20955438e-06,  4.99783461e-04],\n",
       "       [ 2.12607914e-06,  4.27308888e-04, -2.23654286e-06, ...,\n",
       "         4.27248926e-04, -7.53848923e-06, -4.27246977e-04]])"
      ]
     },
     "execution_count": 2,
     "metadata": {},
     "output_type": "execute_result"
    }
   ],
   "source": [
    "\n",
    "## Build particle object on context\n",
    "n_part = 200\n",
    "particles = xp.Particles(p0c=6500e9, #eV\n",
    "                        q0=1, mass0=xp.PROTON_MASS_EV,\n",
    "                        x=np.random.uniform(-1e-3, 1e-3, n_part),\n",
    "                        px=np.random.uniform(-1e-5, 1e-5, n_part),\n",
    "                        y=np.random.uniform(-2e-3, 2e-3, n_part),\n",
    "                        py=np.random.uniform(-3e-5, 3e-5, n_part),\n",
    "                        zeta=np.random.uniform(-1e-2, 1e-2, n_part),\n",
    "                        delta=np.random.uniform(-1e-4, 1e-4, n_part),\n",
    "                        _context=context)\n",
    "\n",
    "## Track (saving turn-by-turn data)\n",
    "n_turns = 100\n",
    "line.track(particles, num_turns=n_turns,\n",
    "              turn_by_turn_monitor=True)\n",
    "\n",
    "## Turn-by-turn data is available at:\n",
    "line.record_last_track.x\n",
    "line.record_last_track.px"
   ]
  },
  {
   "cell_type": "code",
   "execution_count": 3,
   "metadata": {},
   "outputs": [
    {
     "ename": "AttributeError",
     "evalue": "'ContextCpu' object has no attribute 'device'",
     "output_type": "error",
     "traceback": [
      "\u001b[0;31m---------------------------------------------------------------------------\u001b[0m",
      "\u001b[0;31mAttributeError\u001b[0m                            Traceback (most recent call last)",
      "\u001b[1;32m/Users/pbelanger/ABPLocal/BBStudies/Examples/test_GPU_MAC.ipynb Cell 3\u001b[0m line \u001b[0;36m1\n\u001b[0;32m----> <a href='vscode-notebook-cell:/Users/pbelanger/ABPLocal/BBStudies/Examples/test_GPU_MAC.ipynb#W2sdW50aXRsZWQ%3D?line=0'>1</a>\u001b[0m context\u001b[39m.\u001b[39;49mdevice\n",
      "\u001b[0;31mAttributeError\u001b[0m: 'ContextCpu' object has no attribute 'device'"
     ]
    }
   ],
   "source": [
    "context.device"
   ]
  },
  {
   "cell_type": "code",
   "execution_count": 8,
   "metadata": {},
   "outputs": [
    {
     "name": "stdout",
     "output_type": "stream",
     "text": [
      "Context 0: Portable Computing Language\n",
      "Device 0.0: cpu\n",
      "Context 1: Apple\n",
      "Device 1.0: Apple M1 Pro\n",
      "Context 2: Oclgrind\n",
      "Device 2.0: Oclgrind Simulator\n"
     ]
    }
   ],
   "source": [
    "xo.ContextPyopencl().print_devices()\n"
   ]
  }
 ],
 "metadata": {
  "kernelspec": {
   "display_name": "py-BB",
   "language": "python",
   "name": "py-bb"
  },
  "language_info": {
   "codemirror_mode": {
    "name": "ipython",
    "version": 3
   },
   "file_extension": ".py",
   "mimetype": "text/x-python",
   "name": "python",
   "nbconvert_exporter": "python",
   "pygments_lexer": "ipython3",
   "version": "3.11.5"
  }
 },
 "nbformat": 4,
 "nbformat_minor": 2
}
