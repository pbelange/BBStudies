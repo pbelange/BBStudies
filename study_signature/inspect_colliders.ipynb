{
 "cells": [
  {
   "cell_type": "code",
   "execution_count": 5,
   "metadata": {},
   "outputs": [],
   "source": [
    "\n",
    "import numpy as np\n",
    "import pandas as pd\n",
    "from pathlib import Path\n",
    "import gc\n",
    "\n",
    "\n",
    "# xsuite\n",
    "import xtrack as xt\n",
    "import xmask as xm\n",
    "import xfields as xf\n",
    "import xpart as xp\n",
    "\n",
    "\n",
    "import BBStudies.Tracking.XsuitePlus as xPlus\n",
    "import BBStudies.Tracking.InteractionPoint as inp\n",
    "import BBStudies.Physics.Detuning as tune\n",
    "import BBStudies.Plotting.BBPlots as bbplt\n",
    "import BBStudies.Physics.Base as phys\n",
    "import BBStudies.Physics.Constants as cst\n",
    "\n",
    "from IPython.display import clear_output\n",
    "\n",
    "\n",
    "\n",
    "\n",
    "# Importing Collider and Twiss\n",
    "#-------------------------------------\n",
    "collider = xt.Multiline.from_json('colliders/collider_NO_OCTU.json')\n",
    "twiss = {}\n",
    "twiss['lhcb1'] = collider['lhcb1'].twiss().to_pandas()\n",
    "twiss['lhcb2'] = collider['lhcb2'].twiss().reverse().to_pandas()\n",
    "#-------------------------------------\n",
    "\n",
    "\n",
    "# Filtering twiss to get rid of slices, entries and exits\n",
    "#-------------------------------------\n",
    "light_twiss = {}\n",
    "for sequence in ['lhcb1','lhcb2']:\n",
    "    light_twiss[sequence] = xPlus.filter_twiss(twiss[sequence].set_index('name'),entries=['drift','..','_entry','_exit']).reset_index()\n",
    "#-------------------------------------\n",
    "\n",
    "clear_output()"
   ]
  },
  {
   "cell_type": "markdown",
   "metadata": {},
   "source": [
    "---\n",
    "# Loading tracking\n",
    "---"
   ]
  },
  {
   "cell_type": "code",
   "execution_count": 6,
   "metadata": {},
   "outputs": [
    {
     "data": {
      "text/html": [
       "<pre style=\"white-space:pre;overflow-x:auto;line-height:normal;font-family:Menlo,'DejaVu Sans Mono',consolas,'Courier New',monospace\"><span style=\"color: #000080; text-decoration-color: #000080\">╭───────────────────────────── Tracking_Interface ──────────────────────────────╮</span>\n",
       "<span style=\"color: #000080; text-decoration-color: #000080\">│</span> <span style=\"color: #008000; text-decoration-color: #008000\">╭───────────────────────────────────────────────────────────────────────────╮</span> <span style=\"color: #000080; text-decoration-color: #000080\">│</span>\n",
       "<span style=\"color: #000080; text-decoration-color: #000080\">│</span> <span style=\"color: #008000; text-decoration-color: #008000\">│</span> <span style=\"font-weight: bold\">&lt;</span><span style=\"color: #ff00ff; text-decoration-color: #ff00ff; font-weight: bold\">BBStudies.Tracking.XsuitePlus.RenderingTracker</span><span style=\"color: #000000; text-decoration-color: #000000\"> object at </span><span style=\"color: #008080; text-decoration-color: #008080; font-weight: bold\">0x2af75cb8ef20</span><span style=\"font-weight: bold\">&gt;</span> <span style=\"color: #008000; text-decoration-color: #008000\">│</span> <span style=\"color: #000080; text-decoration-color: #000080\">│</span>\n",
       "<span style=\"color: #000080; text-decoration-color: #000080\">│</span> <span style=\"color: #008000; text-decoration-color: #008000\">╰───────────────────────────────────────────────────────────────────────────╯</span> <span style=\"color: #000080; text-decoration-color: #000080\">│</span>\n",
       "<span style=\"color: #000080; text-decoration-color: #000080\">│</span>                                                                               <span style=\"color: #000080; text-decoration-color: #000080\">│</span>\n",
       "<span style=\"color: #000080; text-decoration-color: #000080\">│</span>   <span style=\"color: #808000; text-decoration-color: #808000; font-style: italic\">context_name</span> = <span style=\"color: #008000; text-decoration-color: #008000\">'ContextCupy'</span>                                                <span style=\"color: #000080; text-decoration-color: #000080\">│</span>\n",
       "<span style=\"color: #000080; text-decoration-color: #000080\">│</span>      <span style=\"color: #808000; text-decoration-color: #808000; font-style: italic\">exec_time</span> = <span style=\"color: #008080; text-decoration-color: #008080; font-weight: bold\">792.7057473058812</span>                                            <span style=\"color: #000080; text-decoration-color: #000080\">│</span>\n",
       "<span style=\"color: #000080; text-decoration-color: #000080\">│</span>         <span style=\"color: #808000; text-decoration-color: #808000; font-style: italic\">method</span> = <span style=\"color: #008000; text-decoration-color: #008000\">'6d'</span>                                                         <span style=\"color: #000080; text-decoration-color: #000080\">│</span>\n",
       "<span style=\"color: #000080; text-decoration-color: #000080\">│</span>     <span style=\"color: #808000; text-decoration-color: #808000; font-style: italic\">monitor_at</span> = <span style=\"color: #008000; text-decoration-color: #008000\">'tcp.c6l7.b1'</span>                                                <span style=\"color: #000080; text-decoration-color: #000080\">│</span>\n",
       "<span style=\"color: #000080; text-decoration-color: #000080\">│</span>        <span style=\"color: #808000; text-decoration-color: #808000; font-style: italic\">n_parts</span> = <span style=\"color: #008080; text-decoration-color: #008080; font-weight: bold\">20000</span>                                                        <span style=\"color: #000080; text-decoration-color: #000080\">│</span>\n",
       "<span style=\"color: #000080; text-decoration-color: #000080\">│</span>        <span style=\"color: #808000; text-decoration-color: #808000; font-style: italic\">n_turns</span> = <span style=\"color: #008080; text-decoration-color: #008080; font-weight: bold\">5000</span>                                                         <span style=\"color: #000080; text-decoration-color: #000080\">│</span>\n",
       "<span style=\"color: #000080; text-decoration-color: #000080\">│</span>       <span style=\"color: #808000; text-decoration-color: #808000; font-style: italic\">nemitt_x</span> = <span style=\"color: #008080; text-decoration-color: #008080; font-weight: bold\">1.8e-06</span>                                                      <span style=\"color: #000080; text-decoration-color: #000080\">│</span>\n",
       "<span style=\"color: #000080; text-decoration-color: #000080\">│</span>       <span style=\"color: #808000; text-decoration-color: #808000; font-style: italic\">nemitt_y</span> = <span style=\"color: #008080; text-decoration-color: #008080; font-weight: bold\">1.8e-06</span>                                                      <span style=\"color: #000080; text-decoration-color: #000080\">│</span>\n",
       "<span style=\"color: #000080; text-decoration-color: #000080\">│</span>    <span style=\"color: #808000; text-decoration-color: #808000; font-style: italic\">nemitt_zeta</span> = <span style=\"color: #008080; text-decoration-color: #008080; font-weight: bold\">2.5189505667359247</span>                                           <span style=\"color: #000080; text-decoration-color: #000080\">│</span>\n",
       "<span style=\"color: #000080; text-decoration-color: #000080\">│</span>   <span style=\"color: #808000; text-decoration-color: #808000; font-style: italic\">parquet_data</span> = <span style=\"color: #008000; text-decoration-color: #008000\">'_data'</span>                                                      <span style=\"color: #000080; text-decoration-color: #000080\">│</span>\n",
       "<span style=\"color: #000080; text-decoration-color: #000080\">│</span> <span style=\"color: #808000; text-decoration-color: #808000; font-style: italic\">particle_on_co</span> = <span style=\"color: #008000; text-decoration-color: #008000\">\"&lt;class 'xpart.particles.particles.Particles'&gt;\"</span>              <span style=\"color: #000080; text-decoration-color: #000080\">│</span>\n",
       "<span style=\"color: #000080; text-decoration-color: #000080\">│</span>   <span style=\"color: #808000; text-decoration-color: #808000; font-style: italic\">partition_ID</span> = <span style=\"color: #008000; text-decoration-color: #008000\">'NO_OCTU'</span>                                                    <span style=\"color: #000080; text-decoration-color: #000080\">│</span>\n",
       "<span style=\"color: #000080; text-decoration-color: #000080\">│</span> <span style=\"color: #808000; text-decoration-color: #808000; font-style: italic\">partition_name</span> = <span style=\"color: #008000; text-decoration-color: #008000\">'TEST'</span>                                                       <span style=\"color: #000080; text-decoration-color: #000080\">│</span>\n",
       "<span style=\"color: #000080; text-decoration-color: #000080\">│</span>        <span style=\"color: #808000; text-decoration-color: #808000; font-style: italic\">sigma_z</span> = <span style=\"color: #008080; text-decoration-color: #008080; font-weight: bold\">0.09</span>                                                         <span style=\"color: #000080; text-decoration-color: #000080\">│</span>\n",
       "<span style=\"color: #000080; text-decoration-color: #000080\">│</span>  <span style=\"color: #808000; text-decoration-color: #808000; font-style: italic\">start_at_turn</span> = <span style=\"color: #008080; text-decoration-color: #008080; font-weight: bold\">0</span>                                                            <span style=\"color: #000080; text-decoration-color: #000080\">│</span>\n",
       "<span style=\"color: #000080; text-decoration-color: #000080\">│</span>   <span style=\"color: #808000; text-decoration-color: #808000; font-style: italic\">stop_at_turn</span> = <span style=\"color: #008080; text-decoration-color: #008080; font-weight: bold\">5000</span>                                                         <span style=\"color: #000080; text-decoration-color: #000080\">│</span>\n",
       "<span style=\"color: #000080; text-decoration-color: #000080\">╰───────────────────────────────────────────────────────────────────────────────╯</span>\n",
       "</pre>\n"
      ],
      "text/plain": [
       "\u001b[34m╭─\u001b[0m\u001b[34m────────────────────────────\u001b[0m\u001b[34m Tracking_Interface \u001b[0m\u001b[34m─────────────────────────────\u001b[0m\u001b[34m─╮\u001b[0m\n",
       "\u001b[34m│\u001b[0m \u001b[32m╭───────────────────────────────────────────────────────────────────────────╮\u001b[0m \u001b[34m│\u001b[0m\n",
       "\u001b[34m│\u001b[0m \u001b[32m│\u001b[0m \u001b[1m<\u001b[0m\u001b[1;95mBBStudies.Tracking.XsuitePlus.RenderingTracker\u001b[0m\u001b[39m object at \u001b[0m\u001b[1;36m0x2af75cb8ef20\u001b[0m\u001b[1m>\u001b[0m \u001b[32m│\u001b[0m \u001b[34m│\u001b[0m\n",
       "\u001b[34m│\u001b[0m \u001b[32m╰───────────────────────────────────────────────────────────────────────────╯\u001b[0m \u001b[34m│\u001b[0m\n",
       "\u001b[34m│\u001b[0m                                                                               \u001b[34m│\u001b[0m\n",
       "\u001b[34m│\u001b[0m   \u001b[3;33mcontext_name\u001b[0m = \u001b[32m'ContextCupy'\u001b[0m                                                \u001b[34m│\u001b[0m\n",
       "\u001b[34m│\u001b[0m      \u001b[3;33mexec_time\u001b[0m = \u001b[1;36m792.7057473058812\u001b[0m                                            \u001b[34m│\u001b[0m\n",
       "\u001b[34m│\u001b[0m         \u001b[3;33mmethod\u001b[0m = \u001b[32m'6d'\u001b[0m                                                         \u001b[34m│\u001b[0m\n",
       "\u001b[34m│\u001b[0m     \u001b[3;33mmonitor_at\u001b[0m = \u001b[32m'tcp.c6l7.b1'\u001b[0m                                                \u001b[34m│\u001b[0m\n",
       "\u001b[34m│\u001b[0m        \u001b[3;33mn_parts\u001b[0m = \u001b[1;36m20000\u001b[0m                                                        \u001b[34m│\u001b[0m\n",
       "\u001b[34m│\u001b[0m        \u001b[3;33mn_turns\u001b[0m = \u001b[1;36m5000\u001b[0m                                                         \u001b[34m│\u001b[0m\n",
       "\u001b[34m│\u001b[0m       \u001b[3;33mnemitt_x\u001b[0m = \u001b[1;36m1.8e-06\u001b[0m                                                      \u001b[34m│\u001b[0m\n",
       "\u001b[34m│\u001b[0m       \u001b[3;33mnemitt_y\u001b[0m = \u001b[1;36m1.8e-06\u001b[0m                                                      \u001b[34m│\u001b[0m\n",
       "\u001b[34m│\u001b[0m    \u001b[3;33mnemitt_zeta\u001b[0m = \u001b[1;36m2.5189505667359247\u001b[0m                                           \u001b[34m│\u001b[0m\n",
       "\u001b[34m│\u001b[0m   \u001b[3;33mparquet_data\u001b[0m = \u001b[32m'_data'\u001b[0m                                                      \u001b[34m│\u001b[0m\n",
       "\u001b[34m│\u001b[0m \u001b[3;33mparticle_on_co\u001b[0m = \u001b[32m\"\u001b[0m\u001b[32m<\u001b[0m\u001b[32mclass\u001b[0m\u001b[32m 'xpart.particles.particles.Particles'\u001b[0m\u001b[32m>\u001b[0m\u001b[32m\"\u001b[0m              \u001b[34m│\u001b[0m\n",
       "\u001b[34m│\u001b[0m   \u001b[3;33mpartition_ID\u001b[0m = \u001b[32m'NO_OCTU'\u001b[0m                                                    \u001b[34m│\u001b[0m\n",
       "\u001b[34m│\u001b[0m \u001b[3;33mpartition_name\u001b[0m = \u001b[32m'TEST'\u001b[0m                                                       \u001b[34m│\u001b[0m\n",
       "\u001b[34m│\u001b[0m        \u001b[3;33msigma_z\u001b[0m = \u001b[1;36m0.09\u001b[0m                                                         \u001b[34m│\u001b[0m\n",
       "\u001b[34m│\u001b[0m  \u001b[3;33mstart_at_turn\u001b[0m = \u001b[1;36m0\u001b[0m                                                            \u001b[34m│\u001b[0m\n",
       "\u001b[34m│\u001b[0m   \u001b[3;33mstop_at_turn\u001b[0m = \u001b[1;36m5000\u001b[0m                                                         \u001b[34m│\u001b[0m\n",
       "\u001b[34m╰───────────────────────────────────────────────────────────────────────────────╯\u001b[0m\n"
      ]
     },
     "metadata": {},
     "output_type": "display_data"
    },
    {
     "data": {
      "text/plain": []
     },
     "execution_count": 6,
     "metadata": {},
     "output_type": "execute_result"
    }
   ],
   "source": [
    "# loading_dict={\n",
    "partition_name    = 'TEST'\n",
    "partition_ID      = 'NO_OCTU'\n",
    "data_path         = 'tracking/matching_test/DATA'\n",
    "checkpoint_path   = 'tracking/matching_test/CHECKPOINTS'\n",
    "data        = xPlus.Tracking_Interface.from_parquet(data_path         ,partition_name=partition_name,partition_ID=partition_ID)\n",
    "_cpt        = xPlus.Tracking_Interface.from_parquet(checkpoint_path   ,partition_name=partition_name,partition_ID=partition_ID)\n",
    "data._checkpoint = _cpt._checkpoint\n",
    "data"
   ]
  },
  {
   "cell_type": "code",
   "execution_count": 7,
   "metadata": {},
   "outputs": [
    {
     "name": "stdout",
     "output_type": "stream",
     "text": [
      "TWISS (x,px): (8.489e-07,-1.117e-08)\n",
      "COORD (x,px): (-5.424e-07,-1.456e-09)\n"
     ]
    }
   ],
   "source": [
    "twiss_at_TCP = twiss['lhcb1'].set_index('name').loc[data.monitor_at]\n",
    "print(f'TWISS (x,px): ({twiss_at_TCP.x:.3e},{twiss_at_TCP.px:.3e})')\n",
    "print(f'COORD (x,px): ({data.coord.x.mean():.3e},{data.coord.px.mean():.3e})')"
   ]
  }
 ],
 "metadata": {
  "kernelspec": {
   "display_name": "py-BB",
   "language": "python",
   "name": "py-bb"
  },
  "language_info": {
   "codemirror_mode": {
    "name": "ipython",
    "version": 3
   },
   "file_extension": ".py",
   "mimetype": "text/x-python",
   "name": "python",
   "nbconvert_exporter": "python",
   "pygments_lexer": "ipython3",
   "version": "3.10.13"
  }
 },
 "nbformat": 4,
 "nbformat_minor": 2
}
