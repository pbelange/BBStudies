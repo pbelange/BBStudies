{
 "cells": [
  {
   "cell_type": "code",
   "execution_count": null,
   "metadata": {},
   "outputs": [],
   "source": [
    "\n",
    "import numpy as np\n",
    "import pandas as pd\n",
    "from pathlib import Path\n",
    "import gc\n",
    "import itertools\n",
    "import importlib\n",
    "from IPython.display import clear_output\n",
    "\n",
    "# BOKEH\n",
    "import bokeh.plotting as bk\n",
    "import bokeh.models as bkmod\n",
    "import bokeh.layouts as bklay\n",
    "import bokeh.palettes as bkpalettes\n",
    "import bokeh.util.hex as bkhex\n",
    "import bokeh.transform as bktrfm\n",
    "import bokeh.colors as bkcolors\n",
    "\n",
    "\n",
    "# xsuite\n",
    "import xtrack as xt\n",
    "import xmask as xm\n",
    "import xfields as xf\n",
    "import xpart as xp\n",
    "\n",
    "# BBStudies\n",
    "import BBStudies.Tracking.XsuitePlus as xPlus\n",
    "import BBStudies.Tracking.XMask.Utils as xutils\n",
    "import BBStudies.Physics.Constants as cst\n",
    "import BBStudies.Plotting.Bokeh.Tools as bktools\n",
    "import BBStudies.Plotting.Bokeh.Presets as bkpresets\n",
    "import BBStudies.Physics.Base as phys\n",
    "\n",
    "bk.output_notebook()\n",
    "def plot_phase_space(df,rfbucket = None):\n",
    "    _FIGS   = {}\n",
    "    _default_fig_width  = 1400\n",
    "    _bot_tab_height     = 400\n",
    "    padding             = 20 \n",
    "    # Phase space plots:\n",
    "    #=====================================\n",
    "    adjustment = 0\n",
    "    _FIGS['x-px'] = bkpresets.make_scatter_fig(df,xy=('x_sig','px_sig')     ,alpha=0.2,title=f'x norm. phase space ({len(df)} particles)'   ,width=int(_default_fig_width/3.5)+adjustment,height=_bot_tab_height,padding=padding)\n",
    "    _FIGS['y-py'] = bkpresets.make_scatter_fig(df,xy=('y_sig','py_sig')     ,alpha=0.2,title='y norm. phase space'                          ,width=int(_default_fig_width/3.5),height=_bot_tab_height,padding=padding)\n",
    "    _FIGS['zeta-pzeta'] = bkpresets.make_scatter_fig(df,xy=('zeta','pzeta') ,alpha=0.2,title='zeta phase space'                             ,width=int(_default_fig_width/3.5),height=_bot_tab_height,padding=padding)\n",
    "\n",
    "\n",
    "    _FIGS['x-px'].min_border_left  = padding\n",
    "    bktools.set_aspect(_FIGS['x-px']       , x_lim=(-11,11),y_lim=(-11,11), aspect=1, margin=padding-adjustment)\n",
    "    bktools.set_aspect(_FIGS['y-py']       , x_lim=(-11,11),y_lim=(-11,11), aspect=1, margin=0)\n",
    "    # bktools.set_aspect(_FIGS['zeta-pzeta'] , x_lim=(-1,1),y_lim=(-1,1), aspect=1, margin=0)\n",
    "    _FIGS['zeta-pzeta'].x_range  = bkmod.Range1d(-0.5, 0.5)\n",
    "    _FIGS['zeta-pzeta'].y_range  = bkmod.Range1d(-5e-4, 5e-4)\n",
    "\n",
    "    _FIGS['x-px'].xaxis.axis_label = r'$$\\tilde x /\\sqrt{\\varepsilon_{x}}$$'\n",
    "    _FIGS['x-px'].yaxis.axis_label = r'$$\\tilde p_x /\\sqrt{\\varepsilon_{x}}$$'\n",
    "\n",
    "    _FIGS['y-py'].xaxis.axis_label = r'$$\\tilde y /\\sqrt{\\varepsilon_{y}}$$'\n",
    "    _FIGS['y-py'].yaxis.axis_label = r'$$\\tilde p_y /\\sqrt{\\varepsilon_{y}}$$'\n",
    "\n",
    "    _FIGS['zeta-pzeta'].xaxis.axis_label = r'$$\\zeta$$'\n",
    "    _FIGS['zeta-pzeta'].yaxis.axis_label = r'$$p_\\zeta $$'\n",
    "\n",
    "    if rfbucket is not None:\n",
    "        color = 'lightseagreen'\n",
    "        ls    = 'solid'\n",
    "        label = f'RF Bucket'\n",
    "        for zcut in list(np.linspace(0.001,rfbucket.zeta_max,10)) + [0.09]:\n",
    "            zeta_vec,delta_vec = rfbucket.invariant(zcut,npoints = 1000)\n",
    "\n",
    "            if zcut == 0.09:\n",
    "                color = 'mediumvioletred'\n",
    "                ls    = 'dotted'\n",
    "                label = f'1 σ'\n",
    "            \n",
    "            line_top = _FIGS['zeta-pzeta'].line(x=zeta_vec,y=delta_vec, line_width=2, color=color, alpha=0.2, line_dash=ls, legend_label=label)\n",
    "            line_bot = _FIGS['zeta-pzeta'].line(x=zeta_vec,y=-delta_vec, line_width=2, color=color, alpha=0.2, line_dash=ls, legend_label=label)\n",
    "            line_top.level = 'underlay'\n",
    "            line_bot.level = 'underlay'\n",
    "            # plt.plot(zeta_vec,delta_vec,'-',color='C2')\n",
    "            # plt.plot(zeta_vec,-delta_vec,'-',color='C2')\n",
    "    \n",
    "\n",
    "\n",
    "    grid = bklay.gridplot([[_FIGS['x-px'] ,_FIGS['y-py'] ,_FIGS['zeta-pzeta']]],toolbar_location='right')\n",
    "    #=====================================\n",
    "    return grid\n"
   ]
  },
  {
   "cell_type": "code",
   "execution_count": null,
   "metadata": {},
   "outputs": [],
   "source": [
    "import importlib\n",
    "importlib.reload(bkpresets)"
   ]
  },
  {
   "cell_type": "markdown",
   "metadata": {},
   "source": [
    "---\n",
    "# Loading collider for RFBucket\n",
    "---"
   ]
  },
  {
   "cell_type": "code",
   "execution_count": null,
   "metadata": {},
   "outputs": [],
   "source": [
    "collider_path   = 'colliders/collider_BUNCH_0000.json'\n",
    "collider        = xt.Multiline.from_json(collider_path)\n",
    "line            = collider['lhcb1']\n",
    "line.build_tracker()\n",
    "rfbucket        = xPlus.RFBucket(line)\n",
    "clear_output()"
   ]
  },
  {
   "cell_type": "markdown",
   "metadata": {},
   "source": [
    "---\n",
    "# Generating particles\n",
    "---"
   ]
  },
  {
   "cell_type": "code",
   "execution_count": null,
   "metadata": {},
   "outputs": [],
   "source": []
  },
  {
   "cell_type": "code",
   "execution_count": null,
   "metadata": {},
   "outputs": [],
   "source": [
    "\n",
    "\n",
    "\n",
    "density     = 363/(2*np.pi*1)\n",
    "_generators = [pd.DataFrame({'x_sig':[0],'px_sig':[0]})]\n",
    "for r in np.linspace(1,10,10):\n",
    "    n_points = int(2*np.pi*r*density)\n",
    "    _df      = phys.polar_grid( r_sig     = [r],\n",
    "                                theta_sig = np.linspace(0,2*np.pi,n_points))\n",
    "    _generators.append(_df.rename(columns={'y_sig':'px_sig'})[['x_sig','px_sig']])\n",
    "\n",
    "\n",
    "generator = pd.concat(_generators).reset_index()\n",
    "# generator = generator.rename(columns={'y_sig':'px_sig'})[['x_sig','px_sig']]\n",
    "# generator = pd.concat([pd.DataFrame({'x_sig':[0],'px_sig':[0]}),generator]).reset_index() # Adding on axis particle\n",
    "n_part = len(generator)\n",
    "\n",
    "\n",
    "\n",
    "#distribute longitudinal\n",
    "# zeta_vec,delta_vec = rfbucket.invariant(0.09,npoints = 10000)\n",
    "# zeta_vec,delta_vec = redistribute_along(zeta_vec,delta_vec,n_points = n_part)\n",
    "# zeta_vec,delta_vec = redistribute_along(list(zeta_vec) + list(zeta_vec[::-1])[:-2],list(delta_vec) + list(-delta_vec[::-1])[:-2],n_points = n_part)\n",
    "\n",
    "\n",
    "# Initializing:\n",
    "#======================================================\n",
    "coord_df = pd.DataFrame({   'x_sig' :np.zeros(n_part),\n",
    "                            'px_sig':np.zeros(n_part),\n",
    "                            'y_sig' :np.zeros(n_part),\n",
    "                            'py_sig':np.zeros(n_part),\n",
    "                            'zeta'  :np.zeros(n_part),\n",
    "                            'delta' :np.zeros(n_part)})\n",
    "#======================================================\n",
    "\n",
    "\n",
    "# Overwriting\n",
    "coord_df.loc[:,'x_sig']  = generator.x_sig.values\n",
    "coord_df.loc[:,'px_sig'] = generator.px_sig.values\n",
    "coord_df.loc[:,'zeta']   = 2*0.09\n",
    "# coord_df.loc[:,'delta'] = delta_vec\n",
    "\n",
    "# Plotting\n",
    "coord_df.insert(5,'pzeta',xPlus.delta2pzeta(coord_df['delta'],beta0=1))\n",
    "bk.show(plot_phase_space(coord_df,rfbucket = rfbucket))\n",
    "display(coord_df)"
   ]
  },
  {
   "cell_type": "code",
   "execution_count": null,
   "metadata": {},
   "outputs": [],
   "source": [
    "coord_df.insert(0,'particle',coord_df.index)\n",
    "particle_id = coord_df.index\n",
    "\n",
    "bk.show(plot_phase_space(coord_df[coord_df.particle.isin(particle_id[::100])],rfbucket = rfbucket))"
   ]
  },
  {
   "cell_type": "markdown",
   "metadata": {},
   "source": [
    "---\n",
    "# Saving Results\n",
    "---"
   ]
  },
  {
   "cell_type": "code",
   "execution_count": null,
   "metadata": {},
   "outputs": [],
   "source": [
    "coord_df.to_parquet('particles/XPLANE_ZETA_2.parquet')"
   ]
  },
  {
   "cell_type": "markdown",
   "metadata": {},
   "source": [
    "---\n",
    "# Load and plot\n",
    "---"
   ]
  },
  {
   "cell_type": "code",
   "execution_count": null,
   "metadata": {},
   "outputs": [],
   "source": [
    "coord_df = xPlus.import_parquet('particles/XPLANE_ZETA_1.parquet')\n",
    "bk.show(plot_phase_space(coord_df,rfbucket = None))\n",
    "display(coord_df)"
   ]
  }
 ],
 "metadata": {
  "kernelspec": {
   "display_name": "py-BB",
   "language": "python",
   "name": "py-bb"
  },
  "language_info": {
   "codemirror_mode": {
    "name": "ipython",
    "version": 3
   },
   "file_extension": ".py",
   "mimetype": "text/x-python",
   "name": "python",
   "nbconvert_exporter": "python",
   "pygments_lexer": "ipython3",
   "version": "3.11.5"
  }
 },
 "nbformat": 4,
 "nbformat_minor": 2
}
