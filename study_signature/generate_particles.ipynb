{
 "cells": [
  {
   "cell_type": "code",
   "execution_count": 1,
   "metadata": {},
   "outputs": [
    {
     "data": {
      "text/html": [
       "<style>\n",
       "        .bk-notebook-logo {\n",
       "            display: block;\n",
       "            width: 20px;\n",
       "            height: 20px;\n",
       "            background-image: url(data:image/png;base64,iVBORw0KGgoAAAANSUhEUgAAABQAAAAUCAYAAACNiR0NAAAABHNCSVQICAgIfAhkiAAAAAlwSFlzAAALEgAACxIB0t1+/AAAABx0RVh0U29mdHdhcmUAQWRvYmUgRmlyZXdvcmtzIENTNui8sowAAAOkSURBVDiNjZRtaJVlGMd/1/08zzln5zjP1LWcU9N0NkN8m2CYjpgQYQXqSs0I84OLIC0hkEKoPtiH3gmKoiJDU7QpLgoLjLIQCpEsNJ1vqUOdO7ppbuec5+V+rj4ctwzd8IIbbi6u+8f1539dt3A78eXC7QizUF7gyV1fD1Yqg4JWz84yffhm0qkFqBogB9rM8tZdtwVsPUhWhGcFJngGeWrPzHm5oaMmkfEg1usvLFyc8jLRqDOMru7AyC8saQr7GG7f5fvDeH7Ej8CM66nIF+8yngt6HWaKh7k49Soy9nXurCi1o3qUbS3zWfrYeQDTB/Qj6kX6Ybhw4B+bOYoLKCC9H3Nu/leUTZ1JdRWkkn2ldcCamzrcf47KKXdAJllSlxAOkRgyHsGC/zRday5Qld9DyoM4/q/rUoy/CXh3jzOu3bHUVZeU+DEn8FInkPBFlu3+nW3Nw0mk6vCDiWg8CeJaxEwuHS3+z5RgY+YBR6V1Z1nxSOfoaPa4LASWxxdNp+VWTk7+4vzaou8v8PN+xo+KY2xsw6une2frhw05CTYOmQvsEhjhWjn0bmXPjpE1+kplmmkP3suftwTubK9Vq22qKmrBhpY4jvd5afdRA3wGjFAgcnTK2s4hY0/GPNIb0nErGMCRxWOOX64Z8RAC4oCXdklmEvcL8o0BfkNK4lUg9HTl+oPlQxdNo3Mg4Nv175e/1LDGzZen30MEjRUtmXSfiTVu1kK8W4txyV6BMKlbgk3lMwYCiusNy9fVfvvwMxv8Ynl6vxoByANLTWplvuj/nF9m2+PDtt1eiHPBr1oIfhCChQMBw6Aw0UulqTKZdfVvfG7VcfIqLG9bcldL/+pdWTLxLUy8Qq38heUIjh4XlzZxzQm19lLFlr8vdQ97rjZVOLf8nclzckbcD4wxXMidpX30sFd37Fv/GtwwhzhxGVAprjbg0gCAEeIgwCZyTV2Z1REEW8O4py0wsjeloKoMr6iCY6dP92H6Vw/oTyICIthibxjm/DfN9lVz8IqtqKYLUXfoKVMVQVVJOElGjrnnUt9T9wbgp8AyYKaGlqingHZU/uG2NTZSVqwHQTWkx9hxjkpWDaCg6Ckj5qebgBVbT3V3NNXMSiWSDdGV3hrtzla7J+duwPOToIg42ChPQOQjspnSlp1V+Gjdged7+8UN5CRAV7a5EdFNwCjEaBR27b3W890TE7g24NAP/mMDXRWrGoFPQI9ls/MWO2dWFAar/xcOIImbbpA3zgAAAABJRU5ErkJggg==);\n",
       "        }\n",
       "    </style>\n",
       "    <div>\n",
       "        <a href=\"https://bokeh.org\" target=\"_blank\" class=\"bk-notebook-logo\"></a>\n",
       "        <span id=\"c769165c-0e6b-4682-a079-9922c63e2434\">Loading BokehJS ...</span>\n",
       "    </div>\n"
      ]
     },
     "metadata": {},
     "output_type": "display_data"
    },
    {
     "data": {
      "application/javascript": "(function(root) {\n  function now() {\n    return new Date();\n  }\n\n  const force = true;\n\n  if (typeof root._bokeh_onload_callbacks === \"undefined\" || force === true) {\n    root._bokeh_onload_callbacks = [];\n    root._bokeh_is_loading = undefined;\n  }\n\nconst JS_MIME_TYPE = 'application/javascript';\n  const HTML_MIME_TYPE = 'text/html';\n  const EXEC_MIME_TYPE = 'application/vnd.bokehjs_exec.v0+json';\n  const CLASS_NAME = 'output_bokeh rendered_html';\n\n  /**\n   * Render data to the DOM node\n   */\n  function render(props, node) {\n    const script = document.createElement(\"script\");\n    node.appendChild(script);\n  }\n\n  /**\n   * Handle when an output is cleared or removed\n   */\n  function handleClearOutput(event, handle) {\n    const cell = handle.cell;\n\n    const id = cell.output_area._bokeh_element_id;\n    const server_id = cell.output_area._bokeh_server_id;\n    // Clean up Bokeh references\n    if (id != null && id in Bokeh.index) {\n      Bokeh.index[id].model.document.clear();\n      delete Bokeh.index[id];\n    }\n\n    if (server_id !== undefined) {\n      // Clean up Bokeh references\n      const cmd_clean = \"from bokeh.io.state import curstate; print(curstate().uuid_to_server['\" + server_id + \"'].get_sessions()[0].document.roots[0]._id)\";\n      cell.notebook.kernel.execute(cmd_clean, {\n        iopub: {\n          output: function(msg) {\n            const id = msg.content.text.trim();\n            if (id in Bokeh.index) {\n              Bokeh.index[id].model.document.clear();\n              delete Bokeh.index[id];\n            }\n          }\n        }\n      });\n      // Destroy server and session\n      const cmd_destroy = \"import bokeh.io.notebook as ion; ion.destroy_server('\" + server_id + \"')\";\n      cell.notebook.kernel.execute(cmd_destroy);\n    }\n  }\n\n  /**\n   * Handle when a new output is added\n   */\n  function handleAddOutput(event, handle) {\n    const output_area = handle.output_area;\n    const output = handle.output;\n\n    // limit handleAddOutput to display_data with EXEC_MIME_TYPE content only\n    if ((output.output_type != \"display_data\") || (!Object.prototype.hasOwnProperty.call(output.data, EXEC_MIME_TYPE))) {\n      return\n    }\n\n    const toinsert = output_area.element.find(\".\" + CLASS_NAME.split(' ')[0]);\n\n    if (output.metadata[EXEC_MIME_TYPE][\"id\"] !== undefined) {\n      toinsert[toinsert.length - 1].firstChild.textContent = output.data[JS_MIME_TYPE];\n      // store reference to embed id on output_area\n      output_area._bokeh_element_id = output.metadata[EXEC_MIME_TYPE][\"id\"];\n    }\n    if (output.metadata[EXEC_MIME_TYPE][\"server_id\"] !== undefined) {\n      const bk_div = document.createElement(\"div\");\n      bk_div.innerHTML = output.data[HTML_MIME_TYPE];\n      const script_attrs = bk_div.children[0].attributes;\n      for (let i = 0; i < script_attrs.length; i++) {\n        toinsert[toinsert.length - 1].firstChild.setAttribute(script_attrs[i].name, script_attrs[i].value);\n        toinsert[toinsert.length - 1].firstChild.textContent = bk_div.children[0].textContent\n      }\n      // store reference to server id on output_area\n      output_area._bokeh_server_id = output.metadata[EXEC_MIME_TYPE][\"server_id\"];\n    }\n  }\n\n  function register_renderer(events, OutputArea) {\n\n    function append_mime(data, metadata, element) {\n      // create a DOM node to render to\n      const toinsert = this.create_output_subarea(\n        metadata,\n        CLASS_NAME,\n        EXEC_MIME_TYPE\n      );\n      this.keyboard_manager.register_events(toinsert);\n      // Render to node\n      const props = {data: data, metadata: metadata[EXEC_MIME_TYPE]};\n      render(props, toinsert[toinsert.length - 1]);\n      element.append(toinsert);\n      return toinsert\n    }\n\n    /* Handle when an output is cleared or removed */\n    events.on('clear_output.CodeCell', handleClearOutput);\n    events.on('delete.Cell', handleClearOutput);\n\n    /* Handle when a new output is added */\n    events.on('output_added.OutputArea', handleAddOutput);\n\n    /**\n     * Register the mime type and append_mime function with output_area\n     */\n    OutputArea.prototype.register_mime_type(EXEC_MIME_TYPE, append_mime, {\n      /* Is output safe? */\n      safe: true,\n      /* Index of renderer in `output_area.display_order` */\n      index: 0\n    });\n  }\n\n  // register the mime type if in Jupyter Notebook environment and previously unregistered\n  if (root.Jupyter !== undefined) {\n    const events = require('base/js/events');\n    const OutputArea = require('notebook/js/outputarea').OutputArea;\n\n    if (OutputArea.prototype.mime_types().indexOf(EXEC_MIME_TYPE) == -1) {\n      register_renderer(events, OutputArea);\n    }\n  }\n  if (typeof (root._bokeh_timeout) === \"undefined\" || force === true) {\n    root._bokeh_timeout = Date.now() + 5000;\n    root._bokeh_failed_load = false;\n  }\n\n  const NB_LOAD_WARNING = {'data': {'text/html':\n     \"<div style='background-color: #fdd'>\\n\"+\n     \"<p>\\n\"+\n     \"BokehJS does not appear to have successfully loaded. If loading BokehJS from CDN, this \\n\"+\n     \"may be due to a slow or bad network connection. Possible fixes:\\n\"+\n     \"</p>\\n\"+\n     \"<ul>\\n\"+\n     \"<li>re-rerun `output_notebook()` to attempt to load from CDN again, or</li>\\n\"+\n     \"<li>use INLINE resources instead, as so:</li>\\n\"+\n     \"</ul>\\n\"+\n     \"<code>\\n\"+\n     \"from bokeh.resources import INLINE\\n\"+\n     \"output_notebook(resources=INLINE)\\n\"+\n     \"</code>\\n\"+\n     \"</div>\"}};\n\n  function display_loaded() {\n    const el = document.getElementById(\"c769165c-0e6b-4682-a079-9922c63e2434\");\n    if (el != null) {\n      el.textContent = \"BokehJS is loading...\";\n    }\n    if (root.Bokeh !== undefined) {\n      if (el != null) {\n        el.textContent = \"BokehJS \" + root.Bokeh.version + \" successfully loaded.\";\n      }\n    } else if (Date.now() < root._bokeh_timeout) {\n      setTimeout(display_loaded, 100)\n    }\n  }\n\n  function run_callbacks() {\n    try {\n      root._bokeh_onload_callbacks.forEach(function(callback) {\n        if (callback != null)\n          callback();\n      });\n    } finally {\n      delete root._bokeh_onload_callbacks\n    }\n    console.debug(\"Bokeh: all callbacks have finished\");\n  }\n\n  function load_libs(css_urls, js_urls, callback) {\n    if (css_urls == null) css_urls = [];\n    if (js_urls == null) js_urls = [];\n\n    root._bokeh_onload_callbacks.push(callback);\n    if (root._bokeh_is_loading > 0) {\n      console.debug(\"Bokeh: BokehJS is being loaded, scheduling callback at\", now());\n      return null;\n    }\n    if (js_urls == null || js_urls.length === 0) {\n      run_callbacks();\n      return null;\n    }\n    console.debug(\"Bokeh: BokehJS not loaded, scheduling load and callback at\", now());\n    root._bokeh_is_loading = css_urls.length + js_urls.length;\n\n    function on_load() {\n      root._bokeh_is_loading--;\n      if (root._bokeh_is_loading === 0) {\n        console.debug(\"Bokeh: all BokehJS libraries/stylesheets loaded\");\n        run_callbacks()\n      }\n    }\n\n    function on_error(url) {\n      console.error(\"failed to load \" + url);\n    }\n\n    for (let i = 0; i < css_urls.length; i++) {\n      const url = css_urls[i];\n      const element = document.createElement(\"link\");\n      element.onload = on_load;\n      element.onerror = on_error.bind(null, url);\n      element.rel = \"stylesheet\";\n      element.type = \"text/css\";\n      element.href = url;\n      console.debug(\"Bokeh: injecting link tag for BokehJS stylesheet: \", url);\n      document.body.appendChild(element);\n    }\n\n    for (let i = 0; i < js_urls.length; i++) {\n      const url = js_urls[i];\n      const element = document.createElement('script');\n      element.onload = on_load;\n      element.onerror = on_error.bind(null, url);\n      element.async = false;\n      element.src = url;\n      console.debug(\"Bokeh: injecting script tag for BokehJS library: \", url);\n      document.head.appendChild(element);\n    }\n  };\n\n  function inject_raw_css(css) {\n    const element = document.createElement(\"style\");\n    element.appendChild(document.createTextNode(css));\n    document.body.appendChild(element);\n  }\n\n  const js_urls = [\"https://cdn.bokeh.org/bokeh/release/bokeh-3.2.2.min.js\", \"https://cdn.bokeh.org/bokeh/release/bokeh-gl-3.2.2.min.js\", \"https://cdn.bokeh.org/bokeh/release/bokeh-widgets-3.2.2.min.js\", \"https://cdn.bokeh.org/bokeh/release/bokeh-tables-3.2.2.min.js\", \"https://cdn.bokeh.org/bokeh/release/bokeh-mathjax-3.2.2.min.js\"];\n  const css_urls = [];\n\n  const inline_js = [    function(Bokeh) {\n      Bokeh.set_log_level(\"info\");\n    },\nfunction(Bokeh) {\n    }\n  ];\n\n  function run_inline_js() {\n    if (root.Bokeh !== undefined || force === true) {\n          for (let i = 0; i < inline_js.length; i++) {\n      inline_js[i].call(root, root.Bokeh);\n    }\nif (force === true) {\n        display_loaded();\n      }} else if (Date.now() < root._bokeh_timeout) {\n      setTimeout(run_inline_js, 100);\n    } else if (!root._bokeh_failed_load) {\n      console.log(\"Bokeh: BokehJS failed to load within specified timeout.\");\n      root._bokeh_failed_load = true;\n    } else if (force !== true) {\n      const cell = $(document.getElementById(\"c769165c-0e6b-4682-a079-9922c63e2434\")).parents('.cell').data().cell;\n      cell.output_area.append_execute_result(NB_LOAD_WARNING)\n    }\n  }\n\n  if (root._bokeh_is_loading === 0) {\n    console.debug(\"Bokeh: BokehJS loaded, going straight to plotting\");\n    run_inline_js();\n  } else {\n    load_libs(css_urls, js_urls, function() {\n      console.debug(\"Bokeh: BokehJS plotting callback run at\", now());\n      run_inline_js();\n    });\n  }\n}(window));",
      "application/vnd.bokehjs_load.v0+json": ""
     },
     "metadata": {},
     "output_type": "display_data"
    }
   ],
   "source": [
    "\n",
    "import numpy as np\n",
    "import pandas as pd\n",
    "from pathlib import Path\n",
    "import gc\n",
    "import itertools\n",
    "import importlib\n",
    "from IPython.display import clear_output\n",
    "\n",
    "# BOKEH\n",
    "import bokeh.plotting as bk\n",
    "import bokeh.models as bkmod\n",
    "import bokeh.layouts as bklay\n",
    "import bokeh.palettes as bkpalettes\n",
    "import bokeh.util.hex as bkhex\n",
    "import bokeh.transform as bktrfm\n",
    "import bokeh.colors as bkcolors\n",
    "\n",
    "\n",
    "# xsuite\n",
    "import xtrack as xt\n",
    "import xmask as xm\n",
    "import xfields as xf\n",
    "import xpart as xp\n",
    "\n",
    "# BBStudies\n",
    "import BBStudies.Tracking.XsuitePlus as xPlus\n",
    "import BBStudies.Tracking.XMask.Utils as xutils\n",
    "import BBStudies.Physics.Constants as cst\n",
    "import BBStudies.Plotting.Bokeh.Tools as bktools\n",
    "import BBStudies.Plotting.Bokeh.Presets as bkpresets\n",
    "import BBStudies.Physics.Base as phys\n",
    "\n",
    "bk.output_notebook()\n",
    "def plot_phase_space(df,rfbucket = None):\n",
    "    _FIGS   = {}\n",
    "    _default_fig_width  = 1400\n",
    "    _bot_tab_height     = 400\n",
    "    padding             = 20 \n",
    "    # Phase space plots:\n",
    "    #=====================================\n",
    "    adjustment = 0\n",
    "    _FIGS['x-px'] = bkpresets.make_scatter_fig(df,xy=('x_sig','px_sig')     ,alpha=0.2,title=f'x norm. phase space ({len(df)} particles)'   ,width=int(_default_fig_width/3.5)+adjustment,height=_bot_tab_height,padding=padding)\n",
    "    _FIGS['y-py'] = bkpresets.make_scatter_fig(df,xy=('y_sig','py_sig')     ,alpha=0.2,title='y norm. phase space'                          ,width=int(_default_fig_width/3.5),height=_bot_tab_height,padding=padding)\n",
    "    _FIGS['zeta-pzeta'] = bkpresets.make_scatter_fig(df,xy=('zeta','pzeta') ,alpha=0.2,title='zeta phase space'                             ,width=int(_default_fig_width/3.5),height=_bot_tab_height,padding=padding)\n",
    "\n",
    "\n",
    "    _FIGS['x-px'].min_border_left  = padding\n",
    "    bktools.set_aspect(_FIGS['x-px']       , x_lim=(-11,11),y_lim=(-11,11), aspect=1, margin=padding-adjustment)\n",
    "    bktools.set_aspect(_FIGS['y-py']       , x_lim=(-11,11),y_lim=(-11,11), aspect=1, margin=0)\n",
    "    # bktools.set_aspect(_FIGS['zeta-pzeta'] , x_lim=(-1,1),y_lim=(-1,1), aspect=1, margin=0)\n",
    "    _FIGS['zeta-pzeta'].x_range  = bkmod.Range1d(-0.5, 0.5)\n",
    "    _FIGS['zeta-pzeta'].y_range  = bkmod.Range1d(-5e-4, 5e-4)\n",
    "\n",
    "    _FIGS['x-px'].xaxis.axis_label = r'$$\\tilde x /\\sqrt{\\varepsilon_{x}}$$'\n",
    "    _FIGS['x-px'].yaxis.axis_label = r'$$\\tilde p_x /\\sqrt{\\varepsilon_{x}}$$'\n",
    "\n",
    "    _FIGS['y-py'].xaxis.axis_label = r'$$\\tilde y /\\sqrt{\\varepsilon_{y}}$$'\n",
    "    _FIGS['y-py'].yaxis.axis_label = r'$$\\tilde p_y /\\sqrt{\\varepsilon_{y}}$$'\n",
    "\n",
    "    _FIGS['zeta-pzeta'].xaxis.axis_label = r'$$\\zeta$$'\n",
    "    _FIGS['zeta-pzeta'].yaxis.axis_label = r'$$p_\\zeta $$'\n",
    "\n",
    "    if rfbucket is not None:\n",
    "        color = 'lightseagreen'\n",
    "        ls    = 'solid'\n",
    "        label = f'RF Bucket'\n",
    "        for zcut in list(np.linspace(0.001,rfbucket.zeta_max,10)) + [0.09]:\n",
    "            zeta_vec,delta_vec = rfbucket.invariant(zcut,npoints = 1000)\n",
    "\n",
    "            if zcut == 0.09:\n",
    "                color = 'mediumvioletred'\n",
    "                ls    = 'dotted'\n",
    "                label = f'1 σ'\n",
    "            \n",
    "            line_top = _FIGS['zeta-pzeta'].line(x=zeta_vec,y=delta_vec, line_width=2, color=color, alpha=0.2, line_dash=ls, legend_label=label)\n",
    "            line_bot = _FIGS['zeta-pzeta'].line(x=zeta_vec,y=-delta_vec, line_width=2, color=color, alpha=0.2, line_dash=ls, legend_label=label)\n",
    "            line_top.level = 'underlay'\n",
    "            line_bot.level = 'underlay'\n",
    "            # plt.plot(zeta_vec,delta_vec,'-',color='C2')\n",
    "            # plt.plot(zeta_vec,-delta_vec,'-',color='C2')\n",
    "    \n",
    "\n",
    "\n",
    "    grid = bklay.gridplot([[_FIGS['x-px'] ,_FIGS['y-py'] ,_FIGS['zeta-pzeta']]],toolbar_location='right')\n",
    "    #=====================================\n",
    "    return grid\n"
   ]
  },
  {
   "cell_type": "code",
   "execution_count": null,
   "metadata": {},
   "outputs": [],
   "source": [
    "import importlib\n",
    "importlib.reload(bkpresets)"
   ]
  },
  {
   "cell_type": "markdown",
   "metadata": {},
   "source": [
    "---\n",
    "# Loading collider for RFBucket\n",
    "---"
   ]
  },
  {
   "cell_type": "code",
   "execution_count": 2,
   "metadata": {},
   "outputs": [],
   "source": [
    "collider_path   = 'colliders/collider_BUNCH_0000.json'\n",
    "collider        = xt.Multiline.from_json(collider_path)\n",
    "line            = collider['lhcb1']\n",
    "line.build_tracker()\n",
    "rfbucket        = xPlus.RFBucket(line)\n",
    "clear_output()"
   ]
  },
  {
   "cell_type": "markdown",
   "metadata": {},
   "source": [
    "---\n",
    "# Generating particles\n",
    "---"
   ]
  },
  {
   "cell_type": "code",
   "execution_count": null,
   "metadata": {},
   "outputs": [],
   "source": []
  },
  {
   "cell_type": "code",
   "execution_count": null,
   "metadata": {},
   "outputs": [],
   "source": [
    "\n",
    "\n",
    "\n",
    "density     = 363/(2*np.pi*1)\n",
    "_generators = [pd.DataFrame({'x_sig':[0],'px_sig':[0]})]\n",
    "for r in np.linspace(1,10,10):\n",
    "    n_points = int(2*np.pi*r*density)\n",
    "    _df      = phys.polar_grid( r_sig     = [r],\n",
    "                                theta_sig = np.linspace(0,2*np.pi,n_points))\n",
    "    _generators.append(_df.rename(columns={'y_sig':'px_sig'})[['x_sig','px_sig']])\n",
    "\n",
    "\n",
    "generator = pd.concat(_generators).reset_index()\n",
    "# generator = generator.rename(columns={'y_sig':'px_sig'})[['x_sig','px_sig']]\n",
    "# generator = pd.concat([pd.DataFrame({'x_sig':[0],'px_sig':[0]}),generator]).reset_index() # Adding on axis particle\n",
    "n_part = len(generator)\n",
    "\n",
    "\n",
    "\n",
    "#distribute longitudinal\n",
    "# zeta_vec,delta_vec = rfbucket.invariant(0.09,npoints = 10000)\n",
    "# zeta_vec,delta_vec = redistribute_along(zeta_vec,delta_vec,n_points = n_part)\n",
    "# zeta_vec,delta_vec = redistribute_along(list(zeta_vec) + list(zeta_vec[::-1])[:-2],list(delta_vec) + list(-delta_vec[::-1])[:-2],n_points = n_part)\n",
    "\n",
    "\n",
    "# Initializing:\n",
    "#======================================================\n",
    "coord_df = pd.DataFrame({   'x_sig' :np.zeros(n_part),\n",
    "                            'px_sig':np.zeros(n_part),\n",
    "                            'y_sig' :np.zeros(n_part),\n",
    "                            'py_sig':np.zeros(n_part),\n",
    "                            'zeta'  :np.zeros(n_part),\n",
    "                            'delta' :np.zeros(n_part)})\n",
    "#======================================================\n",
    "\n",
    "\n",
    "# Overwriting\n",
    "coord_df.loc[:,'y_sig']  = generator.x_sig.values\n",
    "coord_df.loc[:,'py_sig'] = generator.px_sig.values\n",
    "coord_df.loc[:,'zeta']   = 2*0.09\n",
    "# coord_df.loc[:,'delta'] = delta_vec\n",
    "\n",
    "# Plotting\n",
    "coord_df.insert(5,'pzeta',xPlus.delta2pzeta(coord_df['delta'],beta0=1))\n",
    "bk.show(plot_phase_space(coord_df,rfbucket = rfbucket))\n",
    "display(coord_df)"
   ]
  },
  {
   "cell_type": "code",
   "execution_count": null,
   "metadata": {},
   "outputs": [],
   "source": [
    "coord_df.insert(0,'particle',coord_df.index)\n",
    "particle_id = coord_df.index\n",
    "\n",
    "bk.show(plot_phase_space(coord_df[coord_df.particle.isin(particle_id[::100])],rfbucket = rfbucket))"
   ]
  },
  {
   "cell_type": "markdown",
   "metadata": {},
   "source": [
    "---\n",
    "# Saving Results\n",
    "---"
   ]
  },
  {
   "cell_type": "code",
   "execution_count": null,
   "metadata": {},
   "outputs": [],
   "source": [
    "coord_df.to_parquet('particles/YPLANE_ZETA_2.parquet')"
   ]
  },
  {
   "cell_type": "code",
   "execution_count": null,
   "metadata": {},
   "outputs": [],
   "source": [
    "coord_df.to_parquet('particles/XPLANE_ZETA_0.parquet')"
   ]
  },
  {
   "cell_type": "markdown",
   "metadata": {},
   "source": [
    "---\n",
    "# Load and plot\n",
    "---"
   ]
  },
  {
   "cell_type": "code",
   "execution_count": null,
   "metadata": {},
   "outputs": [],
   "source": [
    "coord_df = xPlus.import_parquet('particles/XPLANE_ZETA_1.parquet')\n",
    "bk.show(plot_phase_space(coord_df,rfbucket = None))\n",
    "display(coord_df)"
   ]
  }
 ],
 "metadata": {
  "kernelspec": {
   "display_name": "py-BB",
   "language": "python",
   "name": "py-bb"
  },
  "language_info": {
   "codemirror_mode": {
    "name": "ipython",
    "version": 3
   },
   "file_extension": ".py",
   "mimetype": "text/x-python",
   "name": "python",
   "nbconvert_exporter": "python",
   "pygments_lexer": "ipython3",
   "version": "3.11.5"
  }
 },
 "nbformat": 4,
 "nbformat_minor": 2
}
